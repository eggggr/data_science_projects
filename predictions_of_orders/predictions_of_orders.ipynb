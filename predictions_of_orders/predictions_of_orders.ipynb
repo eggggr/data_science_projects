{
 "cells": [
  {
   "cell_type": "markdown",
   "metadata": {
    "toc": true
   },
   "source": [
    "<h1>Содержание<span class=\"tocSkip\"></span></h1>\n",
    "<div class=\"toc\"><ul class=\"toc-item\"><li><span><a href=\"#Подготовка\" data-toc-modified-id=\"Подготовка-1\"><span class=\"toc-item-num\">1&nbsp;&nbsp;</span>Подготовка</a></span><ul class=\"toc-item\"><li><span><a href=\"#Загрузим-библиотеки-и-импортируем-функции\" data-toc-modified-id=\"Загрузим-библиотеки-и-импортируем-функции-1.1\"><span class=\"toc-item-num\">1.1&nbsp;&nbsp;</span>Загрузим библиотеки и импортируем функции</a></span></li><li><span><a href=\"#Предобработка-данных\" data-toc-modified-id=\"Предобработка-данных-1.2\"><span class=\"toc-item-num\">1.2&nbsp;&nbsp;</span>Предобработка данных</a></span><ul class=\"toc-item\"><li><span><a href=\"#Загрузка-и-ознакомление-с-таблицей\" data-toc-modified-id=\"Загрузка-и-ознакомление-с-таблицей-1.2.1\"><span class=\"toc-item-num\">1.2.1&nbsp;&nbsp;</span>Загрузка и ознакомление с таблицей</a></span></li></ul></li></ul></li><li><span><a href=\"#Анализ\" data-toc-modified-id=\"Анализ-2\"><span class=\"toc-item-num\">2&nbsp;&nbsp;</span>Анализ</a></span><ul class=\"toc-item\"><li><span><a href=\"#Изучим-значения-количества-заказов-в-общем\" data-toc-modified-id=\"Изучим-значения-количества-заказов-в-общем-2.1\"><span class=\"toc-item-num\">2.1&nbsp;&nbsp;</span>Изучим значения количества заказов в общем</a></span></li><li><span><a href=\"#Построим-график-по-всем-значениям.\" data-toc-modified-id=\"Построим-график-по-всем-значениям.-2.2\"><span class=\"toc-item-num\">2.2&nbsp;&nbsp;</span>Построим график по всем значениям.</a></span></li><li><span><a href=\"#Посмотрим-на-тренды-и-сезонность:\" data-toc-modified-id=\"Посмотрим-на-тренды-и-сезонность:-2.3\"><span class=\"toc-item-num\">2.3&nbsp;&nbsp;</span>Посмотрим на тренды и сезонность:</a></span></li><li><span><a href=\"#Изучим-изменения-в-соседних-значениях\" data-toc-modified-id=\"Изучим-изменения-в-соседних-значениях-2.4\"><span class=\"toc-item-num\">2.4&nbsp;&nbsp;</span>Изучим изменения в соседних значениях</a></span></li><li><span><a href=\"#Создадим-признаков-для-обучения-модели\" data-toc-modified-id=\"Создадим-признаков-для-обучения-модели-2.5\"><span class=\"toc-item-num\">2.5&nbsp;&nbsp;</span>Создадим признаков для обучения модели</a></span></li><li><span><a href=\"#Выводы-по-этапу:\" data-toc-modified-id=\"Выводы-по-этапу:-2.6\"><span class=\"toc-item-num\">2.6&nbsp;&nbsp;</span>Выводы по этапу:</a></span></li></ul></li><li><span><a href=\"#Обучение\" data-toc-modified-id=\"Обучение-3\"><span class=\"toc-item-num\">3&nbsp;&nbsp;</span>Обучение</a></span><ul class=\"toc-item\"><li><span><a href=\"#Линейная-регрессия\" data-toc-modified-id=\"Линейная-регрессия-3.1\"><span class=\"toc-item-num\">3.1&nbsp;&nbsp;</span>Линейная регрессия</a></span></li><li><span><a href=\"#Дерево-регрессии\" data-toc-modified-id=\"Дерево-регрессии-3.2\"><span class=\"toc-item-num\">3.2&nbsp;&nbsp;</span>Дерево регрессии</a></span></li><li><span><a href=\"#Выводы-по-этапу:\" data-toc-modified-id=\"Выводы-по-этапу:-3.3\"><span class=\"toc-item-num\">3.3&nbsp;&nbsp;</span>Выводы по этапу:</a></span></li></ul></li><li><span><a href=\"#Тестирование\" data-toc-modified-id=\"Тестирование-4\"><span class=\"toc-item-num\">4&nbsp;&nbsp;</span>Тестирование</a></span></li><li><span><a href=\"#Выводы:\" data-toc-modified-id=\"Выводы:-5\"><span class=\"toc-item-num\">5&nbsp;&nbsp;</span>Выводы:</a></span></li><li><span><a href=\"#Чек-лист-проверки\" data-toc-modified-id=\"Чек-лист-проверки-6\"><span class=\"toc-item-num\">6&nbsp;&nbsp;</span>Чек-лист проверки</a></span></li></ul></div>"
   ]
  },
  {
   "cell_type": "markdown",
   "metadata": {},
   "source": [
    "#  Прогнозирование заказов такси"
   ]
  },
  {
   "cell_type": "markdown",
   "metadata": {},
   "source": [
    "Компания «Чётенькое такси» собрала исторические данные о заказах такси в аэропортах. Чтобы привлекать больше водителей в период пиковой нагрузки, нужно спрогнозировать количество заказов такси на следующий час. Постройте модель для такого предсказания.\n",
    "\n",
    "Значение метрики *RMSE* на тестовой выборке должно быть не больше 48."
   ]
  },
  {
   "cell_type": "markdown",
   "metadata": {},
   "source": [
    "## Подготовка"
   ]
  },
  {
   "cell_type": "markdown",
   "metadata": {},
   "source": [
    "### Загрузим библиотеки и импортируем функции"
   ]
  },
  {
   "cell_type": "code",
   "execution_count": 1,
   "metadata": {},
   "outputs": [
    {
     "name": "stdout",
     "output_type": "stream",
     "text": [
      "Note: you may need to restart the kernel to use updated packages.\n"
     ]
    }
   ],
   "source": [
    "pip install lightgbm -q"
   ]
  },
  {
   "cell_type": "code",
   "execution_count": 2,
   "metadata": {},
   "outputs": [
    {
     "name": "stdout",
     "output_type": "stream",
     "text": [
      "Note: you may need to restart the kernel to use updated packages.\n"
     ]
    }
   ],
   "source": [
    "pip install --upgrade scikit-learn -q "
   ]
  },
  {
   "cell_type": "code",
   "execution_count": 3,
   "metadata": {},
   "outputs": [],
   "source": [
    "!pip install optuna -q"
   ]
  },
  {
   "cell_type": "code",
   "execution_count": 4,
   "metadata": {},
   "outputs": [
    {
     "name": "stdout",
     "output_type": "stream",
     "text": [
      "Note: you may need to restart the kernel to use updated packages.\n"
     ]
    }
   ],
   "source": [
    "pip install phik -q"
   ]
  },
  {
   "cell_type": "code",
   "execution_count": 5,
   "metadata": {},
   "outputs": [
    {
     "name": "stdout",
     "output_type": "stream",
     "text": [
      "Note: you may need to restart the kernel to use updated packages.\n"
     ]
    }
   ],
   "source": [
    "pip install shap -q"
   ]
  },
  {
   "cell_type": "code",
   "execution_count": 6,
   "metadata": {},
   "outputs": [],
   "source": [
    "import pandas as pd\n",
    "import numpy as np\n",
    "import matplotlib.pyplot as plt\n",
    "import seaborn as sns\n",
    "import datetime\n",
    "\n",
    "from math import sqrt\n",
    "\n",
    "from phik import phik_matrix\n",
    "from phik.report import plot_correlation_matrix\n",
    "\n",
    "from sklearn.pipeline import Pipeline\n",
    "from sklearn.pipeline import make_pipeline\n",
    "from sklearn.compose import ColumnTransformer\n",
    "from sklearn.model_selection import train_test_split, GridSearchCV, RandomizedSearchCV, \\\n",
    "                                    cross_val_score, TimeSeriesSplit\n",
    "from sklearn.preprocessing import OneHotEncoder, OrdinalEncoder, StandardScaler, \\\n",
    "                                  MinMaxScaler, RobustScaler, LabelEncoder, PolynomialFeatures\n",
    "from sklearn.impute import SimpleImputer \n",
    "from sklearn.metrics import roc_auc_score, f1_score, fbeta_score, make_scorer, mean_squared_error\n",
    "from sklearn.tree import DecisionTreeClassifier, DecisionTreeRegressor\n",
    "from sklearn.neighbors import KNeighborsClassifier\n",
    "from sklearn.linear_model import LogisticRegression, LinearRegression\n",
    "from sklearn.svm import SVC\n",
    "from sklearn.feature_selection import SelectKBest, f_classif\n",
    "from sklearn.base import clone\n",
    "\n",
    "import shap\n",
    "\n",
    "from optuna.integration import OptunaSearchCV \n",
    "from optuna import distributions\n",
    "import optuna\n",
    "\n",
    "import lightgbm as lgb\n",
    "\n",
    "from statsmodels.tsa.seasonal import seasonal_decompose\n",
    "\n",
    "import warnings\n",
    "\n",
    "RANDOM_STATE = 42"
   ]
  },
  {
   "cell_type": "markdown",
   "metadata": {},
   "source": [
    "### Предобработка данных\n",
    "\n",
    "#### Загрузка и ознакомление с таблицей"
   ]
  },
  {
   "cell_type": "code",
   "execution_count": 7,
   "metadata": {},
   "outputs": [
    {
     "data": {
      "text/html": [
       "<div>\n",
       "<style scoped>\n",
       "    .dataframe tbody tr th:only-of-type {\n",
       "        vertical-align: middle;\n",
       "    }\n",
       "\n",
       "    .dataframe tbody tr th {\n",
       "        vertical-align: top;\n",
       "    }\n",
       "\n",
       "    .dataframe thead th {\n",
       "        text-align: right;\n",
       "    }\n",
       "</style>\n",
       "<table border=\"1\" class=\"dataframe\">\n",
       "  <thead>\n",
       "    <tr style=\"text-align: right;\">\n",
       "      <th></th>\n",
       "      <th>datetime</th>\n",
       "      <th>num_orders</th>\n",
       "    </tr>\n",
       "  </thead>\n",
       "  <tbody>\n",
       "    <tr>\n",
       "      <th>0</th>\n",
       "      <td>2018-03-01 00:00:00</td>\n",
       "      <td>9</td>\n",
       "    </tr>\n",
       "    <tr>\n",
       "      <th>1</th>\n",
       "      <td>2018-03-01 00:10:00</td>\n",
       "      <td>14</td>\n",
       "    </tr>\n",
       "    <tr>\n",
       "      <th>2</th>\n",
       "      <td>2018-03-01 00:20:00</td>\n",
       "      <td>28</td>\n",
       "    </tr>\n",
       "    <tr>\n",
       "      <th>3</th>\n",
       "      <td>2018-03-01 00:30:00</td>\n",
       "      <td>20</td>\n",
       "    </tr>\n",
       "    <tr>\n",
       "      <th>4</th>\n",
       "      <td>2018-03-01 00:40:00</td>\n",
       "      <td>32</td>\n",
       "    </tr>\n",
       "    <tr>\n",
       "      <th>5</th>\n",
       "      <td>2018-03-01 00:50:00</td>\n",
       "      <td>21</td>\n",
       "    </tr>\n",
       "    <tr>\n",
       "      <th>6</th>\n",
       "      <td>2018-03-01 01:00:00</td>\n",
       "      <td>7</td>\n",
       "    </tr>\n",
       "    <tr>\n",
       "      <th>7</th>\n",
       "      <td>2018-03-01 01:10:00</td>\n",
       "      <td>5</td>\n",
       "    </tr>\n",
       "    <tr>\n",
       "      <th>8</th>\n",
       "      <td>2018-03-01 01:20:00</td>\n",
       "      <td>17</td>\n",
       "    </tr>\n",
       "    <tr>\n",
       "      <th>9</th>\n",
       "      <td>2018-03-01 01:30:00</td>\n",
       "      <td>12</td>\n",
       "    </tr>\n",
       "    <tr>\n",
       "      <th>10</th>\n",
       "      <td>2018-03-01 01:40:00</td>\n",
       "      <td>19</td>\n",
       "    </tr>\n",
       "    <tr>\n",
       "      <th>11</th>\n",
       "      <td>2018-03-01 01:50:00</td>\n",
       "      <td>25</td>\n",
       "    </tr>\n",
       "    <tr>\n",
       "      <th>12</th>\n",
       "      <td>2018-03-01 02:00:00</td>\n",
       "      <td>22</td>\n",
       "    </tr>\n",
       "    <tr>\n",
       "      <th>13</th>\n",
       "      <td>2018-03-01 02:10:00</td>\n",
       "      <td>12</td>\n",
       "    </tr>\n",
       "    <tr>\n",
       "      <th>14</th>\n",
       "      <td>2018-03-01 02:20:00</td>\n",
       "      <td>19</td>\n",
       "    </tr>\n",
       "    <tr>\n",
       "      <th>15</th>\n",
       "      <td>2018-03-01 02:30:00</td>\n",
       "      <td>8</td>\n",
       "    </tr>\n",
       "    <tr>\n",
       "      <th>16</th>\n",
       "      <td>2018-03-01 02:40:00</td>\n",
       "      <td>6</td>\n",
       "    </tr>\n",
       "    <tr>\n",
       "      <th>17</th>\n",
       "      <td>2018-03-01 02:50:00</td>\n",
       "      <td>4</td>\n",
       "    </tr>\n",
       "    <tr>\n",
       "      <th>18</th>\n",
       "      <td>2018-03-01 03:00:00</td>\n",
       "      <td>8</td>\n",
       "    </tr>\n",
       "    <tr>\n",
       "      <th>19</th>\n",
       "      <td>2018-03-01 03:10:00</td>\n",
       "      <td>17</td>\n",
       "    </tr>\n",
       "  </tbody>\n",
       "</table>\n",
       "</div>"
      ],
      "text/plain": [
       "               datetime  num_orders\n",
       "0   2018-03-01 00:00:00           9\n",
       "1   2018-03-01 00:10:00          14\n",
       "2   2018-03-01 00:20:00          28\n",
       "3   2018-03-01 00:30:00          20\n",
       "4   2018-03-01 00:40:00          32\n",
       "5   2018-03-01 00:50:00          21\n",
       "6   2018-03-01 01:00:00           7\n",
       "7   2018-03-01 01:10:00           5\n",
       "8   2018-03-01 01:20:00          17\n",
       "9   2018-03-01 01:30:00          12\n",
       "10  2018-03-01 01:40:00          19\n",
       "11  2018-03-01 01:50:00          25\n",
       "12  2018-03-01 02:00:00          22\n",
       "13  2018-03-01 02:10:00          12\n",
       "14  2018-03-01 02:20:00          19\n",
       "15  2018-03-01 02:30:00           8\n",
       "16  2018-03-01 02:40:00           6\n",
       "17  2018-03-01 02:50:00           4\n",
       "18  2018-03-01 03:00:00           8\n",
       "19  2018-03-01 03:10:00          17"
      ]
     },
     "execution_count": 7,
     "metadata": {},
     "output_type": "execute_result"
    }
   ],
   "source": [
    "df = pd.read_csv('/datasets/taxi.csv')\n",
    "df.head(20)"
   ]
  },
  {
   "cell_type": "code",
   "execution_count": 8,
   "metadata": {},
   "outputs": [
    {
     "name": "stdout",
     "output_type": "stream",
     "text": [
      "<class 'pandas.core.frame.DataFrame'>\n",
      "RangeIndex: 26496 entries, 0 to 26495\n",
      "Data columns (total 2 columns):\n",
      " #   Column      Non-Null Count  Dtype \n",
      "---  ------      --------------  ----- \n",
      " 0   datetime    26496 non-null  object\n",
      " 1   num_orders  26496 non-null  int64 \n",
      "dtypes: int64(1), object(1)\n",
      "memory usage: 414.1+ KB\n"
     ]
    }
   ],
   "source": [
    "df.info()"
   ]
  },
  {
   "cell_type": "markdown",
   "metadata": {},
   "source": [
    "меняем первый столбец на формат даты и времени"
   ]
  },
  {
   "cell_type": "code",
   "execution_count": 9,
   "metadata": {},
   "outputs": [
    {
     "name": "stdout",
     "output_type": "stream",
     "text": [
      "<class 'pandas.core.frame.DataFrame'>\n",
      "RangeIndex: 26496 entries, 0 to 26495\n",
      "Data columns (total 2 columns):\n",
      " #   Column      Non-Null Count  Dtype         \n",
      "---  ------      --------------  -----         \n",
      " 0   datetime    26496 non-null  datetime64[ns]\n",
      " 1   num_orders  26496 non-null  int64         \n",
      "dtypes: datetime64[ns](1), int64(1)\n",
      "memory usage: 414.1 KB\n"
     ]
    }
   ],
   "source": [
    "df['datetime'] = df['datetime'].astype('datetime64')\n",
    "df.info()"
   ]
  },
  {
   "cell_type": "markdown",
   "metadata": {},
   "source": [
    "Сделаем время индексом и отсортируем"
   ]
  },
  {
   "cell_type": "code",
   "execution_count": 10,
   "metadata": {},
   "outputs": [
    {
     "data": {
      "text/html": [
       "<div>\n",
       "<style scoped>\n",
       "    .dataframe tbody tr th:only-of-type {\n",
       "        vertical-align: middle;\n",
       "    }\n",
       "\n",
       "    .dataframe tbody tr th {\n",
       "        vertical-align: top;\n",
       "    }\n",
       "\n",
       "    .dataframe thead th {\n",
       "        text-align: right;\n",
       "    }\n",
       "</style>\n",
       "<table border=\"1\" class=\"dataframe\">\n",
       "  <thead>\n",
       "    <tr style=\"text-align: right;\">\n",
       "      <th></th>\n",
       "      <th>num_orders</th>\n",
       "    </tr>\n",
       "    <tr>\n",
       "      <th>datetime</th>\n",
       "      <th></th>\n",
       "    </tr>\n",
       "  </thead>\n",
       "  <tbody>\n",
       "    <tr>\n",
       "      <th>2018-03-01 00:00:00</th>\n",
       "      <td>9</td>\n",
       "    </tr>\n",
       "    <tr>\n",
       "      <th>2018-03-01 00:10:00</th>\n",
       "      <td>14</td>\n",
       "    </tr>\n",
       "    <tr>\n",
       "      <th>2018-03-01 00:20:00</th>\n",
       "      <td>28</td>\n",
       "    </tr>\n",
       "    <tr>\n",
       "      <th>2018-03-01 00:30:00</th>\n",
       "      <td>20</td>\n",
       "    </tr>\n",
       "    <tr>\n",
       "      <th>2018-03-01 00:40:00</th>\n",
       "      <td>32</td>\n",
       "    </tr>\n",
       "  </tbody>\n",
       "</table>\n",
       "</div>"
      ],
      "text/plain": [
       "                     num_orders\n",
       "datetime                       \n",
       "2018-03-01 00:00:00           9\n",
       "2018-03-01 00:10:00          14\n",
       "2018-03-01 00:20:00          28\n",
       "2018-03-01 00:30:00          20\n",
       "2018-03-01 00:40:00          32"
      ]
     },
     "execution_count": 10,
     "metadata": {},
     "output_type": "execute_result"
    }
   ],
   "source": [
    "df.set_index('datetime', inplace=True)\n",
    "df.sort_index(inplace=True)\n",
    "df.head()"
   ]
  },
  {
   "cell_type": "markdown",
   "metadata": {},
   "source": [
    "Реемплируем по часу"
   ]
  },
  {
   "cell_type": "code",
   "execution_count": 11,
   "metadata": {},
   "outputs": [
    {
     "data": {
      "text/html": [
       "<div>\n",
       "<style scoped>\n",
       "    .dataframe tbody tr th:only-of-type {\n",
       "        vertical-align: middle;\n",
       "    }\n",
       "\n",
       "    .dataframe tbody tr th {\n",
       "        vertical-align: top;\n",
       "    }\n",
       "\n",
       "    .dataframe thead th {\n",
       "        text-align: right;\n",
       "    }\n",
       "</style>\n",
       "<table border=\"1\" class=\"dataframe\">\n",
       "  <thead>\n",
       "    <tr style=\"text-align: right;\">\n",
       "      <th></th>\n",
       "      <th>num_orders</th>\n",
       "    </tr>\n",
       "    <tr>\n",
       "      <th>datetime</th>\n",
       "      <th></th>\n",
       "    </tr>\n",
       "  </thead>\n",
       "  <tbody>\n",
       "    <tr>\n",
       "      <th>2018-03-01 00:00:00</th>\n",
       "      <td>124</td>\n",
       "    </tr>\n",
       "    <tr>\n",
       "      <th>2018-03-01 01:00:00</th>\n",
       "      <td>85</td>\n",
       "    </tr>\n",
       "    <tr>\n",
       "      <th>2018-03-01 02:00:00</th>\n",
       "      <td>71</td>\n",
       "    </tr>\n",
       "    <tr>\n",
       "      <th>2018-03-01 03:00:00</th>\n",
       "      <td>66</td>\n",
       "    </tr>\n",
       "    <tr>\n",
       "      <th>2018-03-01 04:00:00</th>\n",
       "      <td>43</td>\n",
       "    </tr>\n",
       "  </tbody>\n",
       "</table>\n",
       "</div>"
      ],
      "text/plain": [
       "                     num_orders\n",
       "datetime                       \n",
       "2018-03-01 00:00:00         124\n",
       "2018-03-01 01:00:00          85\n",
       "2018-03-01 02:00:00          71\n",
       "2018-03-01 03:00:00          66\n",
       "2018-03-01 04:00:00          43"
      ]
     },
     "execution_count": 11,
     "metadata": {},
     "output_type": "execute_result"
    }
   ],
   "source": [
    "df = df.resample('1H').sum()\n",
    "df.head()"
   ]
  },
  {
   "cell_type": "code",
   "execution_count": 12,
   "metadata": {},
   "outputs": [
    {
     "name": "stdout",
     "output_type": "stream",
     "text": [
      "<class 'pandas.core.frame.DataFrame'>\n",
      "DatetimeIndex: 4416 entries, 2018-03-01 00:00:00 to 2018-08-31 23:00:00\n",
      "Freq: H\n",
      "Data columns (total 1 columns):\n",
      " #   Column      Non-Null Count  Dtype\n",
      "---  ------      --------------  -----\n",
      " 0   num_orders  4416 non-null   int64\n",
      "dtypes: int64(1)\n",
      "memory usage: 69.0 KB\n"
     ]
    }
   ],
   "source": [
    "df.info()"
   ]
  },
  {
   "cell_type": "code",
   "execution_count": 13,
   "metadata": {},
   "outputs": [
    {
     "data": {
      "text/plain": [
       "Timestamp('2018-03-01 00:00:00', freq='H')"
      ]
     },
     "execution_count": 13,
     "metadata": {},
     "output_type": "execute_result"
    }
   ],
   "source": [
    "df.index.min()"
   ]
  },
  {
   "cell_type": "code",
   "execution_count": 14,
   "metadata": {},
   "outputs": [
    {
     "data": {
      "text/plain": [
       "Timestamp('2018-08-31 23:00:00', freq='H')"
      ]
     },
     "execution_count": 14,
     "metadata": {},
     "output_type": "execute_result"
    }
   ],
   "source": [
    "df.index.max()"
   ]
  },
  {
   "cell_type": "markdown",
   "metadata": {},
   "source": [
    "У нас данные с первого марта по тридцать первое августа 2018 года"
   ]
  },
  {
   "cell_type": "markdown",
   "metadata": {},
   "source": [
    "Подготовка данных закончена, проведем анализ"
   ]
  },
  {
   "cell_type": "markdown",
   "metadata": {},
   "source": [
    "## Анализ"
   ]
  },
  {
   "cell_type": "markdown",
   "metadata": {},
   "source": [
    "### Изучим значения количества заказов в общем"
   ]
  },
  {
   "cell_type": "code",
   "execution_count": 15,
   "metadata": {},
   "outputs": [
    {
     "data": {
      "text/html": [
       "<div>\n",
       "<style scoped>\n",
       "    .dataframe tbody tr th:only-of-type {\n",
       "        vertical-align: middle;\n",
       "    }\n",
       "\n",
       "    .dataframe tbody tr th {\n",
       "        vertical-align: top;\n",
       "    }\n",
       "\n",
       "    .dataframe thead th {\n",
       "        text-align: right;\n",
       "    }\n",
       "</style>\n",
       "<table border=\"1\" class=\"dataframe\">\n",
       "  <thead>\n",
       "    <tr style=\"text-align: right;\">\n",
       "      <th></th>\n",
       "      <th>num_orders</th>\n",
       "    </tr>\n",
       "  </thead>\n",
       "  <tbody>\n",
       "    <tr>\n",
       "      <th>count</th>\n",
       "      <td>4416.000000</td>\n",
       "    </tr>\n",
       "    <tr>\n",
       "      <th>mean</th>\n",
       "      <td>84.422781</td>\n",
       "    </tr>\n",
       "    <tr>\n",
       "      <th>std</th>\n",
       "      <td>45.023853</td>\n",
       "    </tr>\n",
       "    <tr>\n",
       "      <th>min</th>\n",
       "      <td>0.000000</td>\n",
       "    </tr>\n",
       "    <tr>\n",
       "      <th>25%</th>\n",
       "      <td>54.000000</td>\n",
       "    </tr>\n",
       "    <tr>\n",
       "      <th>50%</th>\n",
       "      <td>78.000000</td>\n",
       "    </tr>\n",
       "    <tr>\n",
       "      <th>75%</th>\n",
       "      <td>107.000000</td>\n",
       "    </tr>\n",
       "    <tr>\n",
       "      <th>max</th>\n",
       "      <td>462.000000</td>\n",
       "    </tr>\n",
       "  </tbody>\n",
       "</table>\n",
       "</div>"
      ],
      "text/plain": [
       "        num_orders\n",
       "count  4416.000000\n",
       "mean     84.422781\n",
       "std      45.023853\n",
       "min       0.000000\n",
       "25%      54.000000\n",
       "50%      78.000000\n",
       "75%     107.000000\n",
       "max     462.000000"
      ]
     },
     "execution_count": 15,
     "metadata": {},
     "output_type": "execute_result"
    }
   ],
   "source": [
    "df.describe()"
   ]
  },
  {
   "cell_type": "code",
   "execution_count": 16,
   "metadata": {},
   "outputs": [
    {
     "data": {
      "image/png": "[encoded data removed]",
      "text/plain": [
       "<Figure size 432x288 with 1 Axes>"
      ]
     },
     "metadata": {
      "needs_background": "light"
     },
     "output_type": "display_data"
    }
   ],
   "source": [
    "df.hist(bins=30)\n",
    "plt.ylabel('Количество значений с такими заказами')\n",
    "plt.xlabel('Количество заказов')\n",
    "plt.show();"
   ]
  },
  {
   "cell_type": "code",
   "execution_count": 17,
   "metadata": {},
   "outputs": [
    {
     "data": {
      "image/png": "[encoded data removed]",
      "text/plain": [
       "<Figure size 432x288 with 1 Axes>"
      ]
     },
     "metadata": {
      "needs_background": "light"
     },
     "output_type": "display_data"
    }
   ],
   "source": [
    "plt.title(f'Boxplot для количества заказов')\n",
    "df.boxplot()\n",
    "plt.ylabel('Значение')\n",
    "plt.show();"
   ]
  },
  {
   "cell_type": "markdown",
   "metadata": {},
   "source": [
    "Мы видим что у нас были часы, когда было 0 закаов, а было и по 462. По боксплоту значения выше приблизительно 190 это выбросы. Но на самом деле мы не можем удалить их.\n",
    "\n",
    "Все таки это не аномалии, а реальные значения и мы должны учитвать в предсказании что такие высокие значения могут иногда встречаться. Поэтому оставим датафрейм без изменений."
   ]
  },
  {
   "cell_type": "markdown",
   "metadata": {},
   "source": [
    "### Построим график по всем значениям."
   ]
  },
  {
   "cell_type": "code",
   "execution_count": 18,
   "metadata": {},
   "outputs": [
    {
     "data": {
      "text/plain": [
       "<AxesSubplot:xlabel='datetime'>"
      ]
     },
     "execution_count": 18,
     "metadata": {},
     "output_type": "execute_result"
    },
    {
     "data": {
      "image/png": "[encoded data removed]",
      "text/plain": [
       "<Figure size 432x288 with 1 Axes>"
      ]
     },
     "metadata": {
      "needs_background": "light"
     },
     "output_type": "display_data"
    }
   ],
   "source": [
    "df.plot()"
   ]
  },
  {
   "cell_type": "markdown",
   "metadata": {},
   "source": [
    "Вроде занчение в среднем увеличилось, но из за сильных значений это непонятно. Построим график со скользящим средним."
   ]
  },
  {
   "cell_type": "code",
   "execution_count": 19,
   "metadata": {},
   "outputs": [
    {
     "data": {
      "text/plain": [
       "<AxesSubplot:xlabel='datetime'>"
      ]
     },
     "execution_count": 19,
     "metadata": {},
     "output_type": "execute_result"
    },
    {
     "data": {
      "image/png": "[encoded data removed]",
      "text/plain": [
       "<Figure size 432x288 with 1 Axes>"
      ]
     },
     "metadata": {
      "needs_background": "light"
     },
     "output_type": "display_data"
    }
   ],
   "source": [
    "df_temp = df.rolling(10).mean()\n",
    "df_temp.plot()"
   ]
  },
  {
   "cell_type": "markdown",
   "metadata": {},
   "source": [
    "Теперь мы точно видим, что среднее увеличится, можно даже увеличить срез до 24, чтобы попадали сразу день и ночь. Это скорее сего кменьшит скачки"
   ]
  },
  {
   "cell_type": "code",
   "execution_count": 20,
   "metadata": {},
   "outputs": [
    {
     "data": {
      "text/plain": [
       "<AxesSubplot:xlabel='datetime'>"
      ]
     },
     "execution_count": 20,
     "metadata": {},
     "output_type": "execute_result"
    },
    {
     "data": {
      "image/png": "[encoded data removed]",
      "text/plain": [
       "<Figure size 432x288 with 1 Axes>"
      ]
     },
     "metadata": {
      "needs_background": "light"
     },
     "output_type": "display_data"
    }
   ],
   "source": [
    "df_temp = df.rolling(24).mean()\n",
    "df_temp.plot()"
   ]
  },
  {
   "cell_type": "markdown",
   "metadata": {},
   "source": [
    "Скачки все равно остались, но так график выглядит получше, так что оставим это.\n",
    "\n",
    "Получается количество заказов возросло почти в 3 раза за эти полгода."
   ]
  },
  {
   "cell_type": "markdown",
   "metadata": {},
   "source": [
    "### Посмотрим на тренды и сезонность:"
   ]
  },
  {
   "cell_type": "code",
   "execution_count": 21,
   "metadata": {},
   "outputs": [
    {
     "data": {
      "image/png": "[encoded data removed]",
      "text/plain": [
       "<Figure size 432x576 with 3 Axes>"
      ]
     },
     "metadata": {
      "needs_background": "light"
     },
     "output_type": "display_data"
    }
   ],
   "source": [
    "decomposed = seasonal_decompose(df) \n",
    "plt.figure(figsize=(6, 8))\n",
    "plt.subplot(311)\n",
    "decomposed.trend.plot(ax=plt.gca())\n",
    "plt.title('Trend')\n",
    "plt.subplot(312)\n",
    "decomposed.seasonal.plot(ax=plt.gca())\n",
    "plt.title('Seasonality')\n",
    "plt.subplot(313)\n",
    "decomposed.resid.plot(ax=plt.gca())\n",
    "plt.title('Residuals')\n",
    "plt.tight_layout()"
   ]
  },
  {
   "cell_type": "markdown",
   "metadata": {},
   "source": [
    "Тут на графике тренда явно видно то же увеличение в количестве заказов.\n",
    "\n",
    "График с сезонностью очень не обычен и как я понимаю он скорее говорит что сезонность почти не выражена для количества заказов.\n",
    "\n",
    "Остатки разбросаны случайно без ярковыраженных особенностей - это хороший знак что с данными все хорошо."
   ]
  },
  {
   "cell_type": "markdown",
   "metadata": {},
   "source": [
    "### Изучим изменения в соседних значениях"
   ]
  },
  {
   "cell_type": "code",
   "execution_count": 22,
   "metadata": {},
   "outputs": [
    {
     "data": {
      "text/plain": [
       "<AxesSubplot:xlabel='datetime'>"
      ]
     },
     "execution_count": 22,
     "metadata": {},
     "output_type": "execute_result"
    },
    {
     "data": {
      "image/png": "[encoded data removed]",
      "text/plain": [
       "<Figure size 432x288 with 1 Axes>"
      ]
     },
     "metadata": {
      "needs_background": "light"
     },
     "output_type": "display_data"
    }
   ],
   "source": [
    "data_temp = df - df.shift()\n",
    "data_temp['mean'] = df.rolling(15).mean()\n",
    "data_temp['std'] = df.rolling(15).std()\n",
    "data_temp.plot()"
   ]
  },
  {
   "cell_type": "markdown",
   "metadata": {},
   "source": [
    "mean увеличивается, это обьясняется увеличением количества заказов со временем. Но еще увеличивается и std. То есть разброс изменений со временем стал выше."
   ]
  },
  {
   "cell_type": "markdown",
   "metadata": {},
   "source": [
    "### Создадим признаков для обучения модели"
   ]
  },
  {
   "cell_type": "code",
   "execution_count": 23,
   "metadata": {},
   "outputs": [],
   "source": [
    "df_copy = df.copy(deep=True)"
   ]
  },
  {
   "cell_type": "markdown",
   "metadata": {},
   "source": [
    "Воспользуемся функцией с автоматическим созданием признаков с параметрами:\n",
    "\n",
    "\n",
    "1. Датасет\n",
    "2. Число столбцов со сдвигами\n",
    "3. Число для смещенного среднего"
   ]
  },
  {
   "cell_type": "code",
   "execution_count": 44,
   "metadata": {},
   "outputs": [],
   "source": [
    "def make_features(data, max_lag, rolling_mean_size):\n",
    "    data['month'] = data.index.month\n",
    "    data['day'] = data.index.day\n",
    "    data['dayofweek'] = data.index.dayofweek\n",
    "    data['hour'] = data.index.hour\n",
    "    \n",
    "    for lag in range(1, max_lag + 1):\n",
    "        data['lag_{}'.format(lag)] = data['num_orders'].shift(lag)\n",
    "\n",
    "    data['rolling_mean'] = data['num_orders'].shift(1).rolling(rolling_mean_size).mean()\n",
    "    \n"
   ]
  },
  {
   "cell_type": "code",
   "execution_count": 45,
   "metadata": {},
   "outputs": [
    {
     "name": "stdout",
     "output_type": "stream",
     "text": [
      "                     num_orders  month  day  dayofweek  hour  lag_1  lag_2  \\\n",
      "datetime                                                                     \n",
      "2018-03-01 00:00:00         124      3    1          3     0    NaN    NaN   \n",
      "2018-03-01 01:00:00          85      3    1          3     1  124.0    NaN   \n",
      "2018-03-01 02:00:00          71      3    1          3     2   85.0  124.0   \n",
      "2018-03-01 03:00:00          66      3    1          3     3   71.0   85.0   \n",
      "2018-03-01 04:00:00          43      3    1          3     4   66.0   71.0   \n",
      "\n",
      "                     lag_3  lag_4  lag_5  ...  lag_16  lag_17  lag_18  lag_19  \\\n",
      "datetime                                  ...                                   \n",
      "2018-03-01 00:00:00    NaN    NaN    NaN  ...     NaN     NaN     NaN     NaN   \n",
      "2018-03-01 01:00:00    NaN    NaN    NaN  ...     NaN     NaN     NaN     NaN   \n",
      "2018-03-01 02:00:00    NaN    NaN    NaN  ...     NaN     NaN     NaN     NaN   \n",
      "2018-03-01 03:00:00  124.0    NaN    NaN  ...     NaN     NaN     NaN     NaN   \n",
      "2018-03-01 04:00:00   85.0  124.0    NaN  ...     NaN     NaN     NaN     NaN   \n",
      "\n",
      "                     lag_20  lag_21  lag_22  lag_23  lag_24  rolling_mean  \n",
      "datetime                                                                   \n",
      "2018-03-01 00:00:00     NaN     NaN     NaN     NaN     NaN           NaN  \n",
      "2018-03-01 01:00:00     NaN     NaN     NaN     NaN     NaN           NaN  \n",
      "2018-03-01 02:00:00     NaN     NaN     NaN     NaN     NaN           NaN  \n",
      "2018-03-01 03:00:00     NaN     NaN     NaN     NaN     NaN           NaN  \n",
      "2018-03-01 04:00:00     NaN     NaN     NaN     NaN     NaN          86.5  \n",
      "\n",
      "[5 rows x 30 columns]\n"
     ]
    }
   ],
   "source": [
    "make_features(df_copy, 4, 4)\n",
    "print(df_copy.head())"
   ]
  },
  {
   "cell_type": "markdown",
   "metadata": {},
   "source": [
    "Все готово для обучения модели"
   ]
  },
  {
   "cell_type": "markdown",
   "metadata": {},
   "source": [
    "### Выводы по этапу:\n",
    "    \n",
    "1. Существует общий тренд по увеличению числа заказов.\n",
    "2. Крайние значения часила заказов это 0 и 462.\n",
    "3. Определенной сезонности не обнаружено."
   ]
  },
  {
   "cell_type": "markdown",
   "metadata": {},
   "source": [
    "## Обучение"
   ]
  },
  {
   "cell_type": "markdown",
   "metadata": {},
   "source": [
    "### Линейная регрессия "
   ]
  },
  {
   "cell_type": "markdown",
   "metadata": {},
   "source": [
    "Создадим пайплайн по подготовке данных (хорошо бы сюда засунь перебор параметров для фукнции с созданинием толбцов, но я не знаю как)"
   ]
  },
  {
   "cell_type": "code",
   "execution_count": 46,
   "metadata": {},
   "outputs": [],
   "source": [
    "tscv = TimeSeriesSplit(n_splits=5)"
   ]
  },
  {
   "cell_type": "code",
   "execution_count": 47,
   "metadata": {},
   "outputs": [],
   "source": [
    "df_copy = df.copy(deep=True)\n",
    "make_features(df_copy, 1, 1)\n",
    "X_cat_col = ['day', 'dayofweek', 'hour']\n",
    "X_num_col = df_copy.columns.drop(X_cat_col)\n",
    "X_num_col = X_num_col.drop('num_orders')"
   ]
  },
  {
   "cell_type": "code",
   "execution_count": 48,
   "metadata": {},
   "outputs": [],
   "source": [
    "ohe_pipe = Pipeline(\n",
    "    [\n",
    "        ('simpleImputer_ohe', SimpleImputer(missing_values=np.nan, strategy='most_frequent')), \n",
    "        # В наших данных пропусков нет, но это может пригодится в дальнейшем для других данных.\n",
    "        ('ohe', OneHotEncoder(drop='first', handle_unknown='ignore', sparse_output=False))\n",
    "    ]\n",
    " )\n",
    "\n",
    "# Порядковых данных у нас нет\n",
    "\n",
    "data_preprocessor = ColumnTransformer(\n",
    "    [\n",
    "        ('ohe', ohe_pipe, X_cat_col),\n",
    "        ('num', MinMaxScaler(), X_num_col)\n",
    "    ], \n",
    "    remainder='passthrough'\n",
    ")"
   ]
  },
  {
   "cell_type": "markdown",
   "metadata": {},
   "source": [
    "Начнем с линейной регрессии"
   ]
  },
  {
   "cell_type": "code",
   "execution_count": 49,
   "metadata": {},
   "outputs": [
    {
     "name": "stdout",
     "output_type": "stream",
     "text": [
      "CPU times: user 59 µs, sys: 43 µs, total: 102 µs\n",
      "Wall time: 106 µs\n"
     ]
    }
   ],
   "source": [
    "%%time\n",
    "pipe_linear = Pipeline(\n",
    "    [\n",
    "        ('preprocessor', data_preprocessor),\n",
    "        ('models', LogisticRegression(random_state=RANDOM_STATE))\n",
    "    ]\n",
    ")\n",
    "\n",
    "param_grid_linear = [\n",
    "    {\n",
    "        'models': [LogisticRegression()],\n",
    "        'preprocessor__num': [StandardScaler(), MinMaxScaler(), 'passthrough']\n",
    "    }\n",
    "]\n",
    "\n",
    "grid_search_linear = GridSearchCV(\n",
    "    pipe_linear, \n",
    "    param_grid=param_grid_linear, \n",
    "    cv=tscv,\n",
    "    scoring='neg_root_mean_squared_error',\n",
    "    n_jobs=-1\n",
    ")"
   ]
  },
  {
   "cell_type": "code",
   "execution_count": 50,
   "metadata": {},
   "outputs": [
    {
     "name": "stdout",
     "output_type": "stream",
     "text": [
      "25.36569617510662\n",
      "[24, 30]\n"
     ]
    }
   ],
   "source": [
    "warnings.filterwarnings('ignore') \n",
    "# уберем предупреждения на блок, тк он не может закодировать какой то несуществующий столбец\n",
    "\n",
    "best_params = 0\n",
    "best_score = 1000\n",
    "for i in range(1, 25):\n",
    "    for m in range(5, 31, 5):\n",
    "        df_copy = df.copy(deep=True)\n",
    "        make_features(df_copy, i, m)\n",
    "        X_cat_col = ['day', 'dayofweek', 'hour']\n",
    "# по хорошему номер месяца это тоже категориальные данные, но тк в данном случае отрезок меньше года, \n",
    "# то изменение месяца будем показывать изменение во времени.\n",
    "        X_num_col = df_copy.columns.drop(X_cat_col)\n",
    "        X_num_col = X_num_col.drop('num_orders')\n",
    "        \n",
    "        \n",
    "        data_preprocessor = ColumnTransformer(\n",
    "            [\n",
    "                ('ohe', ohe_pipe, X_cat_col),\n",
    "                ('num', MinMaxScaler(), X_num_col)\n",
    "            ], \n",
    "            remainder='passthrough'\n",
    "        )\n",
    "        \n",
    "        \n",
    "        train, test = train_test_split(df_copy, shuffle=False, test_size=0.1)\n",
    "        train = train.dropna()\n",
    "        \n",
    "        X_train = train.drop(columns=['num_orders'])\n",
    "        y_train = train['num_orders']\n",
    "        X_test = test.drop(columns=['num_orders'])\n",
    "        y_test = test['num_orders']\n",
    "        grid_search_linear.fit(X_train, y_train)\n",
    "        if grid_search_linear.best_score_ * -1 < best_score:\n",
    "            best_score = grid_search_linear.best_score_ * -1\n",
    "            best_params = [i, m]\n",
    "            \n",
    "warnings.filterwarnings('default') \n",
    "print(best_score)\n",
    "print(best_params)\n"
   ]
  },
  {
   "cell_type": "code",
   "execution_count": 51,
   "metadata": {},
   "outputs": [],
   "source": [
    "df_linear = df.copy(deep=True)\n",
    "make_features(df_linear, 24, 30)\n",
    "X_cat_col = ['day', 'dayofweek', 'hour']\n",
    "X_num_col = df_linear.columns.drop(X_cat_col)\n",
    "X_num_col = X_num_col.drop('num_orders')\n",
    "\n",
    "data_preprocessor = ColumnTransformer(\n",
    "    [\n",
    "        ('ohe', ohe_pipe, X_cat_col),\n",
    "        ('num', MinMaxScaler(), X_num_col)\n",
    "    ], \n",
    "    remainder='passthrough'\n",
    ")\n",
    "        \n",
    "        \n",
    "model_linear = Pipeline(\n",
    "    [\n",
    "        ('preprocessor', data_preprocessor),\n",
    "        ('models', LinearRegression())\n",
    "    ]\n",
    ")\n",
    "\n",
    "        \n",
    "train, test = train_test_split(df_linear, shuffle=False, test_size=0.1)\n",
    "train = train.dropna()\n",
    "\n",
    "X_train = train.drop(columns=['num_orders'])\n",
    "y_train = train['num_orders']\n",
    "X_test = test.drop(columns=['num_orders'])\n",
    "y_test = test['num_orders']"
   ]
  },
  {
   "cell_type": "code",
   "execution_count": 52,
   "metadata": {},
   "outputs": [
    {
     "name": "stdout",
     "output_type": "stream",
     "text": [
      "CPU times: user 44.7 ms, sys: 42.1 ms, total: 86.8 ms\n",
      "Wall time: 40.8 ms\n"
     ]
    },
    {
     "data": {
      "text/html": [
       "<style>#sk-container-id-3 {color: black;}#sk-container-id-3 pre{padding: 0;}#sk-container-id-3 div.sk-toggleable {background-color: white;}#sk-container-id-3 label.sk-toggleable__label {cursor: pointer;display: block;width: 100%;margin-bottom: 0;padding: 0.3em;box-sizing: border-box;text-align: center;}#sk-container-id-3 label.sk-toggleable__label-arrow:before {content: \"▸\";float: left;margin-right: 0.25em;color: #696969;}#sk-container-id-3 label.sk-toggleable__label-arrow:hover:before {color: black;}#sk-container-id-3 div.sk-estimator:hover label.sk-toggleable__label-arrow:before {color: black;}#sk-container-id-3 div.sk-toggleable__content {max-height: 0;max-width: 0;overflow: hidden;text-align: left;background-color: #f0f8ff;}#sk-container-id-3 div.sk-toggleable__content pre {margin: 0.2em;color: black;border-radius: 0.25em;background-color: #f0f8ff;}#sk-container-id-3 input.sk-toggleable__control:checked~div.sk-toggleable__content {max-height: 200px;max-width: 100%;overflow: auto;}#sk-container-id-3 input.sk-toggleable__control:checked~label.sk-toggleable__label-arrow:before {content: \"▾\";}#sk-container-id-3 div.sk-estimator input.sk-toggleable__control:checked~label.sk-toggleable__label {background-color: #d4ebff;}#sk-container-id-3 div.sk-label input.sk-toggleable__control:checked~label.sk-toggleable__label {background-color: #d4ebff;}#sk-container-id-3 input.sk-hidden--visually {border: 0;clip: rect(1px 1px 1px 1px);clip: rect(1px, 1px, 1px, 1px);height: 1px;margin: -1px;overflow: hidden;padding: 0;position: absolute;width: 1px;}#sk-container-id-3 div.sk-estimator {font-family: monospace;background-color: #f0f8ff;border: 1px dotted black;border-radius: 0.25em;box-sizing: border-box;margin-bottom: 0.5em;}#sk-container-id-3 div.sk-estimator:hover {background-color: #d4ebff;}#sk-container-id-3 div.sk-parallel-item::after {content: \"\";width: 100%;border-bottom: 1px solid gray;flex-grow: 1;}#sk-container-id-3 div.sk-label:hover label.sk-toggleable__label {background-color: #d4ebff;}#sk-container-id-3 div.sk-serial::before {content: \"\";position: absolute;border-left: 1px solid gray;box-sizing: border-box;top: 0;bottom: 0;left: 50%;z-index: 0;}#sk-container-id-3 div.sk-serial {display: flex;flex-direction: column;align-items: center;background-color: white;padding-right: 0.2em;padding-left: 0.2em;position: relative;}#sk-container-id-3 div.sk-item {position: relative;z-index: 1;}#sk-container-id-3 div.sk-parallel {display: flex;align-items: stretch;justify-content: center;background-color: white;position: relative;}#sk-container-id-3 div.sk-item::before, #sk-container-id-3 div.sk-parallel-item::before {content: \"\";position: absolute;border-left: 1px solid gray;box-sizing: border-box;top: 0;bottom: 0;left: 50%;z-index: -1;}#sk-container-id-3 div.sk-parallel-item {display: flex;flex-direction: column;z-index: 1;position: relative;background-color: white;}#sk-container-id-3 div.sk-parallel-item:first-child::after {align-self: flex-end;width: 50%;}#sk-container-id-3 div.sk-parallel-item:last-child::after {align-self: flex-start;width: 50%;}#sk-container-id-3 div.sk-parallel-item:only-child::after {width: 0;}#sk-container-id-3 div.sk-dashed-wrapped {border: 1px dashed gray;margin: 0 0.4em 0.5em 0.4em;box-sizing: border-box;padding-bottom: 0.4em;background-color: white;}#sk-container-id-3 div.sk-label label {font-family: monospace;font-weight: bold;display: inline-block;line-height: 1.2em;}#sk-container-id-3 div.sk-label-container {text-align: center;}#sk-container-id-3 div.sk-container {/* jupyter's `normalize.less` sets `[hidden] { display: none; }` but bootstrap.min.css set `[hidden] { display: none !important; }` so we also need the `!important` here to be able to override the default hidden behavior on the sphinx rendered scikit-learn.org. See: https://github.com/scikit-learn/scikit-learn/issues/21755 */display: inline-block !important;position: relative;}#sk-container-id-3 div.sk-text-repr-fallback {display: none;}</style><div id=\"sk-container-id-3\" class=\"sk-top-container\"><div class=\"sk-text-repr-fallback\"><pre>Pipeline(steps=[(&#x27;preprocessor&#x27;,\n",
       "                 ColumnTransformer(remainder=&#x27;passthrough&#x27;,\n",
       "                                   transformers=[(&#x27;ohe&#x27;,\n",
       "                                                  Pipeline(steps=[(&#x27;simpleImputer_ohe&#x27;,\n",
       "                                                                   SimpleImputer(strategy=&#x27;most_frequent&#x27;)),\n",
       "                                                                  (&#x27;ohe&#x27;,\n",
       "                                                                   OneHotEncoder(drop=&#x27;first&#x27;,\n",
       "                                                                                 handle_unknown=&#x27;ignore&#x27;,\n",
       "                                                                                 sparse_output=False))]),\n",
       "                                                  [&#x27;day&#x27;, &#x27;dayofweek&#x27;, &#x27;hour&#x27;]),\n",
       "                                                 (&#x27;num&#x27;, MinMaxScaler(),\n",
       "                                                  Index([&#x27;month&#x27;, &#x27;lag_1&#x27;, &#x27;lag_2&#x27;, &#x27;lag_3&#x27;, &#x27;lag_4&#x27;, &#x27;lag_5&#x27;, &#x27;lag_6&#x27;, &#x27;lag_7&#x27;,\n",
       "       &#x27;lag_8&#x27;, &#x27;lag_9&#x27;, &#x27;lag_10&#x27;, &#x27;lag_11&#x27;, &#x27;lag_12&#x27;, &#x27;lag_13&#x27;, &#x27;lag_14&#x27;,\n",
       "       &#x27;lag_15&#x27;, &#x27;lag_16&#x27;, &#x27;lag_17&#x27;, &#x27;lag_18&#x27;, &#x27;lag_19&#x27;, &#x27;lag_20&#x27;, &#x27;lag_21&#x27;,\n",
       "       &#x27;lag_22&#x27;, &#x27;lag_23&#x27;, &#x27;lag_24&#x27;, &#x27;rolling_mean&#x27;],\n",
       "      dtype=&#x27;object&#x27;))])),\n",
       "                (&#x27;models&#x27;, LinearRegression())])</pre><b>In a Jupyter environment, please rerun this cell to show the HTML representation or trust the notebook. <br />On GitHub, the HTML representation is unable to render, please try loading this page with nbviewer.org.</b></div><div class=\"sk-container\" hidden><div class=\"sk-item sk-dashed-wrapped\"><div class=\"sk-label-container\"><div class=\"sk-label sk-toggleable\"><input class=\"sk-toggleable__control sk-hidden--visually\" id=\"sk-estimator-id-21\" type=\"checkbox\" ><label for=\"sk-estimator-id-21\" class=\"sk-toggleable__label sk-toggleable__label-arrow\">Pipeline</label><div class=\"sk-toggleable__content\"><pre>Pipeline(steps=[(&#x27;preprocessor&#x27;,\n",
       "                 ColumnTransformer(remainder=&#x27;passthrough&#x27;,\n",
       "                                   transformers=[(&#x27;ohe&#x27;,\n",
       "                                                  Pipeline(steps=[(&#x27;simpleImputer_ohe&#x27;,\n",
       "                                                                   SimpleImputer(strategy=&#x27;most_frequent&#x27;)),\n",
       "                                                                  (&#x27;ohe&#x27;,\n",
       "                                                                   OneHotEncoder(drop=&#x27;first&#x27;,\n",
       "                                                                                 handle_unknown=&#x27;ignore&#x27;,\n",
       "                                                                                 sparse_output=False))]),\n",
       "                                                  [&#x27;day&#x27;, &#x27;dayofweek&#x27;, &#x27;hour&#x27;]),\n",
       "                                                 (&#x27;num&#x27;, MinMaxScaler(),\n",
       "                                                  Index([&#x27;month&#x27;, &#x27;lag_1&#x27;, &#x27;lag_2&#x27;, &#x27;lag_3&#x27;, &#x27;lag_4&#x27;, &#x27;lag_5&#x27;, &#x27;lag_6&#x27;, &#x27;lag_7&#x27;,\n",
       "       &#x27;lag_8&#x27;, &#x27;lag_9&#x27;, &#x27;lag_10&#x27;, &#x27;lag_11&#x27;, &#x27;lag_12&#x27;, &#x27;lag_13&#x27;, &#x27;lag_14&#x27;,\n",
       "       &#x27;lag_15&#x27;, &#x27;lag_16&#x27;, &#x27;lag_17&#x27;, &#x27;lag_18&#x27;, &#x27;lag_19&#x27;, &#x27;lag_20&#x27;, &#x27;lag_21&#x27;,\n",
       "       &#x27;lag_22&#x27;, &#x27;lag_23&#x27;, &#x27;lag_24&#x27;, &#x27;rolling_mean&#x27;],\n",
       "      dtype=&#x27;object&#x27;))])),\n",
       "                (&#x27;models&#x27;, LinearRegression())])</pre></div></div></div><div class=\"sk-serial\"><div class=\"sk-item sk-dashed-wrapped\"><div class=\"sk-label-container\"><div class=\"sk-label sk-toggleable\"><input class=\"sk-toggleable__control sk-hidden--visually\" id=\"sk-estimator-id-22\" type=\"checkbox\" ><label for=\"sk-estimator-id-22\" class=\"sk-toggleable__label sk-toggleable__label-arrow\">preprocessor: ColumnTransformer</label><div class=\"sk-toggleable__content\"><pre>ColumnTransformer(remainder=&#x27;passthrough&#x27;,\n",
       "                  transformers=[(&#x27;ohe&#x27;,\n",
       "                                 Pipeline(steps=[(&#x27;simpleImputer_ohe&#x27;,\n",
       "                                                  SimpleImputer(strategy=&#x27;most_frequent&#x27;)),\n",
       "                                                 (&#x27;ohe&#x27;,\n",
       "                                                  OneHotEncoder(drop=&#x27;first&#x27;,\n",
       "                                                                handle_unknown=&#x27;ignore&#x27;,\n",
       "                                                                sparse_output=False))]),\n",
       "                                 [&#x27;day&#x27;, &#x27;dayofweek&#x27;, &#x27;hour&#x27;]),\n",
       "                                (&#x27;num&#x27;, MinMaxScaler(),\n",
       "                                 Index([&#x27;month&#x27;, &#x27;lag_1&#x27;, &#x27;lag_2&#x27;, &#x27;lag_3&#x27;, &#x27;lag_4&#x27;, &#x27;lag_5&#x27;, &#x27;lag_6&#x27;, &#x27;lag_7&#x27;,\n",
       "       &#x27;lag_8&#x27;, &#x27;lag_9&#x27;, &#x27;lag_10&#x27;, &#x27;lag_11&#x27;, &#x27;lag_12&#x27;, &#x27;lag_13&#x27;, &#x27;lag_14&#x27;,\n",
       "       &#x27;lag_15&#x27;, &#x27;lag_16&#x27;, &#x27;lag_17&#x27;, &#x27;lag_18&#x27;, &#x27;lag_19&#x27;, &#x27;lag_20&#x27;, &#x27;lag_21&#x27;,\n",
       "       &#x27;lag_22&#x27;, &#x27;lag_23&#x27;, &#x27;lag_24&#x27;, &#x27;rolling_mean&#x27;],\n",
       "      dtype=&#x27;object&#x27;))])</pre></div></div></div><div class=\"sk-parallel\"><div class=\"sk-parallel-item\"><div class=\"sk-item\"><div class=\"sk-label-container\"><div class=\"sk-label sk-toggleable\"><input class=\"sk-toggleable__control sk-hidden--visually\" id=\"sk-estimator-id-23\" type=\"checkbox\" ><label for=\"sk-estimator-id-23\" class=\"sk-toggleable__label sk-toggleable__label-arrow\">ohe</label><div class=\"sk-toggleable__content\"><pre>[&#x27;day&#x27;, &#x27;dayofweek&#x27;, &#x27;hour&#x27;]</pre></div></div></div><div class=\"sk-serial\"><div class=\"sk-item\"><div class=\"sk-serial\"><div class=\"sk-item\"><div class=\"sk-estimator sk-toggleable\"><input class=\"sk-toggleable__control sk-hidden--visually\" id=\"sk-estimator-id-24\" type=\"checkbox\" ><label for=\"sk-estimator-id-24\" class=\"sk-toggleable__label sk-toggleable__label-arrow\">SimpleImputer</label><div class=\"sk-toggleable__content\"><pre>SimpleImputer(strategy=&#x27;most_frequent&#x27;)</pre></div></div></div><div class=\"sk-item\"><div class=\"sk-estimator sk-toggleable\"><input class=\"sk-toggleable__control sk-hidden--visually\" id=\"sk-estimator-id-25\" type=\"checkbox\" ><label for=\"sk-estimator-id-25\" class=\"sk-toggleable__label sk-toggleable__label-arrow\">OneHotEncoder</label><div class=\"sk-toggleable__content\"><pre>OneHotEncoder(drop=&#x27;first&#x27;, handle_unknown=&#x27;ignore&#x27;, sparse_output=False)</pre></div></div></div></div></div></div></div></div><div class=\"sk-parallel-item\"><div class=\"sk-item\"><div class=\"sk-label-container\"><div class=\"sk-label sk-toggleable\"><input class=\"sk-toggleable__control sk-hidden--visually\" id=\"sk-estimator-id-26\" type=\"checkbox\" ><label for=\"sk-estimator-id-26\" class=\"sk-toggleable__label sk-toggleable__label-arrow\">num</label><div class=\"sk-toggleable__content\"><pre>Index([&#x27;month&#x27;, &#x27;lag_1&#x27;, &#x27;lag_2&#x27;, &#x27;lag_3&#x27;, &#x27;lag_4&#x27;, &#x27;lag_5&#x27;, &#x27;lag_6&#x27;, &#x27;lag_7&#x27;,\n",
       "       &#x27;lag_8&#x27;, &#x27;lag_9&#x27;, &#x27;lag_10&#x27;, &#x27;lag_11&#x27;, &#x27;lag_12&#x27;, &#x27;lag_13&#x27;, &#x27;lag_14&#x27;,\n",
       "       &#x27;lag_15&#x27;, &#x27;lag_16&#x27;, &#x27;lag_17&#x27;, &#x27;lag_18&#x27;, &#x27;lag_19&#x27;, &#x27;lag_20&#x27;, &#x27;lag_21&#x27;,\n",
       "       &#x27;lag_22&#x27;, &#x27;lag_23&#x27;, &#x27;lag_24&#x27;, &#x27;rolling_mean&#x27;],\n",
       "      dtype=&#x27;object&#x27;)</pre></div></div></div><div class=\"sk-serial\"><div class=\"sk-item\"><div class=\"sk-estimator sk-toggleable\"><input class=\"sk-toggleable__control sk-hidden--visually\" id=\"sk-estimator-id-27\" type=\"checkbox\" ><label for=\"sk-estimator-id-27\" class=\"sk-toggleable__label sk-toggleable__label-arrow\">MinMaxScaler</label><div class=\"sk-toggleable__content\"><pre>MinMaxScaler()</pre></div></div></div></div></div></div><div class=\"sk-parallel-item\"><div class=\"sk-item\"><div class=\"sk-label-container\"><div class=\"sk-label sk-toggleable\"><input class=\"sk-toggleable__control sk-hidden--visually\" id=\"sk-estimator-id-28\" type=\"checkbox\" ><label for=\"sk-estimator-id-28\" class=\"sk-toggleable__label sk-toggleable__label-arrow\">remainder</label><div class=\"sk-toggleable__content\"><pre>[]</pre></div></div></div><div class=\"sk-serial\"><div class=\"sk-item\"><div class=\"sk-estimator sk-toggleable\"><input class=\"sk-toggleable__control sk-hidden--visually\" id=\"sk-estimator-id-29\" type=\"checkbox\" ><label for=\"sk-estimator-id-29\" class=\"sk-toggleable__label sk-toggleable__label-arrow\">passthrough</label><div class=\"sk-toggleable__content\"><pre>passthrough</pre></div></div></div></div></div></div></div></div><div class=\"sk-item\"><div class=\"sk-estimator sk-toggleable\"><input class=\"sk-toggleable__control sk-hidden--visually\" id=\"sk-estimator-id-30\" type=\"checkbox\" ><label for=\"sk-estimator-id-30\" class=\"sk-toggleable__label sk-toggleable__label-arrow\">LinearRegression</label><div class=\"sk-toggleable__content\"><pre>LinearRegression()</pre></div></div></div></div></div></div></div>"
      ],
      "text/plain": [
       "Pipeline(steps=[('preprocessor',\n",
       "                 ColumnTransformer(remainder='passthrough',\n",
       "                                   transformers=[('ohe',\n",
       "                                                  Pipeline(steps=[('simpleImputer_ohe',\n",
       "                                                                   SimpleImputer(strategy='most_frequent')),\n",
       "                                                                  ('ohe',\n",
       "                                                                   OneHotEncoder(drop='first',\n",
       "                                                                                 handle_unknown='ignore',\n",
       "                                                                                 sparse_output=False))]),\n",
       "                                                  ['day', 'dayofweek', 'hour']),\n",
       "                                                 ('num', MinMaxScaler(),\n",
       "                                                  Index(['month', 'lag_1', 'lag_2', 'lag_3', 'lag_4', 'lag_5', 'lag_6', 'lag_7',\n",
       "       'lag_8', 'lag_9', 'lag_10', 'lag_11', 'lag_12', 'lag_13', 'lag_14',\n",
       "       'lag_15', 'lag_16', 'lag_17', 'lag_18', 'lag_19', 'lag_20', 'lag_21',\n",
       "       'lag_22', 'lag_23', 'lag_24', 'rolling_mean'],\n",
       "      dtype='object'))])),\n",
       "                ('models', LinearRegression())])"
      ]
     },
     "execution_count": 52,
     "metadata": {},
     "output_type": "execute_result"
    }
   ],
   "source": [
    "%%time \n",
    "\n",
    "model_linear.fit(X_train, y_train)"
   ]
  },
  {
   "cell_type": "code",
   "execution_count": 53,
   "metadata": {},
   "outputs": [
    {
     "name": "stdout",
     "output_type": "stream",
     "text": [
      "CPU times: user 10.5 ms, sys: 2.56 ms, total: 13.1 ms\n",
      "Wall time: 10.2 ms\n"
     ]
    }
   ],
   "source": [
    "%%time \n",
    "\n",
    "linear_pred_train = model_linear.predict(X_train)"
   ]
  },
  {
   "cell_type": "code",
   "execution_count": 54,
   "metadata": {},
   "outputs": [
    {
     "data": {
      "text/plain": [
       "22.52893247158165"
      ]
     },
     "execution_count": 54,
     "metadata": {},
     "output_type": "execute_result"
    }
   ],
   "source": [
    "sqrt(mean_squared_error(y_train, linear_pred_train))"
   ]
  },
  {
   "cell_type": "markdown",
   "metadata": {},
   "source": [
    "Модель линейной регрессии с правильными параметрами для датафрейма получила rmse=22.5 на тренировочной выборке. Это подходит по нашим критериям.\n",
    "\n",
    "Теперь посмотрим на дерево регрессии."
   ]
  },
  {
   "cell_type": "markdown",
   "metadata": {},
   "source": [
    "### Дерево регрессии"
   ]
  },
  {
   "cell_type": "markdown",
   "metadata": {},
   "source": [
    "Для удобства параметры таблицы оставим такими же 24 и 30. Так как они показали лучший результат на линейной модели, а их перебор вместе с перебором гиперпараметрами дерева будет очень долгим.\n",
    "\n",
    "В таком случае X_train, X_test и тп уже готовы."
   ]
  },
  {
   "cell_type": "code",
   "execution_count": 79,
   "metadata": {},
   "outputs": [
    {
     "name": "stderr",
     "output_type": "stream",
     "text": [
      "[I 2024-01-01 11:26:07,534] A new study created in memory with name: no-name-cb4b140a-d054-4d96-bcd7-f77f2fd7ae3d\n",
      "Found unknown categories in columns [0] during transform. These unknown categories will be encoded as all zeros\n",
      "[I 2024-01-01 11:26:07,655] Trial 0 finished with value: -33.85852842613175 and parameters: {'max_depth': 9, 'max_features': 5, 'min_samples_leaf': 6, 'min_samples_split': 5}. Best is trial 0 with value: -33.85852842613175.\n",
      "Found unknown categories in columns [0] during transform. These unknown categories will be encoded as all zeros\n",
      "[I 2024-01-01 11:26:07,772] Trial 1 finished with value: -34.033516990064314 and parameters: {'max_depth': 6, 'max_features': 3, 'min_samples_leaf': 3, 'min_samples_split': 2}. Best is trial 0 with value: -33.85852842613175.\n",
      "Found unknown categories in columns [0] during transform. These unknown categories will be encoded as all zeros\n",
      "[I 2024-01-01 11:26:07,902] Trial 2 finished with value: -32.55772011145113 and parameters: {'max_depth': 10, 'max_features': 7, 'min_samples_leaf': 7, 'min_samples_split': 10}. Best is trial 2 with value: -32.55772011145113.\n",
      "Found unknown categories in columns [0] during transform. These unknown categories will be encoded as all zeros\n",
      "[I 2024-01-01 11:26:08,016] Trial 3 finished with value: -33.63792607080582 and parameters: {'max_depth': 9, 'max_features': 4, 'min_samples_leaf': 3, 'min_samples_split': 3}. Best is trial 2 with value: -32.55772011145113.\n",
      "Found unknown categories in columns [0] during transform. These unknown categories will be encoded as all zeros\n",
      "[I 2024-01-01 11:26:08,131] Trial 4 finished with value: -35.54358315240675 and parameters: {'max_depth': 8, 'max_features': 2, 'min_samples_leaf': 10, 'min_samples_split': 4}. Best is trial 2 with value: -32.55772011145113.\n",
      "Found unknown categories in columns [0] during transform. These unknown categories will be encoded as all zeros\n",
      "[I 2024-01-01 11:26:08,254] Trial 5 finished with value: -35.759854219472224 and parameters: {'max_depth': 4, 'max_features': 9, 'min_samples_leaf': 9, 'min_samples_split': 10}. Best is trial 2 with value: -32.55772011145113.\n",
      "Found unknown categories in columns [0] during transform. These unknown categories will be encoded as all zeros\n",
      "[I 2024-01-01 11:26:08,359] Trial 6 finished with value: -36.39800340294181 and parameters: {'max_depth': 4, 'max_features': 4, 'min_samples_leaf': 8, 'min_samples_split': 4}. Best is trial 2 with value: -32.55772011145113.\n",
      "Found unknown categories in columns [0] during transform. These unknown categories will be encoded as all zeros\n",
      "[I 2024-01-01 11:26:08,464] Trial 7 finished with value: -36.663145297941284 and parameters: {'max_depth': 6, 'max_features': 2, 'min_samples_leaf': 7, 'min_samples_split': 8}. Best is trial 2 with value: -32.55772011145113.\n",
      "Found unknown categories in columns [0] during transform. These unknown categories will be encoded as all zeros\n",
      "[I 2024-01-01 11:26:08,578] Trial 8 finished with value: -32.13141153558295 and parameters: {'max_depth': 7, 'max_features': 6, 'min_samples_leaf': 2, 'min_samples_split': 4}. Best is trial 8 with value: -32.13141153558295.\n",
      "Found unknown categories in columns [0] during transform. These unknown categories will be encoded as all zeros\n",
      "[I 2024-01-01 11:26:08,697] Trial 9 finished with value: -31.96949554004563 and parameters: {'max_depth': 9, 'max_features': 6, 'min_samples_leaf': 6, 'min_samples_split': 4}. Best is trial 9 with value: -31.96949554004563.\n",
      "Found unknown categories in columns [0] during transform. These unknown categories will be encoded as all zeros\n",
      "[I 2024-01-01 11:26:08,845] Trial 10 finished with value: -30.500464200115708 and parameters: {'max_depth': 10, 'max_features': 10, 'min_samples_leaf': 5, 'min_samples_split': 6}. Best is trial 10 with value: -30.500464200115708.\n",
      "Found unknown categories in columns [0] during transform. These unknown categories will be encoded as all zeros\n",
      "[I 2024-01-01 11:26:08,991] Trial 11 finished with value: -30.500464200115708 and parameters: {'max_depth': 10, 'max_features': 10, 'min_samples_leaf': 5, 'min_samples_split': 7}. Best is trial 10 with value: -30.500464200115708.\n",
      "Found unknown categories in columns [0] during transform. These unknown categories will be encoded as all zeros\n",
      "[I 2024-01-01 11:26:09,118] Trial 12 finished with value: -36.33789390589868 and parameters: {'max_depth': 2, 'max_features': 10, 'min_samples_leaf': 5, 'min_samples_split': 7}. Best is trial 10 with value: -30.500464200115708.\n",
      "Found unknown categories in columns [0] during transform. These unknown categories will be encoded as all zeros\n",
      "[I 2024-01-01 11:26:09,262] Trial 13 finished with value: -32.11899593940541 and parameters: {'max_depth': 10, 'max_features': 8, 'min_samples_leaf': 4, 'min_samples_split': 7}. Best is trial 10 with value: -30.500464200115708.\n",
      "Found unknown categories in columns [0] during transform. These unknown categories will be encoded as all zeros\n",
      "[I 2024-01-01 11:26:09,405] Trial 14 finished with value: -31.630686101933783 and parameters: {'max_depth': 8, 'max_features': 10, 'min_samples_leaf': 5, 'min_samples_split': 6}. Best is trial 10 with value: -30.500464200115708.\n",
      "Found unknown categories in columns [0] during transform. These unknown categories will be encoded as all zeros\n",
      "[I 2024-01-01 11:26:09,549] Trial 15 finished with value: -32.11899593940541 and parameters: {'max_depth': 10, 'max_features': 8, 'min_samples_leaf': 4, 'min_samples_split': 8}. Best is trial 10 with value: -30.500464200115708.\n",
      "Found unknown categories in columns [0] during transform. These unknown categories will be encoded as all zeros\n",
      "[I 2024-01-01 11:26:09,694] Trial 16 finished with value: -31.68431662333449 and parameters: {'max_depth': 7, 'max_features': 9, 'min_samples_leaf': 5, 'min_samples_split': 6}. Best is trial 10 with value: -30.500464200115708.\n",
      "Found unknown categories in columns [0] during transform. These unknown categories will be encoded as all zeros\n",
      "[I 2024-01-01 11:26:09,839] Trial 17 finished with value: -30.678665834229207 and parameters: {'max_depth': 8, 'max_features': 10, 'min_samples_leaf': 7, 'min_samples_split': 8}. Best is trial 10 with value: -30.500464200115708.\n",
      "Found unknown categories in columns [0] during transform. These unknown categories will be encoded as all zeros\n",
      "[I 2024-01-01 11:26:09,976] Trial 18 finished with value: -34.88329391282819 and parameters: {'max_depth': 5, 'max_features': 8, 'min_samples_leaf': 4, 'min_samples_split': 9}. Best is trial 10 with value: -30.500464200115708.\n",
      "Found unknown categories in columns [0] during transform. These unknown categories will be encoded as all zeros\n",
      "[I 2024-01-01 11:26:10,121] Trial 19 finished with value: -31.338992757148738 and parameters: {'max_depth': 10, 'max_features': 9, 'min_samples_leaf': 2, 'min_samples_split': 5}. Best is trial 10 with value: -30.500464200115708.\n",
      "Found unknown categories in columns [0] during transform. These unknown categories will be encoded as all zeros\n",
      "[I 2024-01-01 11:26:10,260] Trial 20 finished with value: -31.357655711573006 and parameters: {'max_depth': 7, 'max_features': 7, 'min_samples_leaf': 6, 'min_samples_split': 7}. Best is trial 10 with value: -30.500464200115708.\n",
      "Found unknown categories in columns [0] during transform. These unknown categories will be encoded as all zeros\n",
      "[I 2024-01-01 11:26:10,400] Trial 21 finished with value: -30.678665834229207 and parameters: {'max_depth': 8, 'max_features': 10, 'min_samples_leaf': 7, 'min_samples_split': 8}. Best is trial 10 with value: -30.500464200115708.\n",
      "Found unknown categories in columns [0] during transform. These unknown categories will be encoded as all zeros\n",
      "[I 2024-01-01 11:26:10,557] Trial 22 finished with value: -30.65060858255863 and parameters: {'max_depth': 9, 'max_features': 10, 'min_samples_leaf': 8, 'min_samples_split': 9}. Best is trial 10 with value: -30.500464200115708.\n",
      "Found unknown categories in columns [0] during transform. These unknown categories will be encoded as all zeros\n",
      "[I 2024-01-01 11:26:10,701] Trial 23 finished with value: -31.979103924070273 and parameters: {'max_depth': 9, 'max_features': 9, 'min_samples_leaf': 9, 'min_samples_split': 9}. Best is trial 10 with value: -30.500464200115708.\n",
      "Found unknown categories in columns [0] during transform. These unknown categories will be encoded as all zeros\n",
      "[I 2024-01-01 11:26:10,847] Trial 24 finished with value: -31.24628103062023 and parameters: {'max_depth': 10, 'max_features': 10, 'min_samples_leaf': 8, 'min_samples_split': 9}. Best is trial 10 with value: -30.500464200115708.\n",
      "Found unknown categories in columns [0] during transform. These unknown categories will be encoded as all zeros\n",
      "[I 2024-01-01 11:26:10,989] Trial 25 finished with value: -31.18093277704034 and parameters: {'max_depth': 9, 'max_features': 9, 'min_samples_leaf': 5, 'min_samples_split': 6}. Best is trial 10 with value: -30.500464200115708.\n",
      "Found unknown categories in columns [0] during transform. These unknown categories will be encoded as all zeros\n",
      "[I 2024-01-01 11:26:11,135] Trial 26 finished with value: -32.403433965217594 and parameters: {'max_depth': 10, 'max_features': 7, 'min_samples_leaf': 8, 'min_samples_split': 7}. Best is trial 10 with value: -30.500464200115708.\n",
      "Found unknown categories in columns [0] during transform. These unknown categories will be encoded as all zeros\n",
      "[I 2024-01-01 11:26:11,284] Trial 27 finished with value: -31.355719364559384 and parameters: {'max_depth': 9, 'max_features': 8, 'min_samples_leaf': 10, 'min_samples_split': 5}. Best is trial 10 with value: -30.500464200115708.\n",
      "Found unknown categories in columns [0] during transform. These unknown categories will be encoded as all zeros\n",
      "[I 2024-01-01 11:26:11,414] Trial 28 finished with value: -36.33789390589868 and parameters: {'max_depth': 2, 'max_features': 10, 'min_samples_leaf': 4, 'min_samples_split': 9}. Best is trial 10 with value: -30.500464200115708.\n",
      "Found unknown categories in columns [0] during transform. These unknown categories will be encoded as all zeros\n",
      "[I 2024-01-01 11:26:11,552] Trial 29 finished with value: -33.85852842613175 and parameters: {'max_depth': 9, 'max_features': 5, 'min_samples_leaf': 6, 'min_samples_split': 5}. Best is trial 10 with value: -30.500464200115708.\n",
      "Found unknown categories in columns [0] during transform. These unknown categories will be encoded as all zeros\n",
      "[I 2024-01-01 11:26:11,701] Trial 30 finished with value: -32.000957680776864 and parameters: {'max_depth': 8, 'max_features': 9, 'min_samples_leaf': 3, 'min_samples_split': 6}. Best is trial 10 with value: -30.500464200115708.\n",
      "Found unknown categories in columns [0] during transform. These unknown categories will be encoded as all zeros\n",
      "[I 2024-01-01 11:26:11,858] Trial 31 finished with value: -30.678665834229207 and parameters: {'max_depth': 8, 'max_features': 10, 'min_samples_leaf': 7, 'min_samples_split': 8}. Best is trial 10 with value: -30.500464200115708.\n",
      "Found unknown categories in columns [0] during transform. These unknown categories will be encoded as all zeros\n",
      "[I 2024-01-01 11:26:12,004] Trial 32 finished with value: -32.2124280902955 and parameters: {'max_depth': 10, 'max_features': 10, 'min_samples_leaf': 6, 'min_samples_split': 7}. Best is trial 10 with value: -30.500464200115708.\n",
      "Found unknown categories in columns [0] during transform. These unknown categories will be encoded as all zeros\n",
      "[I 2024-01-01 11:26:12,145] Trial 33 finished with value: -31.979103924070273 and parameters: {'max_depth': 9, 'max_features': 9, 'min_samples_leaf': 9, 'min_samples_split': 10}. Best is trial 10 with value: -30.500464200115708.\n",
      "Found unknown categories in columns [0] during transform. These unknown categories will be encoded as all zeros\n",
      "[I 2024-01-01 11:26:12,288] Trial 34 finished with value: -31.76920933262238 and parameters: {'max_depth': 10, 'max_features': 10, 'min_samples_leaf': 7, 'min_samples_split': 8}. Best is trial 10 with value: -30.500464200115708.\n",
      "Found unknown categories in columns [0] during transform. These unknown categories will be encoded as all zeros\n",
      "[I 2024-01-01 11:26:12,431] Trial 35 finished with value: -30.966505395727125 and parameters: {'max_depth': 8, 'max_features': 8, 'min_samples_leaf': 8, 'min_samples_split': 9}. Best is trial 10 with value: -30.500464200115708.\n",
      "Found unknown categories in columns [0] during transform. These unknown categories will be encoded as all zeros\n",
      "[I 2024-01-01 11:26:12,567] Trial 36 finished with value: -31.68431662333449 and parameters: {'max_depth': 7, 'max_features': 9, 'min_samples_leaf': 5, 'min_samples_split': 2}. Best is trial 10 with value: -30.500464200115708.\n",
      "Found unknown categories in columns [0] during transform. These unknown categories will be encoded as all zeros\n",
      "[I 2024-01-01 11:26:12,713] Trial 37 finished with value: -31.657947245796805 and parameters: {'max_depth': 9, 'max_features': 10, 'min_samples_leaf': 7, 'min_samples_split': 10}. Best is trial 10 with value: -30.500464200115708.\n",
      "Found unknown categories in columns [0] during transform. These unknown categories will be encoded as all zeros\n",
      "[I 2024-01-01 11:26:12,853] Trial 38 finished with value: -32.09304102346313 and parameters: {'max_depth': 6, 'max_features': 7, 'min_samples_leaf': 6, 'min_samples_split': 6}. Best is trial 10 with value: -30.500464200115708.\n",
      "Found unknown categories in columns [0] during transform. These unknown categories will be encoded as all zeros\n",
      "[I 2024-01-01 11:26:13,005] Trial 39 finished with value: -30.81379922478534 and parameters: {'max_depth': 10, 'max_features': 9, 'min_samples_leaf': 8, 'min_samples_split': 8}. Best is trial 10 with value: -30.500464200115708.\n",
      "Found unknown categories in columns [0] during transform. These unknown categories will be encoded as all zeros\n",
      "[I 2024-01-01 11:26:13,152] Trial 40 finished with value: -33.65457121067519 and parameters: {'max_depth': 9, 'max_features': 6, 'min_samples_leaf': 3, 'min_samples_split': 7}. Best is trial 10 with value: -30.500464200115708.\n",
      "Found unknown categories in columns [0] during transform. These unknown categories will be encoded as all zeros\n",
      "[I 2024-01-01 11:26:13,295] Trial 41 finished with value: -30.678665834229207 and parameters: {'max_depth': 8, 'max_features': 10, 'min_samples_leaf': 7, 'min_samples_split': 8}. Best is trial 10 with value: -30.500464200115708.\n",
      "Found unknown categories in columns [0] during transform. These unknown categories will be encoded as all zeros\n",
      "[I 2024-01-01 11:26:13,438] Trial 42 finished with value: -30.678665834229207 and parameters: {'max_depth': 8, 'max_features': 10, 'min_samples_leaf': 7, 'min_samples_split': 8}. Best is trial 10 with value: -30.500464200115708.\n",
      "Found unknown categories in columns [0] during transform. These unknown categories will be encoded as all zeros\n",
      "[I 2024-01-01 11:26:13,575] Trial 43 finished with value: -35.23543005760413 and parameters: {'max_depth': 9, 'max_features': 3, 'min_samples_leaf': 9, 'min_samples_split': 9}. Best is trial 10 with value: -30.500464200115708.\n",
      "Found unknown categories in columns [0] during transform. These unknown categories will be encoded as all zeros\n",
      "[I 2024-01-01 11:26:13,712] Trial 44 finished with value: -32.96080397180931 and parameters: {'max_depth': 6, 'max_features': 10, 'min_samples_leaf': 8, 'min_samples_split': 7}. Best is trial 10 with value: -30.500464200115708.\n",
      "Found unknown categories in columns [0] during transform. These unknown categories will be encoded as all zeros\n",
      "[I 2024-01-01 11:26:13,855] Trial 45 finished with value: -30.48024172547441 and parameters: {'max_depth': 8, 'max_features': 9, 'min_samples_leaf': 6, 'min_samples_split': 10}. Best is trial 45 with value: -30.48024172547441.\n",
      "Found unknown categories in columns [0] during transform. These unknown categories will be encoded as all zeros\n",
      "[I 2024-01-01 11:26:14,006] Trial 46 finished with value: -31.68431662333449 and parameters: {'max_depth': 7, 'max_features': 9, 'min_samples_leaf': 5, 'min_samples_split': 10}. Best is trial 45 with value: -30.48024172547441.\n",
      "Found unknown categories in columns [0] during transform. These unknown categories will be encoded as all zeros\n",
      "[I 2024-01-01 11:26:14,145] Trial 47 finished with value: -33.603585248866445 and parameters: {'max_depth': 5, 'max_features': 8, 'min_samples_leaf': 6, 'min_samples_split': 10}. Best is trial 45 with value: -30.48024172547441.\n",
      "Found unknown categories in columns [0] during transform. These unknown categories will be encoded as all zeros\n",
      "[I 2024-01-01 11:26:14,300] Trial 48 finished with value: -31.62832168776128 and parameters: {'max_depth': 10, 'max_features': 9, 'min_samples_leaf': 6, 'min_samples_split': 9}. Best is trial 45 with value: -30.48024172547441.\n",
      "Found unknown categories in columns [0] during transform. These unknown categories will be encoded as all zeros\n",
      "[I 2024-01-01 11:26:14,448] Trial 49 finished with value: -31.45420735427306 and parameters: {'max_depth': 10, 'max_features': 10, 'min_samples_leaf': 4, 'min_samples_split': 9}. Best is trial 45 with value: -30.48024172547441.\n",
      "Found unknown categories in columns [0] during transform. These unknown categories will be encoded as all zeros\n",
      "[I 2024-01-01 11:26:14,587] Trial 50 finished with value: -32.353962446015956 and parameters: {'max_depth': 9, 'max_features': 8, 'min_samples_leaf': 5, 'min_samples_split': 10}. Best is trial 45 with value: -30.48024172547441.\n",
      "Found unknown categories in columns [0] during transform. These unknown categories will be encoded as all zeros\n",
      "[I 2024-01-01 11:26:14,733] Trial 51 finished with value: -30.678665834229207 and parameters: {'max_depth': 8, 'max_features': 10, 'min_samples_leaf': 7, 'min_samples_split': 8}. Best is trial 45 with value: -30.48024172547441.\n",
      "Found unknown categories in columns [0] during transform. These unknown categories will be encoded as all zeros\n",
      "[I 2024-01-01 11:26:14,878] Trial 52 finished with value: -30.678665834229207 and parameters: {'max_depth': 8, 'max_features': 10, 'min_samples_leaf': 7, 'min_samples_split': 7}. Best is trial 45 with value: -30.48024172547441.\n",
      "Found unknown categories in columns [0] during transform. These unknown categories will be encoded as all zeros\n",
      "[I 2024-01-01 11:26:15,020] Trial 53 finished with value: -31.822532256615176 and parameters: {'max_depth': 7, 'max_features': 9, 'min_samples_leaf': 6, 'min_samples_split': 6}. Best is trial 45 with value: -30.48024172547441.\n",
      "Found unknown categories in columns [0] during transform. These unknown categories will be encoded as all zeros\n",
      "[I 2024-01-01 11:26:15,171] Trial 54 finished with value: -30.878176651942603 and parameters: {'max_depth': 9, 'max_features': 10, 'min_samples_leaf': 5, 'min_samples_split': 8}. Best is trial 45 with value: -30.48024172547441.\n",
      "Found unknown categories in columns [0] during transform. These unknown categories will be encoded as all zeros\n",
      "[I 2024-01-01 11:26:15,304] Trial 55 finished with value: -34.91449269358497 and parameters: {'max_depth': 3, 'max_features': 10, 'min_samples_leaf': 8, 'min_samples_split': 7}. Best is trial 45 with value: -30.48024172547441.\n",
      "Found unknown categories in columns [0] during transform. These unknown categories will be encoded as all zeros\n",
      "[I 2024-01-01 11:26:15,449] Trial 56 finished with value: -31.822532256615176 and parameters: {'max_depth': 7, 'max_features': 9, 'min_samples_leaf': 6, 'min_samples_split': 9}. Best is trial 45 with value: -30.48024172547441.\n",
      "Found unknown categories in columns [0] during transform. These unknown categories will be encoded as all zeros\n",
      "[I 2024-01-01 11:26:15,599] Trial 57 finished with value: -32.2124280902955 and parameters: {'max_depth': 10, 'max_features': 10, 'min_samples_leaf': 6, 'min_samples_split': 8}. Best is trial 45 with value: -30.48024172547441.\n",
      "Found unknown categories in columns [0] during transform. These unknown categories will be encoded as all zeros\n",
      "[I 2024-01-01 11:26:15,748] Trial 58 finished with value: -31.979103924070273 and parameters: {'max_depth': 9, 'max_features': 9, 'min_samples_leaf': 9, 'min_samples_split': 10}. Best is trial 45 with value: -30.48024172547441.\n",
      "Found unknown categories in columns [0] during transform. These unknown categories will be encoded as all zeros\n",
      "[I 2024-01-01 11:26:15,893] Trial 59 finished with value: -31.047098656343174 and parameters: {'max_depth': 8, 'max_features': 9, 'min_samples_leaf': 4, 'min_samples_split': 6}. Best is trial 45 with value: -30.48024172547441.\n",
      "Found unknown categories in columns [0] during transform. These unknown categories will be encoded as all zeros\n",
      "[I 2024-01-01 11:26:16,040] Trial 60 finished with value: -34.02033217724282 and parameters: {'max_depth': 5, 'max_features': 5, 'min_samples_leaf': 7, 'min_samples_split': 8}. Best is trial 45 with value: -30.48024172547441.\n",
      "Found unknown categories in columns [0] during transform. These unknown categories will be encoded as all zeros\n",
      "[I 2024-01-01 11:26:16,186] Trial 61 finished with value: -30.678665834229207 and parameters: {'max_depth': 8, 'max_features': 10, 'min_samples_leaf': 7, 'min_samples_split': 7}. Best is trial 45 with value: -30.48024172547441.\n",
      "Found unknown categories in columns [0] during transform. These unknown categories will be encoded as all zeros\n",
      "[I 2024-01-01 11:26:16,337] Trial 62 finished with value: -30.678665834229207 and parameters: {'max_depth': 8, 'max_features': 10, 'min_samples_leaf': 7, 'min_samples_split': 9}. Best is trial 45 with value: -30.48024172547441.\n",
      "Found unknown categories in columns [0] during transform. These unknown categories will be encoded as all zeros\n",
      "[I 2024-01-01 11:26:16,484] Trial 63 finished with value: -31.630686101933783 and parameters: {'max_depth': 8, 'max_features': 10, 'min_samples_leaf': 5, 'min_samples_split': 8}. Best is trial 45 with value: -30.48024172547441.\n",
      "Found unknown categories in columns [0] during transform. These unknown categories will be encoded as all zeros\n",
      "[I 2024-01-01 11:26:16,625] Trial 64 finished with value: -31.370049451370825 and parameters: {'max_depth': 7, 'max_features': 9, 'min_samples_leaf': 8, 'min_samples_split': 8}. Best is trial 45 with value: -30.48024172547441.\n",
      "Found unknown categories in columns [0] during transform. These unknown categories will be encoded as all zeros\n",
      "[I 2024-01-01 11:26:16,782] Trial 65 finished with value: -31.888376444104978 and parameters: {'max_depth': 9, 'max_features': 10, 'min_samples_leaf': 6, 'min_samples_split': 9}. Best is trial 45 with value: -30.48024172547441.\n",
      "Found unknown categories in columns [0] during transform. These unknown categories will be encoded as all zeros\n",
      "[I 2024-01-01 11:26:16,936] Trial 66 finished with value: -31.24628103062023 and parameters: {'max_depth': 10, 'max_features': 10, 'min_samples_leaf': 8, 'min_samples_split': 7}. Best is trial 45 with value: -30.48024172547441.\n",
      "Found unknown categories in columns [0] during transform. These unknown categories will be encoded as all zeros\n",
      "[I 2024-01-01 11:26:17,075] Trial 67 finished with value: -35.13456359733601 and parameters: {'max_depth': 9, 'max_features': 4, 'min_samples_leaf': 7, 'min_samples_split': 8}. Best is trial 45 with value: -30.48024172547441.\n",
      "Found unknown categories in columns [0] during transform. These unknown categories will be encoded as all zeros\n",
      "[I 2024-01-01 11:26:17,227] Trial 68 finished with value: -30.500464200115708 and parameters: {'max_depth': 10, 'max_features': 10, 'min_samples_leaf': 5, 'min_samples_split': 5}. Best is trial 45 with value: -30.48024172547441.\n",
      "Found unknown categories in columns [0] during transform. These unknown categories will be encoded as all zeros\n",
      "[I 2024-01-01 11:26:17,384] Trial 69 finished with value: -31.656936385927793 and parameters: {'max_depth': 10, 'max_features': 9, 'min_samples_leaf': 5, 'min_samples_split': 4}. Best is trial 45 with value: -30.48024172547441.\n",
      "Found unknown categories in columns [0] during transform. These unknown categories will be encoded as all zeros\n",
      "[I 2024-01-01 11:26:17,537] Trial 70 finished with value: -30.500464200115708 and parameters: {'max_depth': 10, 'max_features': 10, 'min_samples_leaf': 5, 'min_samples_split': 5}. Best is trial 45 with value: -30.48024172547441.\n",
      "Found unknown categories in columns [0] during transform. These unknown categories will be encoded as all zeros\n",
      "[I 2024-01-01 11:26:17,689] Trial 71 finished with value: -31.2698943488032 and parameters: {'max_depth': 10, 'max_features': 10, 'min_samples_leaf': 4, 'min_samples_split': 5}. Best is trial 45 with value: -30.48024172547441.\n",
      "Found unknown categories in columns [0] during transform. These unknown categories will be encoded as all zeros\n",
      "[I 2024-01-01 11:26:17,855] Trial 72 finished with value: -30.500464200115708 and parameters: {'max_depth': 10, 'max_features': 10, 'min_samples_leaf': 5, 'min_samples_split': 5}. Best is trial 45 with value: -30.48024172547441.\n",
      "Found unknown categories in columns [0] during transform. These unknown categories will be encoded as all zeros\n",
      "[I 2024-01-01 11:26:18,020] Trial 73 finished with value: -30.500464200115708 and parameters: {'max_depth': 10, 'max_features': 10, 'min_samples_leaf': 5, 'min_samples_split': 4}. Best is trial 45 with value: -30.48024172547441.\n",
      "Found unknown categories in columns [0] during transform. These unknown categories will be encoded as all zeros\n",
      "[I 2024-01-01 11:26:18,177] Trial 74 finished with value: -30.500464200115708 and parameters: {'max_depth': 10, 'max_features': 10, 'min_samples_leaf': 5, 'min_samples_split': 3}. Best is trial 45 with value: -30.48024172547441.\n",
      "Found unknown categories in columns [0] during transform. These unknown categories will be encoded as all zeros\n",
      "[I 2024-01-01 11:26:18,326] Trial 75 finished with value: -30.500464200115708 and parameters: {'max_depth': 10, 'max_features': 10, 'min_samples_leaf': 5, 'min_samples_split': 3}. Best is trial 45 with value: -30.48024172547441.\n",
      "Found unknown categories in columns [0] during transform. These unknown categories will be encoded as all zeros\n",
      "[I 2024-01-01 11:26:18,472] Trial 76 finished with value: -31.656936385927793 and parameters: {'max_depth': 10, 'max_features': 9, 'min_samples_leaf': 5, 'min_samples_split': 3}. Best is trial 45 with value: -30.48024172547441.\n",
      "Found unknown categories in columns [0] during transform. These unknown categories will be encoded as all zeros\n",
      "[I 2024-01-01 11:26:18,620] Trial 77 finished with value: -31.2698943488032 and parameters: {'max_depth': 10, 'max_features': 10, 'min_samples_leaf': 4, 'min_samples_split': 3}. Best is trial 45 with value: -30.48024172547441.\n",
      "Found unknown categories in columns [0] during transform. These unknown categories will be encoded as all zeros\n",
      "[I 2024-01-01 11:26:18,770] Trial 78 finished with value: -31.656936385927793 and parameters: {'max_depth': 10, 'max_features': 9, 'min_samples_leaf': 5, 'min_samples_split': 4}. Best is trial 45 with value: -30.48024172547441.\n",
      "Found unknown categories in columns [0] during transform. These unknown categories will be encoded as all zeros\n",
      "[I 2024-01-01 11:26:18,916] Trial 79 finished with value: -31.2698943488032 and parameters: {'max_depth': 10, 'max_features': 10, 'min_samples_leaf': 4, 'min_samples_split': 5}. Best is trial 45 with value: -30.48024172547441.\n",
      "Found unknown categories in columns [0] during transform. These unknown categories will be encoded as all zeros\n",
      "[I 2024-01-01 11:26:19,067] Trial 80 finished with value: -31.656936385927793 and parameters: {'max_depth': 10, 'max_features': 9, 'min_samples_leaf': 5, 'min_samples_split': 4}. Best is trial 45 with value: -30.48024172547441.\n",
      "Found unknown categories in columns [0] during transform. These unknown categories will be encoded as all zeros\n",
      "[I 2024-01-01 11:26:19,224] Trial 81 finished with value: -30.500464200115708 and parameters: {'max_depth': 10, 'max_features': 10, 'min_samples_leaf': 5, 'min_samples_split': 3}. Best is trial 45 with value: -30.48024172547441.\n",
      "Found unknown categories in columns [0] during transform. These unknown categories will be encoded as all zeros\n",
      "[I 2024-01-01 11:26:19,375] Trial 82 finished with value: -30.500464200115708 and parameters: {'max_depth': 10, 'max_features': 10, 'min_samples_leaf': 5, 'min_samples_split': 2}. Best is trial 45 with value: -30.48024172547441.\n",
      "Found unknown categories in columns [0] during transform. These unknown categories will be encoded as all zeros\n",
      "[I 2024-01-01 11:26:19,531] Trial 83 finished with value: -30.500464200115708 and parameters: {'max_depth': 10, 'max_features': 10, 'min_samples_leaf': 5, 'min_samples_split': 5}. Best is trial 45 with value: -30.48024172547441.\n",
      "Found unknown categories in columns [0] during transform. These unknown categories will be encoded as all zeros\n",
      "[I 2024-01-01 11:26:19,691] Trial 84 finished with value: -31.2698943488032 and parameters: {'max_depth': 10, 'max_features': 10, 'min_samples_leaf': 4, 'min_samples_split': 3}. Best is trial 45 with value: -30.48024172547441.\n",
      "Found unknown categories in columns [0] during transform. These unknown categories will be encoded as all zeros\n",
      "[I 2024-01-01 11:26:19,837] Trial 85 finished with value: -30.878176651942603 and parameters: {'max_depth': 9, 'max_features': 10, 'min_samples_leaf': 5, 'min_samples_split': 4}. Best is trial 45 with value: -30.48024172547441.\n",
      "Found unknown categories in columns [0] during transform. These unknown categories will be encoded as all zeros\n",
      "[I 2024-01-01 11:26:19,990] Trial 86 finished with value: -31.62832168776128 and parameters: {'max_depth': 10, 'max_features': 9, 'min_samples_leaf': 6, 'min_samples_split': 4}. Best is trial 45 with value: -30.48024172547441.\n",
      "Found unknown categories in columns [0] during transform. These unknown categories will be encoded as all zeros\n",
      "[I 2024-01-01 11:26:20,140] Trial 87 finished with value: -31.2698943488032 and parameters: {'max_depth': 10, 'max_features': 10, 'min_samples_leaf': 4, 'min_samples_split': 5}. Best is trial 45 with value: -30.48024172547441.\n",
      "Found unknown categories in columns [0] during transform. These unknown categories will be encoded as all zeros\n",
      "[I 2024-01-01 11:26:20,273] Trial 88 finished with value: -35.70348064701081 and parameters: {'max_depth': 10, 'max_features': 2, 'min_samples_leaf': 5, 'min_samples_split': 3}. Best is trial 45 with value: -30.48024172547441.\n",
      "Found unknown categories in columns [0] during transform. These unknown categories will be encoded as all zeros\n",
      "[I 2024-01-01 11:26:20,422] Trial 89 finished with value: -31.96949554004563 and parameters: {'max_depth': 9, 'max_features': 6, 'min_samples_leaf': 6, 'min_samples_split': 6}. Best is trial 45 with value: -30.48024172547441.\n",
      "Found unknown categories in columns [0] during transform. These unknown categories will be encoded as all zeros\n",
      "[I 2024-01-01 11:26:20,575] Trial 90 finished with value: -30.878176651942603 and parameters: {'max_depth': 9, 'max_features': 10, 'min_samples_leaf': 5, 'min_samples_split': 2}. Best is trial 45 with value: -30.48024172547441.\n",
      "Found unknown categories in columns [0] during transform. These unknown categories will be encoded as all zeros\n",
      "[I 2024-01-01 11:26:20,727] Trial 91 finished with value: -30.500464200115708 and parameters: {'max_depth': 10, 'max_features': 10, 'min_samples_leaf': 5, 'min_samples_split': 3}. Best is trial 45 with value: -30.48024172547441.\n",
      "Found unknown categories in columns [0] during transform. These unknown categories will be encoded as all zeros\n",
      "[I 2024-01-01 11:26:20,861] Trial 92 finished with value: -34.95918683261341 and parameters: {'max_depth': 10, 'max_features': 3, 'min_samples_leaf': 5, 'min_samples_split': 3}. Best is trial 45 with value: -30.48024172547441.\n",
      "Found unknown categories in columns [0] during transform. These unknown categories will be encoded as all zeros\n",
      "[I 2024-01-01 11:26:21,010] Trial 93 finished with value: -31.2698943488032 and parameters: {'max_depth': 10, 'max_features': 10, 'min_samples_leaf': 4, 'min_samples_split': 5}. Best is trial 45 with value: -30.48024172547441.\n",
      "Found unknown categories in columns [0] during transform. These unknown categories will be encoded as all zeros\n",
      "[I 2024-01-01 11:26:21,175] Trial 94 finished with value: -30.500464200115708 and parameters: {'max_depth': 10, 'max_features': 10, 'min_samples_leaf': 5, 'min_samples_split': 5}. Best is trial 45 with value: -30.48024172547441.\n",
      "Found unknown categories in columns [0] during transform. These unknown categories will be encoded as all zeros\n",
      "[I 2024-01-01 11:26:21,320] Trial 95 finished with value: -30.878176651942603 and parameters: {'max_depth': 9, 'max_features': 10, 'min_samples_leaf': 5, 'min_samples_split': 4}. Best is trial 45 with value: -30.48024172547441.\n",
      "Found unknown categories in columns [0] during transform. These unknown categories will be encoded as all zeros\n",
      "[I 2024-01-01 11:26:21,469] Trial 96 finished with value: -31.62832168776128 and parameters: {'max_depth': 10, 'max_features': 9, 'min_samples_leaf': 6, 'min_samples_split': 3}. Best is trial 45 with value: -30.48024172547441.\n",
      "Found unknown categories in columns [0] during transform. These unknown categories will be encoded as all zeros\n",
      "[I 2024-01-01 11:26:21,623] Trial 97 finished with value: -31.2698943488032 and parameters: {'max_depth': 10, 'max_features': 10, 'min_samples_leaf': 4, 'min_samples_split': 2}. Best is trial 45 with value: -30.48024172547441.\n",
      "Found unknown categories in columns [0] during transform. These unknown categories will be encoded as all zeros\n",
      "[I 2024-01-01 11:26:21,775] Trial 98 finished with value: -30.878176651942603 and parameters: {'max_depth': 9, 'max_features': 10, 'min_samples_leaf': 5, 'min_samples_split': 6}. Best is trial 45 with value: -30.48024172547441.\n",
      "Found unknown categories in columns [0] during transform. These unknown categories will be encoded as all zeros\n",
      "[I 2024-01-01 11:26:21,931] Trial 99 finished with value: -31.62832168776128 and parameters: {'max_depth': 10, 'max_features': 9, 'min_samples_leaf': 6, 'min_samples_split': 4}. Best is trial 45 with value: -30.48024172547441.\n",
      "Found unknown categories in columns [0] during transform. These unknown categories will be encoded as all zeros\n",
      "[I 2024-01-01 11:26:22,078] Trial 100 finished with value: -30.878176651942603 and parameters: {'max_depth': 9, 'max_features': 10, 'min_samples_leaf': 5, 'min_samples_split': 4}. Best is trial 45 with value: -30.48024172547441.\n",
      "Found unknown categories in columns [0] during transform. These unknown categories will be encoded as all zeros\n",
      "[I 2024-01-01 11:26:22,222] Trial 101 finished with value: -30.500464200115708 and parameters: {'max_depth': 10, 'max_features': 10, 'min_samples_leaf': 5, 'min_samples_split': 2}. Best is trial 45 with value: -30.48024172547441.\n",
      "Found unknown categories in columns [0] during transform. These unknown categories will be encoded as all zeros\n",
      "[I 2024-01-01 11:26:22,372] Trial 102 finished with value: -30.500464200115708 and parameters: {'max_depth': 10, 'max_features': 10, 'min_samples_leaf': 5, 'min_samples_split': 2}. Best is trial 45 with value: -30.48024172547441.\n",
      "Found unknown categories in columns [0] during transform. These unknown categories will be encoded as all zeros\n",
      "[I 2024-01-01 11:26:22,522] Trial 103 finished with value: -30.500464200115708 and parameters: {'max_depth': 10, 'max_features': 10, 'min_samples_leaf': 5, 'min_samples_split': 3}. Best is trial 45 with value: -30.48024172547441.\n",
      "Found unknown categories in columns [0] during transform. These unknown categories will be encoded as all zeros\n",
      "[I 2024-01-01 11:26:22,672] Trial 104 finished with value: -30.500464200115708 and parameters: {'max_depth': 10, 'max_features': 10, 'min_samples_leaf': 5, 'min_samples_split': 2}. Best is trial 45 with value: -30.48024172547441.\n",
      "Found unknown categories in columns [0] during transform. These unknown categories will be encoded as all zeros\n",
      "[I 2024-01-01 11:26:22,835] Trial 105 finished with value: -31.2698943488032 and parameters: {'max_depth': 10, 'max_features': 10, 'min_samples_leaf': 4, 'min_samples_split': 5}. Best is trial 45 with value: -30.48024172547441.\n",
      "Found unknown categories in columns [0] during transform. These unknown categories will be encoded as all zeros\n",
      "[I 2024-01-01 11:26:22,993] Trial 106 finished with value: -31.611546742795632 and parameters: {'max_depth': 9, 'max_features': 9, 'min_samples_leaf': 6, 'min_samples_split': 3}. Best is trial 45 with value: -30.48024172547441.\n",
      "Found unknown categories in columns [0] during transform. These unknown categories will be encoded as all zeros\n",
      "[I 2024-01-01 11:26:23,140] Trial 107 finished with value: -30.500464200115708 and parameters: {'max_depth': 10, 'max_features': 10, 'min_samples_leaf': 5, 'min_samples_split': 6}. Best is trial 45 with value: -30.48024172547441.\n",
      "Found unknown categories in columns [0] during transform. These unknown categories will be encoded as all zeros\n",
      "[I 2024-01-01 11:26:23,274] Trial 108 finished with value: -33.3852887241541 and parameters: {'max_depth': 4, 'max_features': 7, 'min_samples_leaf': 6, 'min_samples_split': 5}. Best is trial 45 with value: -30.48024172547441.\n",
      "Found unknown categories in columns [0] during transform. These unknown categories will be encoded as all zeros\n",
      "[I 2024-01-01 11:26:23,421] Trial 109 finished with value: -31.2698943488032 and parameters: {'max_depth': 10, 'max_features': 10, 'min_samples_leaf': 4, 'min_samples_split': 4}. Best is trial 45 with value: -30.48024172547441.\n",
      "Found unknown categories in columns [0] during transform. These unknown categories will be encoded as all zeros\n",
      "[I 2024-01-01 11:26:23,573] Trial 110 finished with value: -31.213138011853346 and parameters: {'max_depth': 10, 'max_features': 9, 'min_samples_leaf': 3, 'min_samples_split': 2}. Best is trial 45 with value: -30.48024172547441.\n",
      "Found unknown categories in columns [0] during transform. These unknown categories will be encoded as all zeros\n",
      "[I 2024-01-01 11:26:23,724] Trial 111 finished with value: -30.500464200115708 and parameters: {'max_depth': 10, 'max_features': 10, 'min_samples_leaf': 5, 'min_samples_split': 5}. Best is trial 45 with value: -30.48024172547441.\n",
      "Found unknown categories in columns [0] during transform. These unknown categories will be encoded as all zeros\n",
      "[I 2024-01-01 11:26:23,872] Trial 112 finished with value: -30.500464200115708 and parameters: {'max_depth': 10, 'max_features': 10, 'min_samples_leaf': 5, 'min_samples_split': 5}. Best is trial 45 with value: -30.48024172547441.\n",
      "Found unknown categories in columns [0] during transform. These unknown categories will be encoded as all zeros\n",
      "[I 2024-01-01 11:26:24,028] Trial 113 finished with value: -30.500464200115708 and parameters: {'max_depth': 10, 'max_features': 10, 'min_samples_leaf': 5, 'min_samples_split': 5}. Best is trial 45 with value: -30.48024172547441.\n",
      "Found unknown categories in columns [0] during transform. These unknown categories will be encoded as all zeros\n",
      "[I 2024-01-01 11:26:24,192] Trial 114 finished with value: -30.500464200115708 and parameters: {'max_depth': 10, 'max_features': 10, 'min_samples_leaf': 5, 'min_samples_split': 6}. Best is trial 45 with value: -30.48024172547441.\n",
      "Found unknown categories in columns [0] during transform. These unknown categories will be encoded as all zeros\n",
      "[I 2024-01-01 11:26:24,343] Trial 115 finished with value: -30.878176651942603 and parameters: {'max_depth': 9, 'max_features': 10, 'min_samples_leaf': 5, 'min_samples_split': 3}. Best is trial 45 with value: -30.48024172547441.\n",
      "Found unknown categories in columns [0] during transform. These unknown categories will be encoded as all zeros\n",
      "[I 2024-01-01 11:26:24,495] Trial 116 finished with value: -30.500464200115708 and parameters: {'max_depth': 10, 'max_features': 10, 'min_samples_leaf': 5, 'min_samples_split': 4}. Best is trial 45 with value: -30.48024172547441.\n",
      "Found unknown categories in columns [0] during transform. These unknown categories will be encoded as all zeros\n",
      "[I 2024-01-01 11:26:24,646] Trial 117 finished with value: -31.97138669921996 and parameters: {'max_depth': 10, 'max_features': 9, 'min_samples_leaf': 4, 'min_samples_split': 5}. Best is trial 45 with value: -30.48024172547441.\n",
      "Found unknown categories in columns [0] during transform. These unknown categories will be encoded as all zeros\n",
      "[I 2024-01-01 11:26:24,798] Trial 118 finished with value: -30.878176651942603 and parameters: {'max_depth': 9, 'max_features': 10, 'min_samples_leaf': 5, 'min_samples_split': 6}. Best is trial 45 with value: -30.48024172547441.\n",
      "Found unknown categories in columns [0] during transform. These unknown categories will be encoded as all zeros\n",
      "[I 2024-01-01 11:26:24,949] Trial 119 finished with value: -31.62832168776128 and parameters: {'max_depth': 10, 'max_features': 9, 'min_samples_leaf': 6, 'min_samples_split': 5}. Best is trial 45 with value: -30.48024172547441.\n",
      "Found unknown categories in columns [0] during transform. These unknown categories will be encoded as all zeros\n",
      "[I 2024-01-01 11:26:25,107] Trial 120 finished with value: -32.2124280902955 and parameters: {'max_depth': 10, 'max_features': 10, 'min_samples_leaf': 6, 'min_samples_split': 3}. Best is trial 45 with value: -30.48024172547441.\n",
      "Found unknown categories in columns [0] during transform. These unknown categories will be encoded as all zeros\n",
      "[I 2024-01-01 11:26:25,259] Trial 121 finished with value: -30.500464200115708 and parameters: {'max_depth': 10, 'max_features': 10, 'min_samples_leaf': 5, 'min_samples_split': 3}. Best is trial 45 with value: -30.48024172547441.\n",
      "Found unknown categories in columns [0] during transform. These unknown categories will be encoded as all zeros\n",
      "[I 2024-01-01 11:26:25,411] Trial 122 finished with value: -30.500464200115708 and parameters: {'max_depth': 10, 'max_features': 10, 'min_samples_leaf': 5, 'min_samples_split': 3}. Best is trial 45 with value: -30.48024172547441.\n",
      "Found unknown categories in columns [0] during transform. These unknown categories will be encoded as all zeros\n",
      "[I 2024-01-01 11:26:25,562] Trial 123 finished with value: -30.500464200115708 and parameters: {'max_depth': 10, 'max_features': 10, 'min_samples_leaf': 5, 'min_samples_split': 3}. Best is trial 45 with value: -30.48024172547441.\n",
      "Found unknown categories in columns [0] during transform. These unknown categories will be encoded as all zeros\n",
      "[I 2024-01-01 11:26:25,717] Trial 124 finished with value: -30.500464200115708 and parameters: {'max_depth': 10, 'max_features': 10, 'min_samples_leaf': 5, 'min_samples_split': 4}. Best is trial 45 with value: -30.48024172547441.\n",
      "Found unknown categories in columns [0] during transform. These unknown categories will be encoded as all zeros\n",
      "[I 2024-01-01 11:26:25,869] Trial 125 finished with value: -32.2064529210438 and parameters: {'max_depth': 6, 'max_features': 10, 'min_samples_leaf': 5, 'min_samples_split': 2}. Best is trial 45 with value: -30.48024172547441.\n",
      "Found unknown categories in columns [0] during transform. These unknown categories will be encoded as all zeros\n",
      "[I 2024-01-01 11:26:26,024] Trial 126 finished with value: -30.500464200115708 and parameters: {'max_depth': 10, 'max_features': 10, 'min_samples_leaf': 5, 'min_samples_split': 4}. Best is trial 45 with value: -30.48024172547441.\n",
      "Found unknown categories in columns [0] during transform. These unknown categories will be encoded as all zeros\n",
      "[I 2024-01-01 11:26:26,183] Trial 127 finished with value: -30.52166306602502 and parameters: {'max_depth': 9, 'max_features': 10, 'min_samples_leaf': 4, 'min_samples_split': 6}. Best is trial 45 with value: -30.48024172547441.\n",
      "Found unknown categories in columns [0] during transform. These unknown categories will be encoded as all zeros\n",
      "[I 2024-01-01 11:26:26,337] Trial 128 finished with value: -30.500464200115708 and parameters: {'max_depth': 10, 'max_features': 10, 'min_samples_leaf': 5, 'min_samples_split': 5}. Best is trial 45 with value: -30.48024172547441.\n",
      "Found unknown categories in columns [0] during transform. These unknown categories will be encoded as all zeros\n",
      "[I 2024-01-01 11:26:26,489] Trial 129 finished with value: -31.050005633534756 and parameters: {'max_depth': 10, 'max_features': 9, 'min_samples_leaf': 10, 'min_samples_split': 3}. Best is trial 45 with value: -30.48024172547441.\n",
      "Found unknown categories in columns [0] during transform. These unknown categories will be encoded as all zeros\n",
      "[I 2024-01-01 11:26:26,643] Trial 130 finished with value: -32.2124280902955 and parameters: {'max_depth': 10, 'max_features': 10, 'min_samples_leaf': 6, 'min_samples_split': 3}. Best is trial 45 with value: -30.48024172547441.\n",
      "Found unknown categories in columns [0] during transform. These unknown categories will be encoded as all zeros\n",
      "[I 2024-01-01 11:26:26,791] Trial 131 finished with value: -30.500464200115708 and parameters: {'max_depth': 10, 'max_features': 10, 'min_samples_leaf': 5, 'min_samples_split': 5}. Best is trial 45 with value: -30.48024172547441.\n",
      "Found unknown categories in columns [0] during transform. These unknown categories will be encoded as all zeros\n",
      "[I 2024-01-01 11:26:26,945] Trial 132 finished with value: -30.500464200115708 and parameters: {'max_depth': 10, 'max_features': 10, 'min_samples_leaf': 5, 'min_samples_split': 5}. Best is trial 45 with value: -30.48024172547441.\n",
      "Found unknown categories in columns [0] during transform. These unknown categories will be encoded as all zeros\n",
      "[I 2024-01-01 11:26:27,095] Trial 133 finished with value: -30.500464200115708 and parameters: {'max_depth': 10, 'max_features': 10, 'min_samples_leaf': 5, 'min_samples_split': 4}. Best is trial 45 with value: -30.48024172547441.\n",
      "Found unknown categories in columns [0] during transform. These unknown categories will be encoded as all zeros\n",
      "[I 2024-01-01 11:26:27,245] Trial 134 finished with value: -30.500464200115708 and parameters: {'max_depth': 10, 'max_features': 10, 'min_samples_leaf': 5, 'min_samples_split': 5}. Best is trial 45 with value: -30.48024172547441.\n",
      "Found unknown categories in columns [0] during transform. These unknown categories will be encoded as all zeros\n",
      "[I 2024-01-01 11:26:27,397] Trial 135 finished with value: -30.52166306602502 and parameters: {'max_depth': 9, 'max_features': 10, 'min_samples_leaf': 4, 'min_samples_split': 5}. Best is trial 45 with value: -30.48024172547441.\n",
      "Found unknown categories in columns [0] during transform. These unknown categories will be encoded as all zeros\n",
      "[I 2024-01-01 11:26:27,556] Trial 136 finished with value: -30.500464200115708 and parameters: {'max_depth': 10, 'max_features': 10, 'min_samples_leaf': 5, 'min_samples_split': 4}. Best is trial 45 with value: -30.48024172547441.\n",
      "Found unknown categories in columns [0] during transform. These unknown categories will be encoded as all zeros\n",
      "[I 2024-01-01 11:26:27,725] Trial 137 finished with value: -31.62832168776128 and parameters: {'max_depth': 10, 'max_features': 9, 'min_samples_leaf': 6, 'min_samples_split': 6}. Best is trial 45 with value: -30.48024172547441.\n",
      "Found unknown categories in columns [0] during transform. These unknown categories will be encoded as all zeros\n",
      "[I 2024-01-01 11:26:27,914] Trial 138 finished with value: -30.500464200115708 and parameters: {'max_depth': 10, 'max_features': 10, 'min_samples_leaf': 5, 'min_samples_split': 2}. Best is trial 45 with value: -30.48024172547441.\n",
      "Found unknown categories in columns [0] during transform. These unknown categories will be encoded as all zeros\n",
      "[I 2024-01-01 11:26:28,069] Trial 139 finished with value: -30.500464200115708 and parameters: {'max_depth': 10, 'max_features': 10, 'min_samples_leaf': 5, 'min_samples_split': 5}. Best is trial 45 with value: -30.48024172547441.\n",
      "Found unknown categories in columns [0] during transform. These unknown categories will be encoded as all zeros\n",
      "[I 2024-01-01 11:26:28,213] Trial 140 finished with value: -31.18093277704034 and parameters: {'max_depth': 9, 'max_features': 9, 'min_samples_leaf': 5, 'min_samples_split': 3}. Best is trial 45 with value: -30.48024172547441.\n",
      "Found unknown categories in columns [0] during transform. These unknown categories will be encoded as all zeros\n",
      "[I 2024-01-01 11:26:28,367] Trial 141 finished with value: -30.500464200115708 and parameters: {'max_depth': 10, 'max_features': 10, 'min_samples_leaf': 5, 'min_samples_split': 2}. Best is trial 45 with value: -30.48024172547441.\n",
      "Found unknown categories in columns [0] during transform. These unknown categories will be encoded as all zeros\n",
      "[I 2024-01-01 11:26:28,515] Trial 142 finished with value: -30.500464200115708 and parameters: {'max_depth': 10, 'max_features': 10, 'min_samples_leaf': 5, 'min_samples_split': 2}. Best is trial 45 with value: -30.48024172547441.\n",
      "Found unknown categories in columns [0] during transform. These unknown categories will be encoded as all zeros\n",
      "[I 2024-01-01 11:26:28,656] Trial 143 finished with value: -33.27262994258156 and parameters: {'max_depth': 10, 'max_features': 4, 'min_samples_leaf': 5, 'min_samples_split': 2}. Best is trial 45 with value: -30.48024172547441.\n",
      "Found unknown categories in columns [0] during transform. These unknown categories will be encoded as all zeros\n",
      "[I 2024-01-01 11:26:28,805] Trial 144 finished with value: -30.500464200115708 and parameters: {'max_depth': 10, 'max_features': 10, 'min_samples_leaf': 5, 'min_samples_split': 2}. Best is trial 45 with value: -30.48024172547441.\n",
      "Found unknown categories in columns [0] during transform. These unknown categories will be encoded as all zeros\n",
      "[I 2024-01-01 11:26:28,956] Trial 145 finished with value: -31.2698943488032 and parameters: {'max_depth': 10, 'max_features': 10, 'min_samples_leaf': 4, 'min_samples_split': 3}. Best is trial 45 with value: -30.48024172547441.\n",
      "Found unknown categories in columns [0] during transform. These unknown categories will be encoded as all zeros\n",
      "[I 2024-01-01 11:26:29,120] Trial 146 finished with value: -30.500464200115708 and parameters: {'max_depth': 10, 'max_features': 10, 'min_samples_leaf': 5, 'min_samples_split': 3}. Best is trial 45 with value: -30.48024172547441.\n",
      "Found unknown categories in columns [0] during transform. These unknown categories will be encoded as all zeros\n",
      "[I 2024-01-01 11:26:29,272] Trial 147 finished with value: -32.2124280902955 and parameters: {'max_depth': 10, 'max_features': 10, 'min_samples_leaf': 6, 'min_samples_split': 5}. Best is trial 45 with value: -30.48024172547441.\n",
      "Found unknown categories in columns [0] during transform. These unknown categories will be encoded as all zeros\n",
      "[I 2024-01-01 11:26:29,418] Trial 148 finished with value: -30.878176651942603 and parameters: {'max_depth': 9, 'max_features': 10, 'min_samples_leaf': 5, 'min_samples_split': 2}. Best is trial 45 with value: -30.48024172547441.\n",
      "Found unknown categories in columns [0] during transform. These unknown categories will be encoded as all zeros\n",
      "[I 2024-01-01 11:26:29,571] Trial 149 finished with value: -31.2698943488032 and parameters: {'max_depth': 10, 'max_features': 10, 'min_samples_leaf': 4, 'min_samples_split': 5}. Best is trial 45 with value: -30.48024172547441.\n",
      "Found unknown categories in columns [0] during transform. These unknown categories will be encoded as all zeros\n",
      "[I 2024-01-01 11:26:29,728] Trial 150 finished with value: -31.306195391867334 and parameters: {'max_depth': 10, 'max_features': 10, 'min_samples_leaf': 2, 'min_samples_split': 5}. Best is trial 45 with value: -30.48024172547441.\n",
      "Found unknown categories in columns [0] during transform. These unknown categories will be encoded as all zeros\n",
      "[I 2024-01-01 11:26:29,879] Trial 151 finished with value: -30.500464200115708 and parameters: {'max_depth': 10, 'max_features': 10, 'min_samples_leaf': 5, 'min_samples_split': 2}. Best is trial 45 with value: -30.48024172547441.\n",
      "Found unknown categories in columns [0] during transform. These unknown categories will be encoded as all zeros\n",
      "[I 2024-01-01 11:26:30,033] Trial 152 finished with value: -30.500464200115708 and parameters: {'max_depth': 10, 'max_features': 10, 'min_samples_leaf': 5, 'min_samples_split': 2}. Best is trial 45 with value: -30.48024172547441.\n",
      "Found unknown categories in columns [0] during transform. These unknown categories will be encoded as all zeros\n",
      "[I 2024-01-01 11:26:30,193] Trial 153 finished with value: -30.500464200115708 and parameters: {'max_depth': 10, 'max_features': 10, 'min_samples_leaf': 5, 'min_samples_split': 2}. Best is trial 45 with value: -30.48024172547441.\n",
      "Found unknown categories in columns [0] during transform. These unknown categories will be encoded as all zeros\n",
      "[I 2024-01-01 11:26:30,365] Trial 154 finished with value: -30.500464200115708 and parameters: {'max_depth': 10, 'max_features': 10, 'min_samples_leaf': 5, 'min_samples_split': 3}. Best is trial 45 with value: -30.48024172547441.\n",
      "Found unknown categories in columns [0] during transform. These unknown categories will be encoded as all zeros\n",
      "[I 2024-01-01 11:26:30,526] Trial 155 finished with value: -30.500464200115708 and parameters: {'max_depth': 10, 'max_features': 10, 'min_samples_leaf': 5, 'min_samples_split': 2}. Best is trial 45 with value: -30.48024172547441.\n",
      "Found unknown categories in columns [0] during transform. These unknown categories will be encoded as all zeros\n",
      "[I 2024-01-01 11:26:30,685] Trial 156 finished with value: -30.500464200115708 and parameters: {'max_depth': 10, 'max_features': 10, 'min_samples_leaf': 5, 'min_samples_split': 4}. Best is trial 45 with value: -30.48024172547441.\n",
      "Found unknown categories in columns [0] during transform. These unknown categories will be encoded as all zeros\n",
      "[I 2024-01-01 11:26:30,841] Trial 157 finished with value: -31.656936385927793 and parameters: {'max_depth': 10, 'max_features': 9, 'min_samples_leaf': 5, 'min_samples_split': 2}. Best is trial 45 with value: -30.48024172547441.\n",
      "Found unknown categories in columns [0] during transform. These unknown categories will be encoded as all zeros\n",
      "[I 2024-01-01 11:26:31,004] Trial 158 finished with value: -32.2124280902955 and parameters: {'max_depth': 10, 'max_features': 10, 'min_samples_leaf': 6, 'min_samples_split': 3}. Best is trial 45 with value: -30.48024172547441.\n",
      "Found unknown categories in columns [0] during transform. These unknown categories will be encoded as all zeros\n",
      "[I 2024-01-01 11:26:31,167] Trial 159 finished with value: -30.878176651942603 and parameters: {'max_depth': 9, 'max_features': 10, 'min_samples_leaf': 5, 'min_samples_split': 7}. Best is trial 45 with value: -30.48024172547441.\n",
      "Found unknown categories in columns [0] during transform. These unknown categories will be encoded as all zeros\n",
      "[I 2024-01-01 11:26:31,330] Trial 160 finished with value: -30.500464200115708 and parameters: {'max_depth': 10, 'max_features': 10, 'min_samples_leaf': 5, 'min_samples_split': 6}. Best is trial 45 with value: -30.48024172547441.\n",
      "Found unknown categories in columns [0] during transform. These unknown categories will be encoded as all zeros\n",
      "[I 2024-01-01 11:26:31,496] Trial 161 finished with value: -30.500464200115708 and parameters: {'max_depth': 10, 'max_features': 10, 'min_samples_leaf': 5, 'min_samples_split': 3}. Best is trial 45 with value: -30.48024172547441.\n",
      "Found unknown categories in columns [0] during transform. These unknown categories will be encoded as all zeros\n",
      "[I 2024-01-01 11:26:31,663] Trial 162 finished with value: -30.500464200115708 and parameters: {'max_depth': 10, 'max_features': 10, 'min_samples_leaf': 5, 'min_samples_split': 3}. Best is trial 45 with value: -30.48024172547441.\n",
      "Found unknown categories in columns [0] during transform. These unknown categories will be encoded as all zeros\n",
      "[I 2024-01-01 11:26:31,819] Trial 163 finished with value: -30.500464200115708 and parameters: {'max_depth': 10, 'max_features': 10, 'min_samples_leaf': 5, 'min_samples_split': 3}. Best is trial 45 with value: -30.48024172547441.\n",
      "Found unknown categories in columns [0] during transform. These unknown categories will be encoded as all zeros\n",
      "[I 2024-01-01 11:26:31,976] Trial 164 finished with value: -30.500464200115708 and parameters: {'max_depth': 10, 'max_features': 10, 'min_samples_leaf': 5, 'min_samples_split': 3}. Best is trial 45 with value: -30.48024172547441.\n",
      "Found unknown categories in columns [0] during transform. These unknown categories will be encoded as all zeros\n",
      "[I 2024-01-01 11:26:32,137] Trial 165 finished with value: -30.500464200115708 and parameters: {'max_depth': 10, 'max_features': 10, 'min_samples_leaf': 5, 'min_samples_split': 4}. Best is trial 45 with value: -30.48024172547441.\n",
      "Found unknown categories in columns [0] during transform. These unknown categories will be encoded as all zeros\n",
      "[I 2024-01-01 11:26:32,293] Trial 166 finished with value: -30.500464200115708 and parameters: {'max_depth': 10, 'max_features': 10, 'min_samples_leaf': 5, 'min_samples_split': 5}. Best is trial 45 with value: -30.48024172547441.\n",
      "Found unknown categories in columns [0] during transform. These unknown categories will be encoded as all zeros\n",
      "[I 2024-01-01 11:26:32,436] Trial 167 finished with value: -33.25005689442209 and parameters: {'max_depth': 5, 'max_features': 10, 'min_samples_leaf': 5, 'min_samples_split': 2}. Best is trial 45 with value: -30.48024172547441.\n",
      "Found unknown categories in columns [0] during transform. These unknown categories will be encoded as all zeros\n",
      "[I 2024-01-01 11:26:32,586] Trial 168 finished with value: -32.11899593940541 and parameters: {'max_depth': 10, 'max_features': 8, 'min_samples_leaf': 4, 'min_samples_split': 4}. Best is trial 45 with value: -30.48024172547441.\n",
      "Found unknown categories in columns [0] during transform. These unknown categories will be encoded as all zeros\n",
      "[I 2024-01-01 11:26:32,758] Trial 169 finished with value: -32.2124280902955 and parameters: {'max_depth': 10, 'max_features': 10, 'min_samples_leaf': 6, 'min_samples_split': 3}. Best is trial 45 with value: -30.48024172547441.\n",
      "Found unknown categories in columns [0] during transform. These unknown categories will be encoded as all zeros\n",
      "[I 2024-01-01 11:26:32,910] Trial 170 finished with value: -30.500464200115708 and parameters: {'max_depth': 10, 'max_features': 10, 'min_samples_leaf': 5, 'min_samples_split': 5}. Best is trial 45 with value: -30.48024172547441.\n",
      "Found unknown categories in columns [0] during transform. These unknown categories will be encoded as all zeros\n",
      "[I 2024-01-01 11:26:33,059] Trial 171 finished with value: -32.2064529210438 and parameters: {'max_depth': 6, 'max_features': 10, 'min_samples_leaf': 5, 'min_samples_split': 2}. Best is trial 45 with value: -30.48024172547441.\n",
      "Found unknown categories in columns [0] during transform. These unknown categories will be encoded as all zeros\n",
      "[I 2024-01-01 11:26:33,211] Trial 172 finished with value: -30.500464200115708 and parameters: {'max_depth': 10, 'max_features': 10, 'min_samples_leaf': 5, 'min_samples_split': 2}. Best is trial 45 with value: -30.48024172547441.\n",
      "Found unknown categories in columns [0] during transform. These unknown categories will be encoded as all zeros\n",
      "[I 2024-01-01 11:26:33,364] Trial 173 finished with value: -30.500464200115708 and parameters: {'max_depth': 10, 'max_features': 10, 'min_samples_leaf': 5, 'min_samples_split': 2}. Best is trial 45 with value: -30.48024172547441.\n",
      "Found unknown categories in columns [0] during transform. These unknown categories will be encoded as all zeros\n",
      "[I 2024-01-01 11:26:33,499] Trial 174 finished with value: -36.458460652668705 and parameters: {'max_depth': 3, 'max_features': 6, 'min_samples_leaf': 5, 'min_samples_split': 2}. Best is trial 45 with value: -30.48024172547441.\n",
      "Found unknown categories in columns [0] during transform. These unknown categories will be encoded as all zeros\n",
      "[I 2024-01-01 11:26:33,656] Trial 175 finished with value: -30.500464200115708 and parameters: {'max_depth': 10, 'max_features': 10, 'min_samples_leaf': 5, 'min_samples_split': 3}. Best is trial 45 with value: -30.48024172547441.\n",
      "Found unknown categories in columns [0] during transform. These unknown categories will be encoded as all zeros\n",
      "[I 2024-01-01 11:26:33,809] Trial 176 finished with value: -30.500464200115708 and parameters: {'max_depth': 10, 'max_features': 10, 'min_samples_leaf': 5, 'min_samples_split': 2}. Best is trial 45 with value: -30.48024172547441.\n",
      "Found unknown categories in columns [0] during transform. These unknown categories will be encoded as all zeros\n",
      "[I 2024-01-01 11:26:33,971] Trial 177 finished with value: -30.500464200115708 and parameters: {'max_depth': 10, 'max_features': 10, 'min_samples_leaf': 5, 'min_samples_split': 6}. Best is trial 45 with value: -30.48024172547441.\n",
      "Found unknown categories in columns [0] during transform. These unknown categories will be encoded as all zeros\n",
      "[I 2024-01-01 11:26:34,131] Trial 178 finished with value: -32.2124280902955 and parameters: {'max_depth': 10, 'max_features': 10, 'min_samples_leaf': 6, 'min_samples_split': 3}. Best is trial 45 with value: -30.48024172547441.\n",
      "Found unknown categories in columns [0] during transform. These unknown categories will be encoded as all zeros\n",
      "[I 2024-01-01 11:26:34,285] Trial 179 finished with value: -31.18093277704034 and parameters: {'max_depth': 9, 'max_features': 9, 'min_samples_leaf': 5, 'min_samples_split': 2}. Best is trial 45 with value: -30.48024172547441.\n",
      "Found unknown categories in columns [0] during transform. These unknown categories will be encoded as all zeros\n",
      "[I 2024-01-01 11:26:34,456] Trial 180 finished with value: -30.500464200115708 and parameters: {'max_depth': 10, 'max_features': 10, 'min_samples_leaf': 5, 'min_samples_split': 5}. Best is trial 45 with value: -30.48024172547441.\n",
      "Found unknown categories in columns [0] during transform. These unknown categories will be encoded as all zeros\n",
      "[I 2024-01-01 11:26:34,611] Trial 181 finished with value: -30.500464200115708 and parameters: {'max_depth': 10, 'max_features': 10, 'min_samples_leaf': 5, 'min_samples_split': 6}. Best is trial 45 with value: -30.48024172547441.\n",
      "Found unknown categories in columns [0] during transform. These unknown categories will be encoded as all zeros\n",
      "[I 2024-01-01 11:26:34,773] Trial 182 finished with value: -30.500464200115708 and parameters: {'max_depth': 10, 'max_features': 10, 'min_samples_leaf': 5, 'min_samples_split': 6}. Best is trial 45 with value: -30.48024172547441.\n",
      "Found unknown categories in columns [0] during transform. These unknown categories will be encoded as all zeros\n",
      "[I 2024-01-01 11:26:34,925] Trial 183 finished with value: -30.500464200115708 and parameters: {'max_depth': 10, 'max_features': 10, 'min_samples_leaf': 5, 'min_samples_split': 6}. Best is trial 45 with value: -30.48024172547441.\n",
      "Found unknown categories in columns [0] during transform. These unknown categories will be encoded as all zeros\n",
      "[I 2024-01-01 11:26:35,091] Trial 184 finished with value: -30.500464200115708 and parameters: {'max_depth': 10, 'max_features': 10, 'min_samples_leaf': 5, 'min_samples_split': 7}. Best is trial 45 with value: -30.48024172547441.\n",
      "Found unknown categories in columns [0] during transform. These unknown categories will be encoded as all zeros\n",
      "[I 2024-01-01 11:26:35,261] Trial 185 finished with value: -30.500464200115708 and parameters: {'max_depth': 10, 'max_features': 10, 'min_samples_leaf': 5, 'min_samples_split': 6}. Best is trial 45 with value: -30.48024172547441.\n",
      "Found unknown categories in columns [0] during transform. These unknown categories will be encoded as all zeros\n",
      "[I 2024-01-01 11:26:35,410] Trial 186 finished with value: -30.500464200115708 and parameters: {'max_depth': 10, 'max_features': 10, 'min_samples_leaf': 5, 'min_samples_split': 5}. Best is trial 45 with value: -30.48024172547441.\n",
      "Found unknown categories in columns [0] during transform. These unknown categories will be encoded as all zeros\n",
      "[I 2024-01-01 11:26:35,566] Trial 187 finished with value: -30.500464200115708 and parameters: {'max_depth': 10, 'max_features': 10, 'min_samples_leaf': 5, 'min_samples_split': 3}. Best is trial 45 with value: -30.48024172547441.\n",
      "Found unknown categories in columns [0] during transform. These unknown categories will be encoded as all zeros\n",
      "[I 2024-01-01 11:26:35,728] Trial 188 finished with value: -30.913435015226515 and parameters: {'max_depth': 10, 'max_features': 10, 'min_samples_leaf': 4, 'min_samples_split': 10}. Best is trial 45 with value: -30.48024172547441.\n",
      "Found unknown categories in columns [0] during transform. These unknown categories will be encoded as all zeros\n",
      "[I 2024-01-01 11:26:35,882] Trial 189 finished with value: -30.500464200115708 and parameters: {'max_depth': 10, 'max_features': 10, 'min_samples_leaf': 5, 'min_samples_split': 5}. Best is trial 45 with value: -30.48024172547441.\n",
      "Found unknown categories in columns [0] during transform. These unknown categories will be encoded as all zeros\n",
      "[I 2024-01-01 11:26:36,037] Trial 190 finished with value: -31.888376444104978 and parameters: {'max_depth': 9, 'max_features': 10, 'min_samples_leaf': 6, 'min_samples_split': 2}. Best is trial 45 with value: -30.48024172547441.\n",
      "Found unknown categories in columns [0] during transform. These unknown categories will be encoded as all zeros\n",
      "[I 2024-01-01 11:26:36,191] Trial 191 finished with value: -30.500464200115708 and parameters: {'max_depth': 10, 'max_features': 10, 'min_samples_leaf': 5, 'min_samples_split': 5}. Best is trial 45 with value: -30.48024172547441.\n",
      "Found unknown categories in columns [0] during transform. These unknown categories will be encoded as all zeros\n",
      "[I 2024-01-01 11:26:36,364] Trial 192 finished with value: -30.500464200115708 and parameters: {'max_depth': 10, 'max_features': 10, 'min_samples_leaf': 5, 'min_samples_split': 5}. Best is trial 45 with value: -30.48024172547441.\n",
      "Found unknown categories in columns [0] during transform. These unknown categories will be encoded as all zeros\n",
      "[I 2024-01-01 11:26:36,534] Trial 193 finished with value: -30.500464200115708 and parameters: {'max_depth': 10, 'max_features': 10, 'min_samples_leaf': 5, 'min_samples_split': 5}. Best is trial 45 with value: -30.48024172547441.\n",
      "Found unknown categories in columns [0] during transform. These unknown categories will be encoded as all zeros\n",
      "[I 2024-01-01 11:26:36,689] Trial 194 finished with value: -30.500464200115708 and parameters: {'max_depth': 10, 'max_features': 10, 'min_samples_leaf': 5, 'min_samples_split': 4}. Best is trial 45 with value: -30.48024172547441.\n",
      "Found unknown categories in columns [0] during transform. These unknown categories will be encoded as all zeros\n",
      "[I 2024-01-01 11:26:36,847] Trial 195 finished with value: -30.500464200115708 and parameters: {'max_depth': 10, 'max_features': 10, 'min_samples_leaf': 5, 'min_samples_split': 5}. Best is trial 45 with value: -30.48024172547441.\n",
      "Found unknown categories in columns [0] during transform. These unknown categories will be encoded as all zeros\n",
      "[I 2024-01-01 11:26:37,004] Trial 196 finished with value: -30.500464200115708 and parameters: {'max_depth': 10, 'max_features': 10, 'min_samples_leaf': 5, 'min_samples_split': 6}. Best is trial 45 with value: -30.48024172547441.\n",
      "Found unknown categories in columns [0] during transform. These unknown categories will be encoded as all zeros\n",
      "[I 2024-01-01 11:26:37,162] Trial 197 finished with value: -30.500464200115708 and parameters: {'max_depth': 10, 'max_features': 10, 'min_samples_leaf': 5, 'min_samples_split': 5}. Best is trial 45 with value: -30.48024172547441.\n",
      "Found unknown categories in columns [0] during transform. These unknown categories will be encoded as all zeros\n",
      "[I 2024-01-01 11:26:37,323] Trial 198 finished with value: -30.500464200115708 and parameters: {'max_depth': 10, 'max_features': 10, 'min_samples_leaf': 5, 'min_samples_split': 3}. Best is trial 45 with value: -30.48024172547441.\n",
      "Found unknown categories in columns [0] during transform. These unknown categories will be encoded as all zeros\n",
      "[I 2024-01-01 11:26:37,479] Trial 199 finished with value: -30.500464200115708 and parameters: {'max_depth': 10, 'max_features': 10, 'min_samples_leaf': 5, 'min_samples_split': 2}. Best is trial 45 with value: -30.48024172547441.\n",
      "Found unknown categories in columns [0] during transform. These unknown categories will be encoded as all zeros\n",
      "[I 2024-01-01 11:26:37,654] Trial 200 finished with value: -31.656936385927793 and parameters: {'max_depth': 10, 'max_features': 9, 'min_samples_leaf': 5, 'min_samples_split': 5}. Best is trial 45 with value: -30.48024172547441.\n",
      "Found unknown categories in columns [0] during transform. These unknown categories will be encoded as all zeros\n",
      "[I 2024-01-01 11:26:37,833] Trial 201 finished with value: -30.500464200115708 and parameters: {'max_depth': 10, 'max_features': 10, 'min_samples_leaf': 5, 'min_samples_split': 5}. Best is trial 45 with value: -30.48024172547441.\n",
      "Found unknown categories in columns [0] during transform. These unknown categories will be encoded as all zeros\n",
      "[I 2024-01-01 11:26:37,991] Trial 202 finished with value: -30.500464200115708 and parameters: {'max_depth': 10, 'max_features': 10, 'min_samples_leaf': 5, 'min_samples_split': 5}. Best is trial 45 with value: -30.48024172547441.\n",
      "Found unknown categories in columns [0] during transform. These unknown categories will be encoded as all zeros\n",
      "[I 2024-01-01 11:26:38,147] Trial 203 finished with value: -30.500464200115708 and parameters: {'max_depth': 10, 'max_features': 10, 'min_samples_leaf': 5, 'min_samples_split': 5}. Best is trial 45 with value: -30.48024172547441.\n",
      "Found unknown categories in columns [0] during transform. These unknown categories will be encoded as all zeros\n",
      "[I 2024-01-01 11:26:38,298] Trial 204 finished with value: -30.500464200115708 and parameters: {'max_depth': 10, 'max_features': 10, 'min_samples_leaf': 5, 'min_samples_split': 5}. Best is trial 45 with value: -30.48024172547441.\n",
      "Found unknown categories in columns [0] during transform. These unknown categories will be encoded as all zeros\n",
      "[I 2024-01-01 11:26:38,456] Trial 205 finished with value: -30.500464200115708 and parameters: {'max_depth': 10, 'max_features': 10, 'min_samples_leaf': 5, 'min_samples_split': 3}. Best is trial 45 with value: -30.48024172547441.\n",
      "Found unknown categories in columns [0] during transform. These unknown categories will be encoded as all zeros\n",
      "[I 2024-01-01 11:26:38,606] Trial 206 finished with value: -30.500464200115708 and parameters: {'max_depth': 10, 'max_features': 10, 'min_samples_leaf': 5, 'min_samples_split': 4}. Best is trial 45 with value: -30.48024172547441.\n",
      "Found unknown categories in columns [0] during transform. These unknown categories will be encoded as all zeros\n",
      "[I 2024-01-01 11:26:38,757] Trial 207 finished with value: -31.01985268002222 and parameters: {'max_depth': 7, 'max_features': 10, 'min_samples_leaf': 5, 'min_samples_split': 6}. Best is trial 45 with value: -30.48024172547441.\n",
      "Found unknown categories in columns [0] during transform. These unknown categories will be encoded as all zeros\n",
      "[I 2024-01-01 11:26:38,919] Trial 208 finished with value: -31.2698943488032 and parameters: {'max_depth': 10, 'max_features': 10, 'min_samples_leaf': 4, 'min_samples_split': 5}. Best is trial 45 with value: -30.48024172547441.\n",
      "Found unknown categories in columns [0] during transform. These unknown categories will be encoded as all zeros\n",
      "[I 2024-01-01 11:26:39,073] Trial 209 finished with value: -30.500464200115708 and parameters: {'max_depth': 10, 'max_features': 10, 'min_samples_leaf': 5, 'min_samples_split': 3}. Best is trial 45 with value: -30.48024172547441.\n",
      "Found unknown categories in columns [0] during transform. These unknown categories will be encoded as all zeros\n",
      "[I 2024-01-01 11:26:39,208] Trial 210 finished with value: -35.70348064701081 and parameters: {'max_depth': 10, 'max_features': 2, 'min_samples_leaf': 5, 'min_samples_split': 2}. Best is trial 45 with value: -30.48024172547441.\n",
      "Found unknown categories in columns [0] during transform. These unknown categories will be encoded as all zeros\n",
      "[I 2024-01-01 11:26:39,360] Trial 211 finished with value: -33.53504421292544 and parameters: {'max_depth': 10, 'max_features': 7, 'min_samples_leaf': 5, 'min_samples_split': 5}. Best is trial 45 with value: -30.48024172547441.\n",
      "Found unknown categories in columns [0] during transform. These unknown categories will be encoded as all zeros\n",
      "[I 2024-01-01 11:26:39,514] Trial 212 finished with value: -30.500464200115708 and parameters: {'max_depth': 10, 'max_features': 10, 'min_samples_leaf': 5, 'min_samples_split': 5}. Best is trial 45 with value: -30.48024172547441.\n",
      "Found unknown categories in columns [0] during transform. These unknown categories will be encoded as all zeros\n",
      "[I 2024-01-01 11:26:39,676] Trial 213 finished with value: -30.500464200115708 and parameters: {'max_depth': 10, 'max_features': 10, 'min_samples_leaf': 5, 'min_samples_split': 5}. Best is trial 45 with value: -30.48024172547441.\n",
      "Found unknown categories in columns [0] during transform. These unknown categories will be encoded as all zeros\n",
      "[I 2024-01-01 11:26:39,833] Trial 214 finished with value: -30.500464200115708 and parameters: {'max_depth': 10, 'max_features': 10, 'min_samples_leaf': 5, 'min_samples_split': 5}. Best is trial 45 with value: -30.48024172547441.\n",
      "Found unknown categories in columns [0] during transform. These unknown categories will be encoded as all zeros\n",
      "[I 2024-01-01 11:26:39,990] Trial 215 finished with value: -30.500464200115708 and parameters: {'max_depth': 10, 'max_features': 10, 'min_samples_leaf': 5, 'min_samples_split': 6}. Best is trial 45 with value: -30.48024172547441.\n",
      "Found unknown categories in columns [0] during transform. These unknown categories will be encoded as all zeros\n",
      "[I 2024-01-01 11:26:40,174] Trial 216 finished with value: -30.500464200115708 and parameters: {'max_depth': 10, 'max_features': 10, 'min_samples_leaf': 5, 'min_samples_split': 5}. Best is trial 45 with value: -30.48024172547441.\n",
      "Found unknown categories in columns [0] during transform. These unknown categories will be encoded as all zeros\n",
      "[I 2024-01-01 11:26:40,333] Trial 217 finished with value: -30.500464200115708 and parameters: {'max_depth': 10, 'max_features': 10, 'min_samples_leaf': 5, 'min_samples_split': 3}. Best is trial 45 with value: -30.48024172547441.\n",
      "Found unknown categories in columns [0] during transform. These unknown categories will be encoded as all zeros\n",
      "[I 2024-01-01 11:26:40,483] Trial 218 finished with value: -33.97560654263127 and parameters: {'max_depth': 10, 'max_features': 5, 'min_samples_leaf': 5, 'min_samples_split': 5}. Best is trial 45 with value: -30.48024172547441.\n",
      "Found unknown categories in columns [0] during transform. These unknown categories will be encoded as all zeros\n",
      "[I 2024-01-01 11:26:40,645] Trial 219 finished with value: -30.500464200115708 and parameters: {'max_depth': 10, 'max_features': 10, 'min_samples_leaf': 5, 'min_samples_split': 2}. Best is trial 45 with value: -30.48024172547441.\n",
      "Found unknown categories in columns [0] during transform. These unknown categories will be encoded as all zeros\n",
      "[I 2024-01-01 11:26:40,798] Trial 220 finished with value: -32.2124280902955 and parameters: {'max_depth': 10, 'max_features': 10, 'min_samples_leaf': 6, 'min_samples_split': 4}. Best is trial 45 with value: -30.48024172547441.\n",
      "Found unknown categories in columns [0] during transform. These unknown categories will be encoded as all zeros\n",
      "[I 2024-01-01 11:26:40,955] Trial 221 finished with value: -30.500464200115708 and parameters: {'max_depth': 10, 'max_features': 10, 'min_samples_leaf': 5, 'min_samples_split': 6}. Best is trial 45 with value: -30.48024172547441.\n",
      "Found unknown categories in columns [0] during transform. These unknown categories will be encoded as all zeros\n",
      "[I 2024-01-01 11:26:41,124] Trial 222 finished with value: -30.500464200115708 and parameters: {'max_depth': 10, 'max_features': 10, 'min_samples_leaf': 5, 'min_samples_split': 6}. Best is trial 45 with value: -30.48024172547441.\n",
      "Found unknown categories in columns [0] during transform. These unknown categories will be encoded as all zeros\n",
      "[I 2024-01-01 11:26:41,301] Trial 223 finished with value: -30.500464200115708 and parameters: {'max_depth': 10, 'max_features': 10, 'min_samples_leaf': 5, 'min_samples_split': 6}. Best is trial 45 with value: -30.48024172547441.\n",
      "Found unknown categories in columns [0] during transform. These unknown categories will be encoded as all zeros\n",
      "[I 2024-01-01 11:26:41,473] Trial 224 finished with value: -30.500464200115708 and parameters: {'max_depth': 10, 'max_features': 10, 'min_samples_leaf': 5, 'min_samples_split': 6}. Best is trial 45 with value: -30.48024172547441.\n",
      "Found unknown categories in columns [0] during transform. These unknown categories will be encoded as all zeros\n",
      "[I 2024-01-01 11:26:41,637] Trial 225 finished with value: -30.500464200115708 and parameters: {'max_depth': 10, 'max_features': 10, 'min_samples_leaf': 5, 'min_samples_split': 7}. Best is trial 45 with value: -30.48024172547441.\n",
      "Found unknown categories in columns [0] during transform. These unknown categories will be encoded as all zeros\n",
      "[I 2024-01-01 11:26:41,795] Trial 226 finished with value: -30.500464200115708 and parameters: {'max_depth': 10, 'max_features': 10, 'min_samples_leaf': 5, 'min_samples_split': 6}. Best is trial 45 with value: -30.48024172547441.\n",
      "Found unknown categories in columns [0] during transform. These unknown categories will be encoded as all zeros\n",
      "[I 2024-01-01 11:26:41,953] Trial 227 finished with value: -30.500464200115708 and parameters: {'max_depth': 10, 'max_features': 10, 'min_samples_leaf': 5, 'min_samples_split': 5}. Best is trial 45 with value: -30.48024172547441.\n",
      "Found unknown categories in columns [0] during transform. These unknown categories will be encoded as all zeros\n",
      "[I 2024-01-01 11:26:42,113] Trial 228 finished with value: -30.500464200115708 and parameters: {'max_depth': 10, 'max_features': 10, 'min_samples_leaf': 5, 'min_samples_split': 3}. Best is trial 45 with value: -30.48024172547441.\n",
      "Found unknown categories in columns [0] during transform. These unknown categories will be encoded as all zeros\n",
      "[I 2024-01-01 11:26:42,279] Trial 229 finished with value: -30.500464200115708 and parameters: {'max_depth': 10, 'max_features': 10, 'min_samples_leaf': 5, 'min_samples_split': 5}. Best is trial 45 with value: -30.48024172547441.\n",
      "Found unknown categories in columns [0] during transform. These unknown categories will be encoded as all zeros\n",
      "[I 2024-01-01 11:26:42,439] Trial 230 finished with value: -30.500464200115708 and parameters: {'max_depth': 10, 'max_features': 10, 'min_samples_leaf': 5, 'min_samples_split': 2}. Best is trial 45 with value: -30.48024172547441.\n",
      "Found unknown categories in columns [0] during transform. These unknown categories will be encoded as all zeros\n",
      "[I 2024-01-01 11:26:42,597] Trial 231 finished with value: -30.500464200115708 and parameters: {'max_depth': 10, 'max_features': 10, 'min_samples_leaf': 5, 'min_samples_split': 4}. Best is trial 45 with value: -30.48024172547441.\n",
      "Found unknown categories in columns [0] during transform. These unknown categories will be encoded as all zeros\n",
      "[I 2024-01-01 11:26:42,760] Trial 232 finished with value: -30.500464200115708 and parameters: {'max_depth': 10, 'max_features': 10, 'min_samples_leaf': 5, 'min_samples_split': 5}. Best is trial 45 with value: -30.48024172547441.\n",
      "Found unknown categories in columns [0] during transform. These unknown categories will be encoded as all zeros\n",
      "[I 2024-01-01 11:26:42,919] Trial 233 finished with value: -30.500464200115708 and parameters: {'max_depth': 10, 'max_features': 10, 'min_samples_leaf': 5, 'min_samples_split': 3}. Best is trial 45 with value: -30.48024172547441.\n",
      "Found unknown categories in columns [0] during transform. These unknown categories will be encoded as all zeros\n",
      "[I 2024-01-01 11:26:43,076] Trial 234 finished with value: -30.500464200115708 and parameters: {'max_depth': 10, 'max_features': 10, 'min_samples_leaf': 5, 'min_samples_split': 4}. Best is trial 45 with value: -30.48024172547441.\n",
      "Found unknown categories in columns [0] during transform. These unknown categories will be encoded as all zeros\n",
      "[I 2024-01-01 11:26:43,236] Trial 235 finished with value: -30.500464200115708 and parameters: {'max_depth': 10, 'max_features': 10, 'min_samples_leaf': 5, 'min_samples_split': 3}. Best is trial 45 with value: -30.48024172547441.\n",
      "Found unknown categories in columns [0] during transform. These unknown categories will be encoded as all zeros\n",
      "[I 2024-01-01 11:26:43,393] Trial 236 finished with value: -30.500464200115708 and parameters: {'max_depth': 10, 'max_features': 10, 'min_samples_leaf': 5, 'min_samples_split': 5}. Best is trial 45 with value: -30.48024172547441.\n",
      "Found unknown categories in columns [0] during transform. These unknown categories will be encoded as all zeros\n",
      "[I 2024-01-01 11:26:43,557] Trial 237 finished with value: -30.500464200115708 and parameters: {'max_depth': 10, 'max_features': 10, 'min_samples_leaf': 5, 'min_samples_split': 2}. Best is trial 45 with value: -30.48024172547441.\n",
      "Found unknown categories in columns [0] during transform. These unknown categories will be encoded as all zeros\n",
      "[I 2024-01-01 11:26:43,723] Trial 238 finished with value: -30.500464200115708 and parameters: {'max_depth': 10, 'max_features': 10, 'min_samples_leaf': 5, 'min_samples_split': 6}. Best is trial 45 with value: -30.48024172547441.\n",
      "Found unknown categories in columns [0] during transform. These unknown categories will be encoded as all zeros\n",
      "[I 2024-01-01 11:26:43,887] Trial 239 finished with value: -30.500464200115708 and parameters: {'max_depth': 10, 'max_features': 10, 'min_samples_leaf': 5, 'min_samples_split': 4}. Best is trial 45 with value: -30.48024172547441.\n",
      "Found unknown categories in columns [0] during transform. These unknown categories will be encoded as all zeros\n",
      "[I 2024-01-01 11:26:44,052] Trial 240 finished with value: -30.500464200115708 and parameters: {'max_depth': 10, 'max_features': 10, 'min_samples_leaf': 5, 'min_samples_split': 5}. Best is trial 45 with value: -30.48024172547441.\n",
      "Found unknown categories in columns [0] during transform. These unknown categories will be encoded as all zeros\n",
      "[I 2024-01-01 11:26:44,206] Trial 241 finished with value: -30.500464200115708 and parameters: {'max_depth': 10, 'max_features': 10, 'min_samples_leaf': 5, 'min_samples_split': 3}. Best is trial 45 with value: -30.48024172547441.\n",
      "Found unknown categories in columns [0] during transform. These unknown categories will be encoded as all zeros\n",
      "[I 2024-01-01 11:26:44,371] Trial 242 finished with value: -30.500464200115708 and parameters: {'max_depth': 10, 'max_features': 10, 'min_samples_leaf': 5, 'min_samples_split': 3}. Best is trial 45 with value: -30.48024172547441.\n",
      "Found unknown categories in columns [0] during transform. These unknown categories will be encoded as all zeros\n",
      "[I 2024-01-01 11:26:44,536] Trial 243 finished with value: -30.500464200115708 and parameters: {'max_depth': 10, 'max_features': 10, 'min_samples_leaf': 5, 'min_samples_split': 3}. Best is trial 45 with value: -30.48024172547441.\n",
      "Found unknown categories in columns [0] during transform. These unknown categories will be encoded as all zeros\n",
      "[I 2024-01-01 11:26:44,703] Trial 244 finished with value: -30.500464200115708 and parameters: {'max_depth': 10, 'max_features': 10, 'min_samples_leaf': 5, 'min_samples_split': 3}. Best is trial 45 with value: -30.48024172547441.\n",
      "Found unknown categories in columns [0] during transform. These unknown categories will be encoded as all zeros\n",
      "[I 2024-01-01 11:26:44,868] Trial 245 finished with value: -30.500464200115708 and parameters: {'max_depth': 10, 'max_features': 10, 'min_samples_leaf': 5, 'min_samples_split': 3}. Best is trial 45 with value: -30.48024172547441.\n",
      "Found unknown categories in columns [0] during transform. These unknown categories will be encoded as all zeros\n",
      "[I 2024-01-01 11:26:45,042] Trial 246 finished with value: -30.500464200115708 and parameters: {'max_depth': 10, 'max_features': 10, 'min_samples_leaf': 5, 'min_samples_split': 2}. Best is trial 45 with value: -30.48024172547441.\n",
      "Found unknown categories in columns [0] during transform. These unknown categories will be encoded as all zeros\n",
      "[I 2024-01-01 11:26:45,205] Trial 247 finished with value: -30.500464200115708 and parameters: {'max_depth': 10, 'max_features': 10, 'min_samples_leaf': 5, 'min_samples_split': 5}. Best is trial 45 with value: -30.48024172547441.\n",
      "Found unknown categories in columns [0] during transform. These unknown categories will be encoded as all zeros\n",
      "[I 2024-01-01 11:26:45,363] Trial 248 finished with value: -30.500464200115708 and parameters: {'max_depth': 10, 'max_features': 10, 'min_samples_leaf': 5, 'min_samples_split': 3}. Best is trial 45 with value: -30.48024172547441.\n",
      "Found unknown categories in columns [0] during transform. These unknown categories will be encoded as all zeros\n",
      "[I 2024-01-01 11:26:45,520] Trial 249 finished with value: -30.500464200115708 and parameters: {'max_depth': 10, 'max_features': 10, 'min_samples_leaf': 5, 'min_samples_split': 5}. Best is trial 45 with value: -30.48024172547441.\n",
      "Found unknown categories in columns [0] during transform. These unknown categories will be encoded as all zeros\n",
      "[I 2024-01-01 11:26:45,684] Trial 250 finished with value: -30.500464200115708 and parameters: {'max_depth': 10, 'max_features': 10, 'min_samples_leaf': 5, 'min_samples_split': 2}. Best is trial 45 with value: -30.48024172547441.\n",
      "Found unknown categories in columns [0] during transform. These unknown categories will be encoded as all zeros\n",
      "[I 2024-01-01 11:26:45,844] Trial 251 finished with value: -30.500464200115708 and parameters: {'max_depth': 10, 'max_features': 10, 'min_samples_leaf': 5, 'min_samples_split': 7}. Best is trial 45 with value: -30.48024172547441.\n",
      "Found unknown categories in columns [0] during transform. These unknown categories will be encoded as all zeros\n",
      "[I 2024-01-01 11:26:45,999] Trial 252 finished with value: -30.500464200115708 and parameters: {'max_depth': 10, 'max_features': 10, 'min_samples_leaf': 5, 'min_samples_split': 5}. Best is trial 45 with value: -30.48024172547441.\n",
      "Found unknown categories in columns [0] during transform. These unknown categories will be encoded as all zeros\n",
      "[I 2024-01-01 11:26:46,162] Trial 253 finished with value: -31.2698943488032 and parameters: {'max_depth': 10, 'max_features': 10, 'min_samples_leaf': 4, 'min_samples_split': 3}. Best is trial 45 with value: -30.48024172547441.\n",
      "Found unknown categories in columns [0] during transform. These unknown categories will be encoded as all zeros\n",
      "[I 2024-01-01 11:26:46,331] Trial 254 finished with value: -30.878176651942603 and parameters: {'max_depth': 9, 'max_features': 10, 'min_samples_leaf': 5, 'min_samples_split': 6}. Best is trial 45 with value: -30.48024172547441.\n",
      "Found unknown categories in columns [0] during transform. These unknown categories will be encoded as all zeros\n",
      "[I 2024-01-01 11:26:46,495] Trial 255 finished with value: -32.2124280902955 and parameters: {'max_depth': 10, 'max_features': 10, 'min_samples_leaf': 6, 'min_samples_split': 4}. Best is trial 45 with value: -30.48024172547441.\n",
      "Found unknown categories in columns [0] during transform. These unknown categories will be encoded as all zeros\n",
      "[I 2024-01-01 11:26:46,657] Trial 256 finished with value: -31.656936385927793 and parameters: {'max_depth': 10, 'max_features': 9, 'min_samples_leaf': 5, 'min_samples_split': 2}. Best is trial 45 with value: -30.48024172547441.\n",
      "Found unknown categories in columns [0] during transform. These unknown categories will be encoded as all zeros\n",
      "[I 2024-01-01 11:26:46,836] Trial 257 finished with value: -30.500464200115708 and parameters: {'max_depth': 10, 'max_features': 10, 'min_samples_leaf': 5, 'min_samples_split': 5}. Best is trial 45 with value: -30.48024172547441.\n",
      "Found unknown categories in columns [0] during transform. These unknown categories will be encoded as all zeros\n",
      "[I 2024-01-01 11:26:47,014] Trial 258 finished with value: -30.500464200115708 and parameters: {'max_depth': 10, 'max_features': 10, 'min_samples_leaf': 5, 'min_samples_split': 6}. Best is trial 45 with value: -30.48024172547441.\n",
      "Found unknown categories in columns [0] during transform. These unknown categories will be encoded as all zeros\n",
      "[I 2024-01-01 11:26:47,201] Trial 259 finished with value: -30.500464200115708 and parameters: {'max_depth': 10, 'max_features': 10, 'min_samples_leaf': 5, 'min_samples_split': 9}. Best is trial 45 with value: -30.48024172547441.\n",
      "Found unknown categories in columns [0] during transform. These unknown categories will be encoded as all zeros\n",
      "[I 2024-01-01 11:26:47,385] Trial 260 finished with value: -30.500464200115708 and parameters: {'max_depth': 10, 'max_features': 10, 'min_samples_leaf': 5, 'min_samples_split': 5}. Best is trial 45 with value: -30.48024172547441.\n",
      "Found unknown categories in columns [0] during transform. These unknown categories will be encoded as all zeros\n",
      "[I 2024-01-01 11:26:47,559] Trial 261 finished with value: -34.3528293187769 and parameters: {'max_depth': 4, 'max_features': 10, 'min_samples_leaf': 5, 'min_samples_split': 3}. Best is trial 45 with value: -30.48024172547441.\n",
      "Found unknown categories in columns [0] during transform. These unknown categories will be encoded as all zeros\n",
      "[I 2024-01-01 11:26:47,745] Trial 262 finished with value: -32.6308602751203 and parameters: {'max_depth': 10, 'max_features': 8, 'min_samples_leaf': 5, 'min_samples_split': 2}. Best is trial 45 with value: -30.48024172547441.\n",
      "Found unknown categories in columns [0] during transform. These unknown categories will be encoded as all zeros\n",
      "[I 2024-01-01 11:26:47,939] Trial 263 finished with value: -30.500464200115708 and parameters: {'max_depth': 10, 'max_features': 10, 'min_samples_leaf': 5, 'min_samples_split': 5}. Best is trial 45 with value: -30.48024172547441.\n",
      "Found unknown categories in columns [0] during transform. These unknown categories will be encoded as all zeros\n",
      "[I 2024-01-01 11:26:48,121] Trial 264 finished with value: -32.2124280902955 and parameters: {'max_depth': 10, 'max_features': 10, 'min_samples_leaf': 6, 'min_samples_split': 3}. Best is trial 45 with value: -30.48024172547441.\n",
      "Found unknown categories in columns [0] during transform. These unknown categories will be encoded as all zeros\n",
      "[I 2024-01-01 11:26:48,289] Trial 265 finished with value: -33.53504421292544 and parameters: {'max_depth': 10, 'max_features': 7, 'min_samples_leaf': 5, 'min_samples_split': 6}. Best is trial 45 with value: -30.48024172547441.\n",
      "Found unknown categories in columns [0] during transform. These unknown categories will be encoded as all zeros\n",
      "[I 2024-01-01 11:26:48,461] Trial 266 finished with value: -30.500464200115708 and parameters: {'max_depth': 10, 'max_features': 10, 'min_samples_leaf': 5, 'min_samples_split': 4}. Best is trial 45 with value: -30.48024172547441.\n",
      "Found unknown categories in columns [0] during transform. These unknown categories will be encoded as all zeros\n",
      "[I 2024-01-01 11:26:48,634] Trial 267 finished with value: -30.878176651942603 and parameters: {'max_depth': 9, 'max_features': 10, 'min_samples_leaf': 5, 'min_samples_split': 3}. Best is trial 45 with value: -30.48024172547441.\n",
      "Found unknown categories in columns [0] during transform. These unknown categories will be encoded as all zeros\n",
      "[I 2024-01-01 11:26:48,815] Trial 268 finished with value: -30.500464200115708 and parameters: {'max_depth': 10, 'max_features': 10, 'min_samples_leaf': 5, 'min_samples_split': 10}. Best is trial 45 with value: -30.48024172547441.\n",
      "Found unknown categories in columns [0] during transform. These unknown categories will be encoded as all zeros\n",
      "[I 2024-01-01 11:26:49,003] Trial 269 finished with value: -30.500464200115708 and parameters: {'max_depth': 10, 'max_features': 10, 'min_samples_leaf': 5, 'min_samples_split': 5}. Best is trial 45 with value: -30.48024172547441.\n",
      "Found unknown categories in columns [0] during transform. These unknown categories will be encoded as all zeros\n",
      "[I 2024-01-01 11:26:49,178] Trial 270 finished with value: -31.630686101933783 and parameters: {'max_depth': 8, 'max_features': 10, 'min_samples_leaf': 5, 'min_samples_split': 2}. Best is trial 45 with value: -30.48024172547441.\n",
      "Found unknown categories in columns [0] during transform. These unknown categories will be encoded as all zeros\n",
      "[I 2024-01-01 11:26:49,358] Trial 271 finished with value: -31.97138669921996 and parameters: {'max_depth': 10, 'max_features': 9, 'min_samples_leaf': 4, 'min_samples_split': 5}. Best is trial 45 with value: -30.48024172547441.\n",
      "Found unknown categories in columns [0] during transform. These unknown categories will be encoded as all zeros\n",
      "[I 2024-01-01 11:26:49,532] Trial 272 finished with value: -32.2064529210438 and parameters: {'max_depth': 6, 'max_features': 10, 'min_samples_leaf': 5, 'min_samples_split': 3}. Best is trial 45 with value: -30.48024172547441.\n",
      "Found unknown categories in columns [0] during transform. These unknown categories will be encoded as all zeros\n",
      "[I 2024-01-01 11:26:49,719] Trial 273 finished with value: -30.500464200115708 and parameters: {'max_depth': 10, 'max_features': 10, 'min_samples_leaf': 5, 'min_samples_split': 2}. Best is trial 45 with value: -30.48024172547441.\n",
      "Found unknown categories in columns [0] during transform. These unknown categories will be encoded as all zeros\n",
      "[I 2024-01-01 11:26:49,896] Trial 274 finished with value: -31.01985268002222 and parameters: {'max_depth': 7, 'max_features': 10, 'min_samples_leaf': 5, 'min_samples_split': 4}. Best is trial 45 with value: -30.48024172547441.\n",
      "Found unknown categories in columns [0] during transform. These unknown categories will be encoded as all zeros\n",
      "[I 2024-01-01 11:26:50,092] Trial 275 finished with value: -31.62832168776128 and parameters: {'max_depth': 10, 'max_features': 9, 'min_samples_leaf': 6, 'min_samples_split': 6}. Best is trial 45 with value: -30.48024172547441.\n",
      "Found unknown categories in columns [0] during transform. These unknown categories will be encoded as all zeros\n",
      "[I 2024-01-01 11:26:50,276] Trial 276 finished with value: -30.500464200115708 and parameters: {'max_depth': 10, 'max_features': 10, 'min_samples_leaf': 5, 'min_samples_split': 5}. Best is trial 45 with value: -30.48024172547441.\n",
      "Found unknown categories in columns [0] during transform. These unknown categories will be encoded as all zeros\n",
      "[I 2024-01-01 11:26:50,459] Trial 277 finished with value: -30.500464200115708 and parameters: {'max_depth': 10, 'max_features': 10, 'min_samples_leaf': 5, 'min_samples_split': 3}. Best is trial 45 with value: -30.48024172547441.\n",
      "Found unknown categories in columns [0] during transform. These unknown categories will be encoded as all zeros\n",
      "[I 2024-01-01 11:26:50,639] Trial 278 finished with value: -30.500464200115708 and parameters: {'max_depth': 10, 'max_features': 10, 'min_samples_leaf': 5, 'min_samples_split': 5}. Best is trial 45 with value: -30.48024172547441.\n",
      "Found unknown categories in columns [0] during transform. These unknown categories will be encoded as all zeros\n",
      "[I 2024-01-01 11:26:50,820] Trial 279 finished with value: -30.500464200115708 and parameters: {'max_depth': 10, 'max_features': 10, 'min_samples_leaf': 5, 'min_samples_split': 2}. Best is trial 45 with value: -30.48024172547441.\n",
      "Found unknown categories in columns [0] during transform. These unknown categories will be encoded as all zeros\n",
      "[I 2024-01-01 11:26:51,006] Trial 280 finished with value: -30.500464200115708 and parameters: {'max_depth': 10, 'max_features': 10, 'min_samples_leaf': 5, 'min_samples_split': 6}. Best is trial 45 with value: -30.48024172547441.\n",
      "Found unknown categories in columns [0] during transform. These unknown categories will be encoded as all zeros\n",
      "[I 2024-01-01 11:26:51,182] Trial 281 finished with value: -36.33789390589868 and parameters: {'max_depth': 2, 'max_features': 10, 'min_samples_leaf': 5, 'min_samples_split': 5}. Best is trial 45 with value: -30.48024172547441.\n",
      "Found unknown categories in columns [0] during transform. These unknown categories will be encoded as all zeros\n",
      "[I 2024-01-01 11:26:51,371] Trial 282 finished with value: -32.318005292043466 and parameters: {'max_depth': 5, 'max_features': 10, 'min_samples_leaf': 4, 'min_samples_split': 3}. Best is trial 45 with value: -30.48024172547441.\n",
      "Found unknown categories in columns [0] during transform. These unknown categories will be encoded as all zeros\n",
      "[I 2024-01-01 11:26:51,540] Trial 283 finished with value: -34.56233531498334 and parameters: {'max_depth': 9, 'max_features': 3, 'min_samples_leaf': 5, 'min_samples_split': 7}. Best is trial 45 with value: -30.48024172547441.\n",
      "Found unknown categories in columns [0] during transform. These unknown categories will be encoded as all zeros\n",
      "[I 2024-01-01 11:26:51,724] Trial 284 finished with value: -30.500464200115708 and parameters: {'max_depth': 10, 'max_features': 10, 'min_samples_leaf': 5, 'min_samples_split': 4}. Best is trial 45 with value: -30.48024172547441.\n",
      "Found unknown categories in columns [0] during transform. These unknown categories will be encoded as all zeros\n",
      "[I 2024-01-01 11:26:51,898] Trial 285 finished with value: -30.500464200115708 and parameters: {'max_depth': 10, 'max_features': 10, 'min_samples_leaf': 5, 'min_samples_split': 5}. Best is trial 45 with value: -30.48024172547441.\n",
      "Found unknown categories in columns [0] during transform. These unknown categories will be encoded as all zeros\n",
      "[I 2024-01-01 11:26:52,061] Trial 286 finished with value: -32.2124280902955 and parameters: {'max_depth': 10, 'max_features': 10, 'min_samples_leaf': 6, 'min_samples_split': 9}. Best is trial 45 with value: -30.48024172547441.\n",
      "Found unknown categories in columns [0] during transform. These unknown categories will be encoded as all zeros\n",
      "[I 2024-01-01 11:26:52,225] Trial 287 finished with value: -31.656936385927793 and parameters: {'max_depth': 10, 'max_features': 9, 'min_samples_leaf': 5, 'min_samples_split': 2}. Best is trial 45 with value: -30.48024172547441.\n",
      "Found unknown categories in columns [0] during transform. These unknown categories will be encoded as all zeros\n",
      "[I 2024-01-01 11:26:52,388] Trial 288 finished with value: -30.500464200115708 and parameters: {'max_depth': 10, 'max_features': 10, 'min_samples_leaf': 5, 'min_samples_split': 3}. Best is trial 45 with value: -30.48024172547441.\n",
      "Found unknown categories in columns [0] during transform. These unknown categories will be encoded as all zeros\n",
      "[I 2024-01-01 11:26:52,546] Trial 289 finished with value: -33.97560654263127 and parameters: {'max_depth': 10, 'max_features': 5, 'min_samples_leaf': 5, 'min_samples_split': 6}. Best is trial 45 with value: -30.48024172547441.\n",
      "Found unknown categories in columns [0] during transform. These unknown categories will be encoded as all zeros\n",
      "[I 2024-01-01 11:26:52,703] Trial 290 finished with value: -32.6308602751203 and parameters: {'max_depth': 10, 'max_features': 8, 'min_samples_leaf': 5, 'min_samples_split': 5}. Best is trial 45 with value: -30.48024172547441.\n",
      "Found unknown categories in columns [0] during transform. These unknown categories will be encoded as all zeros\n",
      "[I 2024-01-01 11:26:52,865] Trial 291 finished with value: -31.69182950990911 and parameters: {'max_depth': 10, 'max_features': 10, 'min_samples_leaf': 3, 'min_samples_split': 2}. Best is trial 45 with value: -30.48024172547441.\n",
      "Found unknown categories in columns [0] during transform. These unknown categories will be encoded as all zeros\n",
      "[I 2024-01-01 11:26:53,023] Trial 292 finished with value: -31.2698943488032 and parameters: {'max_depth': 10, 'max_features': 10, 'min_samples_leaf': 4, 'min_samples_split': 3}. Best is trial 45 with value: -30.48024172547441.\n",
      "Found unknown categories in columns [0] during transform. These unknown categories will be encoded as all zeros\n",
      "[I 2024-01-01 11:26:53,180] Trial 293 finished with value: -30.500464200115708 and parameters: {'max_depth': 10, 'max_features': 10, 'min_samples_leaf': 5, 'min_samples_split': 8}. Best is trial 45 with value: -30.48024172547441.\n",
      "Found unknown categories in columns [0] during transform. These unknown categories will be encoded as all zeros\n",
      "[I 2024-01-01 11:26:53,342] Trial 294 finished with value: -30.500464200115708 and parameters: {'max_depth': 10, 'max_features': 10, 'min_samples_leaf': 5, 'min_samples_split': 5}. Best is trial 45 with value: -30.48024172547441.\n",
      "Found unknown categories in columns [0] during transform. These unknown categories will be encoded as all zeros\n",
      "[I 2024-01-01 11:26:53,504] Trial 295 finished with value: -30.878176651942603 and parameters: {'max_depth': 9, 'max_features': 10, 'min_samples_leaf': 5, 'min_samples_split': 4}. Best is trial 45 with value: -30.48024172547441.\n",
      "Found unknown categories in columns [0] during transform. These unknown categories will be encoded as all zeros\n",
      "[I 2024-01-01 11:26:53,684] Trial 296 finished with value: -30.500464200115708 and parameters: {'max_depth': 10, 'max_features': 10, 'min_samples_leaf': 5, 'min_samples_split': 6}. Best is trial 45 with value: -30.48024172547441.\n",
      "Found unknown categories in columns [0] during transform. These unknown categories will be encoded as all zeros\n",
      "[I 2024-01-01 11:26:53,842] Trial 297 finished with value: -31.65094945479815 and parameters: {'max_depth': 8, 'max_features': 6, 'min_samples_leaf': 6, 'min_samples_split': 5}. Best is trial 45 with value: -30.48024172547441.\n",
      "Found unknown categories in columns [0] during transform. These unknown categories will be encoded as all zeros\n",
      "[I 2024-01-01 11:26:54,005] Trial 298 finished with value: -30.500464200115708 and parameters: {'max_depth': 10, 'max_features': 10, 'min_samples_leaf': 5, 'min_samples_split': 3}. Best is trial 45 with value: -30.48024172547441.\n",
      "Found unknown categories in columns [0] during transform. These unknown categories will be encoded as all zeros\n",
      "[I 2024-01-01 11:26:54,156] Trial 299 finished with value: -33.27262994258156 and parameters: {'max_depth': 10, 'max_features': 4, 'min_samples_leaf': 5, 'min_samples_split': 3}. Best is trial 45 with value: -30.48024172547441.\n"
     ]
    },
    {
     "name": "stdout",
     "output_type": "stream",
     "text": [
      "FrozenTrial(number=45, state=TrialState.COMPLETE, values=[-30.48024172547441], datetime_start=datetime.datetime(2024, 1, 1, 11, 26, 13, 713026), datetime_complete=datetime.datetime(2024, 1, 1, 11, 26, 13, 855434), params={'max_depth': 8, 'max_features': 9, 'min_samples_leaf': 6, 'min_samples_split': 10}, user_attrs={}, system_attrs={}, intermediate_values={}, distributions={'max_depth': IntDistribution(high=10, log=False, low=2, step=1), 'max_features': IntDistribution(high=10, log=False, low=2, step=1), 'min_samples_leaf': IntDistribution(high=10, log=False, low=2, step=1), 'min_samples_split': IntDistribution(high=10, log=False, low=2, step=1)}, trial_id=45, value=None)\n",
      "CPU times: user 44.7 s, sys: 922 ms, total: 45.6 s\n",
      "Wall time: 46.6 s\n"
     ]
    }
   ],
   "source": [
    "%%time\n",
    "def objective(trial):\n",
    "    \n",
    "    max_depth=trial.suggest_int(\"max_depth\", 2, 10)\n",
    "    max_features=trial.suggest_int(\"max_features\", 2, 10)\n",
    "    min_samples_leaf=trial.suggest_int(\"min_samples_leaf\", 2, 10)\n",
    "    min_samples_split=trial.suggest_int(\"min_samples_split\", 2, 10)\n",
    "    # максимальные параметры ставим небольшыми, чтобы не произошло переобучения\n",
    "    estimator=DecisionTreeRegressor(max_depth=max_depth, max_features=max_features, min_samples_leaf=min_samples_leaf, \\\n",
    "                                   min_samples_split=min_samples_split, random_state=RANDOM_STATE)\n",
    "\n",
    "    pipeline = make_pipeline(data_preprocessor, estimator)\n",
    "\n",
    "    \n",
    "    score = cross_val_score(pipeline, X_train, y_train, scoring='neg_root_mean_squared_error', cv=tscv)\n",
    "    rmse = score.mean()\n",
    "    return rmse\n",
    "\n",
    "study = optuna.create_study(direction=\"maximize\")\n",
    "study.optimize(objective, n_trials=300)\n",
    "\n",
    "print(study.best_trial) "
   ]
  },
  {
   "cell_type": "markdown",
   "metadata": {},
   "source": [
    "За 300 циклов модель постаралась найти лучшие гиперпараметры для дерева."
   ]
  },
  {
   "cell_type": "code",
   "execution_count": 74,
   "metadata": {},
   "outputs": [
    {
     "data": {
      "text/plain": [
       "{'max_depth': 9,\n",
       " 'max_features': 8,\n",
       " 'min_samples_leaf': 8,\n",
       " 'min_samples_split': 4}"
      ]
     },
     "execution_count": 74,
     "metadata": {},
     "output_type": "execute_result"
    }
   ],
   "source": [
    "study.best_trial.params"
   ]
  },
  {
   "cell_type": "code",
   "execution_count": 75,
   "metadata": {},
   "outputs": [],
   "source": [
    "model_optuna = Pipeline(\n",
    "    [\n",
    "        ('preprocessor', data_preprocessor),\n",
    "        ('models', DecisionTreeRegressor(random_state=RANDOM_STATE, max_depth = 9, \\\n",
    "                                         max_features = 8, min_samples_leaf = 8, \\\n",
    "                                         min_samples_split = 4))\n",
    "    ]\n",
    ")"
   ]
  },
  {
   "cell_type": "code",
   "execution_count": 76,
   "metadata": {},
   "outputs": [
    {
     "name": "stdout",
     "output_type": "stream",
     "text": [
      "CPU times: user 22.8 ms, sys: 2.31 ms, total: 25.2 ms\n",
      "Wall time: 23.2 ms\n"
     ]
    },
    {
     "data": {
      "text/html": [
       "<style>#sk-container-id-6 {color: black;}#sk-container-id-6 pre{padding: 0;}#sk-container-id-6 div.sk-toggleable {background-color: white;}#sk-container-id-6 label.sk-toggleable__label {cursor: pointer;display: block;width: 100%;margin-bottom: 0;padding: 0.3em;box-sizing: border-box;text-align: center;}#sk-container-id-6 label.sk-toggleable__label-arrow:before {content: \"▸\";float: left;margin-right: 0.25em;color: #696969;}#sk-container-id-6 label.sk-toggleable__label-arrow:hover:before {color: black;}#sk-container-id-6 div.sk-estimator:hover label.sk-toggleable__label-arrow:before {color: black;}#sk-container-id-6 div.sk-toggleable__content {max-height: 0;max-width: 0;overflow: hidden;text-align: left;background-color: #f0f8ff;}#sk-container-id-6 div.sk-toggleable__content pre {margin: 0.2em;color: black;border-radius: 0.25em;background-color: #f0f8ff;}#sk-container-id-6 input.sk-toggleable__control:checked~div.sk-toggleable__content {max-height: 200px;max-width: 100%;overflow: auto;}#sk-container-id-6 input.sk-toggleable__control:checked~label.sk-toggleable__label-arrow:before {content: \"▾\";}#sk-container-id-6 div.sk-estimator input.sk-toggleable__control:checked~label.sk-toggleable__label {background-color: #d4ebff;}#sk-container-id-6 div.sk-label input.sk-toggleable__control:checked~label.sk-toggleable__label {background-color: #d4ebff;}#sk-container-id-6 input.sk-hidden--visually {border: 0;clip: rect(1px 1px 1px 1px);clip: rect(1px, 1px, 1px, 1px);height: 1px;margin: -1px;overflow: hidden;padding: 0;position: absolute;width: 1px;}#sk-container-id-6 div.sk-estimator {font-family: monospace;background-color: #f0f8ff;border: 1px dotted black;border-radius: 0.25em;box-sizing: border-box;margin-bottom: 0.5em;}#sk-container-id-6 div.sk-estimator:hover {background-color: #d4ebff;}#sk-container-id-6 div.sk-parallel-item::after {content: \"\";width: 100%;border-bottom: 1px solid gray;flex-grow: 1;}#sk-container-id-6 div.sk-label:hover label.sk-toggleable__label {background-color: #d4ebff;}#sk-container-id-6 div.sk-serial::before {content: \"\";position: absolute;border-left: 1px solid gray;box-sizing: border-box;top: 0;bottom: 0;left: 50%;z-index: 0;}#sk-container-id-6 div.sk-serial {display: flex;flex-direction: column;align-items: center;background-color: white;padding-right: 0.2em;padding-left: 0.2em;position: relative;}#sk-container-id-6 div.sk-item {position: relative;z-index: 1;}#sk-container-id-6 div.sk-parallel {display: flex;align-items: stretch;justify-content: center;background-color: white;position: relative;}#sk-container-id-6 div.sk-item::before, #sk-container-id-6 div.sk-parallel-item::before {content: \"\";position: absolute;border-left: 1px solid gray;box-sizing: border-box;top: 0;bottom: 0;left: 50%;z-index: -1;}#sk-container-id-6 div.sk-parallel-item {display: flex;flex-direction: column;z-index: 1;position: relative;background-color: white;}#sk-container-id-6 div.sk-parallel-item:first-child::after {align-self: flex-end;width: 50%;}#sk-container-id-6 div.sk-parallel-item:last-child::after {align-self: flex-start;width: 50%;}#sk-container-id-6 div.sk-parallel-item:only-child::after {width: 0;}#sk-container-id-6 div.sk-dashed-wrapped {border: 1px dashed gray;margin: 0 0.4em 0.5em 0.4em;box-sizing: border-box;padding-bottom: 0.4em;background-color: white;}#sk-container-id-6 div.sk-label label {font-family: monospace;font-weight: bold;display: inline-block;line-height: 1.2em;}#sk-container-id-6 div.sk-label-container {text-align: center;}#sk-container-id-6 div.sk-container {/* jupyter's `normalize.less` sets `[hidden] { display: none; }` but bootstrap.min.css set `[hidden] { display: none !important; }` so we also need the `!important` here to be able to override the default hidden behavior on the sphinx rendered scikit-learn.org. See: https://github.com/scikit-learn/scikit-learn/issues/21755 */display: inline-block !important;position: relative;}#sk-container-id-6 div.sk-text-repr-fallback {display: none;}</style><div id=\"sk-container-id-6\" class=\"sk-top-container\"><div class=\"sk-text-repr-fallback\"><pre>Pipeline(steps=[(&#x27;preprocessor&#x27;,\n",
       "                 ColumnTransformer(remainder=&#x27;passthrough&#x27;,\n",
       "                                   transformers=[(&#x27;ohe&#x27;,\n",
       "                                                  Pipeline(steps=[(&#x27;simpleImputer_ohe&#x27;,\n",
       "                                                                   SimpleImputer(strategy=&#x27;most_frequent&#x27;)),\n",
       "                                                                  (&#x27;ohe&#x27;,\n",
       "                                                                   OneHotEncoder(drop=&#x27;first&#x27;,\n",
       "                                                                                 handle_unknown=&#x27;ignore&#x27;,\n",
       "                                                                                 sparse_output=False))]),\n",
       "                                                  [&#x27;day&#x27;, &#x27;dayofweek&#x27;, &#x27;hour&#x27;]),\n",
       "                                                 (&#x27;num&#x27;, MinMaxScaler(),\n",
       "                                                  Index([&#x27;month&#x27;, &#x27;lag_1&#x27;, &#x27;lag_2&#x27;, &#x27;lag_3&#x27;, &#x27;lag_4&#x27;, &#x27;lag_5&#x27;, &#x27;lag_6&#x27;, &#x27;lag_7&#x27;,\n",
       "       &#x27;lag_8&#x27;, &#x27;lag_9&#x27;, &#x27;lag_10&#x27;, &#x27;lag_11&#x27;, &#x27;lag_12&#x27;, &#x27;lag_13&#x27;, &#x27;lag_14&#x27;,\n",
       "       &#x27;lag_15&#x27;, &#x27;lag_16&#x27;, &#x27;lag_17&#x27;, &#x27;lag_18&#x27;, &#x27;lag_19&#x27;, &#x27;lag_20&#x27;, &#x27;lag_21&#x27;,\n",
       "       &#x27;lag_22&#x27;, &#x27;lag_23&#x27;, &#x27;lag_24&#x27;, &#x27;rolling_mean&#x27;],\n",
       "      dtype=&#x27;object&#x27;))])),\n",
       "                (&#x27;models&#x27;,\n",
       "                 DecisionTreeRegressor(max_depth=9, max_features=8,\n",
       "                                       min_samples_leaf=8, min_samples_split=4,\n",
       "                                       random_state=42))])</pre><b>In a Jupyter environment, please rerun this cell to show the HTML representation or trust the notebook. <br />On GitHub, the HTML representation is unable to render, please try loading this page with nbviewer.org.</b></div><div class=\"sk-container\" hidden><div class=\"sk-item sk-dashed-wrapped\"><div class=\"sk-label-container\"><div class=\"sk-label sk-toggleable\"><input class=\"sk-toggleable__control sk-hidden--visually\" id=\"sk-estimator-id-51\" type=\"checkbox\" ><label for=\"sk-estimator-id-51\" class=\"sk-toggleable__label sk-toggleable__label-arrow\">Pipeline</label><div class=\"sk-toggleable__content\"><pre>Pipeline(steps=[(&#x27;preprocessor&#x27;,\n",
       "                 ColumnTransformer(remainder=&#x27;passthrough&#x27;,\n",
       "                                   transformers=[(&#x27;ohe&#x27;,\n",
       "                                                  Pipeline(steps=[(&#x27;simpleImputer_ohe&#x27;,\n",
       "                                                                   SimpleImputer(strategy=&#x27;most_frequent&#x27;)),\n",
       "                                                                  (&#x27;ohe&#x27;,\n",
       "                                                                   OneHotEncoder(drop=&#x27;first&#x27;,\n",
       "                                                                                 handle_unknown=&#x27;ignore&#x27;,\n",
       "                                                                                 sparse_output=False))]),\n",
       "                                                  [&#x27;day&#x27;, &#x27;dayofweek&#x27;, &#x27;hour&#x27;]),\n",
       "                                                 (&#x27;num&#x27;, MinMaxScaler(),\n",
       "                                                  Index([&#x27;month&#x27;, &#x27;lag_1&#x27;, &#x27;lag_2&#x27;, &#x27;lag_3&#x27;, &#x27;lag_4&#x27;, &#x27;lag_5&#x27;, &#x27;lag_6&#x27;, &#x27;lag_7&#x27;,\n",
       "       &#x27;lag_8&#x27;, &#x27;lag_9&#x27;, &#x27;lag_10&#x27;, &#x27;lag_11&#x27;, &#x27;lag_12&#x27;, &#x27;lag_13&#x27;, &#x27;lag_14&#x27;,\n",
       "       &#x27;lag_15&#x27;, &#x27;lag_16&#x27;, &#x27;lag_17&#x27;, &#x27;lag_18&#x27;, &#x27;lag_19&#x27;, &#x27;lag_20&#x27;, &#x27;lag_21&#x27;,\n",
       "       &#x27;lag_22&#x27;, &#x27;lag_23&#x27;, &#x27;lag_24&#x27;, &#x27;rolling_mean&#x27;],\n",
       "      dtype=&#x27;object&#x27;))])),\n",
       "                (&#x27;models&#x27;,\n",
       "                 DecisionTreeRegressor(max_depth=9, max_features=8,\n",
       "                                       min_samples_leaf=8, min_samples_split=4,\n",
       "                                       random_state=42))])</pre></div></div></div><div class=\"sk-serial\"><div class=\"sk-item sk-dashed-wrapped\"><div class=\"sk-label-container\"><div class=\"sk-label sk-toggleable\"><input class=\"sk-toggleable__control sk-hidden--visually\" id=\"sk-estimator-id-52\" type=\"checkbox\" ><label for=\"sk-estimator-id-52\" class=\"sk-toggleable__label sk-toggleable__label-arrow\">preprocessor: ColumnTransformer</label><div class=\"sk-toggleable__content\"><pre>ColumnTransformer(remainder=&#x27;passthrough&#x27;,\n",
       "                  transformers=[(&#x27;ohe&#x27;,\n",
       "                                 Pipeline(steps=[(&#x27;simpleImputer_ohe&#x27;,\n",
       "                                                  SimpleImputer(strategy=&#x27;most_frequent&#x27;)),\n",
       "                                                 (&#x27;ohe&#x27;,\n",
       "                                                  OneHotEncoder(drop=&#x27;first&#x27;,\n",
       "                                                                handle_unknown=&#x27;ignore&#x27;,\n",
       "                                                                sparse_output=False))]),\n",
       "                                 [&#x27;day&#x27;, &#x27;dayofweek&#x27;, &#x27;hour&#x27;]),\n",
       "                                (&#x27;num&#x27;, MinMaxScaler(),\n",
       "                                 Index([&#x27;month&#x27;, &#x27;lag_1&#x27;, &#x27;lag_2&#x27;, &#x27;lag_3&#x27;, &#x27;lag_4&#x27;, &#x27;lag_5&#x27;, &#x27;lag_6&#x27;, &#x27;lag_7&#x27;,\n",
       "       &#x27;lag_8&#x27;, &#x27;lag_9&#x27;, &#x27;lag_10&#x27;, &#x27;lag_11&#x27;, &#x27;lag_12&#x27;, &#x27;lag_13&#x27;, &#x27;lag_14&#x27;,\n",
       "       &#x27;lag_15&#x27;, &#x27;lag_16&#x27;, &#x27;lag_17&#x27;, &#x27;lag_18&#x27;, &#x27;lag_19&#x27;, &#x27;lag_20&#x27;, &#x27;lag_21&#x27;,\n",
       "       &#x27;lag_22&#x27;, &#x27;lag_23&#x27;, &#x27;lag_24&#x27;, &#x27;rolling_mean&#x27;],\n",
       "      dtype=&#x27;object&#x27;))])</pre></div></div></div><div class=\"sk-parallel\"><div class=\"sk-parallel-item\"><div class=\"sk-item\"><div class=\"sk-label-container\"><div class=\"sk-label sk-toggleable\"><input class=\"sk-toggleable__control sk-hidden--visually\" id=\"sk-estimator-id-53\" type=\"checkbox\" ><label for=\"sk-estimator-id-53\" class=\"sk-toggleable__label sk-toggleable__label-arrow\">ohe</label><div class=\"sk-toggleable__content\"><pre>[&#x27;day&#x27;, &#x27;dayofweek&#x27;, &#x27;hour&#x27;]</pre></div></div></div><div class=\"sk-serial\"><div class=\"sk-item\"><div class=\"sk-serial\"><div class=\"sk-item\"><div class=\"sk-estimator sk-toggleable\"><input class=\"sk-toggleable__control sk-hidden--visually\" id=\"sk-estimator-id-54\" type=\"checkbox\" ><label for=\"sk-estimator-id-54\" class=\"sk-toggleable__label sk-toggleable__label-arrow\">SimpleImputer</label><div class=\"sk-toggleable__content\"><pre>SimpleImputer(strategy=&#x27;most_frequent&#x27;)</pre></div></div></div><div class=\"sk-item\"><div class=\"sk-estimator sk-toggleable\"><input class=\"sk-toggleable__control sk-hidden--visually\" id=\"sk-estimator-id-55\" type=\"checkbox\" ><label for=\"sk-estimator-id-55\" class=\"sk-toggleable__label sk-toggleable__label-arrow\">OneHotEncoder</label><div class=\"sk-toggleable__content\"><pre>OneHotEncoder(drop=&#x27;first&#x27;, handle_unknown=&#x27;ignore&#x27;, sparse_output=False)</pre></div></div></div></div></div></div></div></div><div class=\"sk-parallel-item\"><div class=\"sk-item\"><div class=\"sk-label-container\"><div class=\"sk-label sk-toggleable\"><input class=\"sk-toggleable__control sk-hidden--visually\" id=\"sk-estimator-id-56\" type=\"checkbox\" ><label for=\"sk-estimator-id-56\" class=\"sk-toggleable__label sk-toggleable__label-arrow\">num</label><div class=\"sk-toggleable__content\"><pre>Index([&#x27;month&#x27;, &#x27;lag_1&#x27;, &#x27;lag_2&#x27;, &#x27;lag_3&#x27;, &#x27;lag_4&#x27;, &#x27;lag_5&#x27;, &#x27;lag_6&#x27;, &#x27;lag_7&#x27;,\n",
       "       &#x27;lag_8&#x27;, &#x27;lag_9&#x27;, &#x27;lag_10&#x27;, &#x27;lag_11&#x27;, &#x27;lag_12&#x27;, &#x27;lag_13&#x27;, &#x27;lag_14&#x27;,\n",
       "       &#x27;lag_15&#x27;, &#x27;lag_16&#x27;, &#x27;lag_17&#x27;, &#x27;lag_18&#x27;, &#x27;lag_19&#x27;, &#x27;lag_20&#x27;, &#x27;lag_21&#x27;,\n",
       "       &#x27;lag_22&#x27;, &#x27;lag_23&#x27;, &#x27;lag_24&#x27;, &#x27;rolling_mean&#x27;],\n",
       "      dtype=&#x27;object&#x27;)</pre></div></div></div><div class=\"sk-serial\"><div class=\"sk-item\"><div class=\"sk-estimator sk-toggleable\"><input class=\"sk-toggleable__control sk-hidden--visually\" id=\"sk-estimator-id-57\" type=\"checkbox\" ><label for=\"sk-estimator-id-57\" class=\"sk-toggleable__label sk-toggleable__label-arrow\">MinMaxScaler</label><div class=\"sk-toggleable__content\"><pre>MinMaxScaler()</pre></div></div></div></div></div></div><div class=\"sk-parallel-item\"><div class=\"sk-item\"><div class=\"sk-label-container\"><div class=\"sk-label sk-toggleable\"><input class=\"sk-toggleable__control sk-hidden--visually\" id=\"sk-estimator-id-58\" type=\"checkbox\" ><label for=\"sk-estimator-id-58\" class=\"sk-toggleable__label sk-toggleable__label-arrow\">remainder</label><div class=\"sk-toggleable__content\"><pre>[]</pre></div></div></div><div class=\"sk-serial\"><div class=\"sk-item\"><div class=\"sk-estimator sk-toggleable\"><input class=\"sk-toggleable__control sk-hidden--visually\" id=\"sk-estimator-id-59\" type=\"checkbox\" ><label for=\"sk-estimator-id-59\" class=\"sk-toggleable__label sk-toggleable__label-arrow\">passthrough</label><div class=\"sk-toggleable__content\"><pre>passthrough</pre></div></div></div></div></div></div></div></div><div class=\"sk-item\"><div class=\"sk-estimator sk-toggleable\"><input class=\"sk-toggleable__control sk-hidden--visually\" id=\"sk-estimator-id-60\" type=\"checkbox\" ><label for=\"sk-estimator-id-60\" class=\"sk-toggleable__label sk-toggleable__label-arrow\">DecisionTreeRegressor</label><div class=\"sk-toggleable__content\"><pre>DecisionTreeRegressor(max_depth=9, max_features=8, min_samples_leaf=8,\n",
       "                      min_samples_split=4, random_state=42)</pre></div></div></div></div></div></div></div>"
      ],
      "text/plain": [
       "Pipeline(steps=[('preprocessor',\n",
       "                 ColumnTransformer(remainder='passthrough',\n",
       "                                   transformers=[('ohe',\n",
       "                                                  Pipeline(steps=[('simpleImputer_ohe',\n",
       "                                                                   SimpleImputer(strategy='most_frequent')),\n",
       "                                                                  ('ohe',\n",
       "                                                                   OneHotEncoder(drop='first',\n",
       "                                                                                 handle_unknown='ignore',\n",
       "                                                                                 sparse_output=False))]),\n",
       "                                                  ['day', 'dayofweek', 'hour']),\n",
       "                                                 ('num', MinMaxScaler(),\n",
       "                                                  Index(['month', 'lag_1', 'lag_2', 'lag_3', 'lag_4', 'lag_5', 'lag_6', 'lag_7',\n",
       "       'lag_8', 'lag_9', 'lag_10', 'lag_11', 'lag_12', 'lag_13', 'lag_14',\n",
       "       'lag_15', 'lag_16', 'lag_17', 'lag_18', 'lag_19', 'lag_20', 'lag_21',\n",
       "       'lag_22', 'lag_23', 'lag_24', 'rolling_mean'],\n",
       "      dtype='object'))])),\n",
       "                ('models',\n",
       "                 DecisionTreeRegressor(max_depth=9, max_features=8,\n",
       "                                       min_samples_leaf=8, min_samples_split=4,\n",
       "                                       random_state=42))])"
      ]
     },
     "execution_count": 76,
     "metadata": {},
     "output_type": "execute_result"
    }
   ],
   "source": [
    "%%time\n",
    "model_optuna.fit(X_train, y_train)"
   ]
  },
  {
   "cell_type": "code",
   "execution_count": 77,
   "metadata": {},
   "outputs": [
    {
     "name": "stdout",
     "output_type": "stream",
     "text": [
      "CPU times: user 12 ms, sys: 205 µs, total: 12.2 ms\n",
      "Wall time: 10.8 ms\n"
     ]
    }
   ],
   "source": [
    "%%time\n",
    "optuna_pred_train = model_optuna.predict(X_train)"
   ]
  },
  {
   "cell_type": "code",
   "execution_count": 78,
   "metadata": {},
   "outputs": [
    {
     "name": "stdout",
     "output_type": "stream",
     "text": [
      "CPU times: user 1.38 ms, sys: 824 µs, total: 2.21 ms\n",
      "Wall time: 1.56 ms\n"
     ]
    },
    {
     "data": {
      "text/plain": [
       "25.03861823756026"
      ]
     },
     "execution_count": 78,
     "metadata": {},
     "output_type": "execute_result"
    }
   ],
   "source": [
    "%%time\n",
    "sqrt(mean_squared_error(y_train, optuna_pred_train))"
   ]
  },
  {
   "cell_type": "markdown",
   "metadata": {},
   "source": [
    "Дерево регрессии тоже показало результат похуже линейной регрессии. rmse = 25 на тренировочной выборке. Тестовые данные будем проверять на линейной регрессии."
   ]
  },
  {
   "cell_type": "markdown",
   "metadata": {},
   "source": [
    "### Выводы по этапу:\n",
    "\n",
    "\n",
    "1. Лучшие параметры для датасета это 24 и 30.\n",
    "2. Линейная регрессия получила rmse=22.5 на тренировочной выборке. Также ее обучения и тренировка заняли сильно менее секунды.\n",
    "3. Дерево регрессии получило rmse = 25 на тренировочной выборке. Обучение и тренировка тоже произошли сильно менее секунды.\n",
    "4. Линейнай регрессия показала лучший результат, так что проверим тестовые данные на ней."
   ]
  },
  {
   "cell_type": "markdown",
   "metadata": {},
   "source": [
    "## Тестирование"
   ]
  },
  {
   "cell_type": "code",
   "execution_count": 80,
   "metadata": {},
   "outputs": [],
   "source": [
    "linear_pred_test = model_linear.predict(X_test)"
   ]
  },
  {
   "cell_type": "code",
   "execution_count": 81,
   "metadata": {},
   "outputs": [
    {
     "data": {
      "text/plain": [
       "45.343763546334536"
      ]
     },
     "execution_count": 81,
     "metadata": {},
     "output_type": "execute_result"
    }
   ],
   "source": [
    "sqrt(mean_squared_error(y_test, linear_pred_test))"
   ]
  },
  {
   "cell_type": "markdown",
   "metadata": {},
   "source": [
    "rmse = 45.3 это удовлетворяет требуемому порогу. Посмотрим на грфики скользящего среднего."
   ]
  },
  {
   "cell_type": "code",
   "execution_count": 122,
   "metadata": {},
   "outputs": [
    {
     "data": {
      "text/plain": [
       "<matplotlib.legend.Legend at 0x7f246a1d00a0>"
      ]
     },
     "execution_count": 122,
     "metadata": {},
     "output_type": "execute_result"
    },
    {
     "data": {
      "image/png": "[encoded data removed]",
      "text/plain": [
       "<Figure size 1080x576 with 1 Axes>"
      ]
     },
     "metadata": {
      "needs_background": "light"
     },
     "output_type": "display_data"
    }
   ],
   "source": [
    "linear_pred_test = pd.Series(data=linear_pred_test, index=y_test.index)\n",
    "plt.figure(figsize=(15, 8))\n",
    "plt.plot(linear_pred_test.rolling(10).mean(), label= 'predicted')\n",
    "plt.plot(y_test.rolling(10).mean(), label= 'true')\n",
    "plt.legend()"
   ]
  },
  {
   "cell_type": "markdown",
   "metadata": {},
   "source": [
    "Предсказанные значения не угадывают пики настоящих значений."
   ]
  },
  {
   "cell_type": "markdown",
   "metadata": {},
   "source": [
    "## Выводы:\n",
    "\n",
    "1. За данный период существует общий тренд по увеличению числа заказов.\n",
    "2. Определенной сезонности не обнаружено.\n",
    "3. Линейная регрессия получила rmse = 22.5 на тренировочной выборке. Также ее обучения и тренировка заняли сильно менее секунды.\n",
    "4. Дерево регрессии получило rmse = 25 на тренировочной выборке. Обучение и тренировка тоже произошли сильно менее секунды.\n",
    "5. Линейная регрессия полила на тренировочной выборке rmse = 45.3. Что удовлетворяет поставленной задаче.\n",
    "6. Линейная регрессия с данными параметрами датасета рекомендована для дальнейшего использования."
   ]
  }
 ],
 "metadata": {
  "ExecuteTimeLog": [
   {
    "duration": 2509,
    "start_time": "2023-12-29T07:00:12.449Z"
   },
   {
    "duration": 5355,
    "start_time": "2023-12-29T07:00:35.563Z"
   },
   {
    "duration": 3324,
    "start_time": "2023-12-29T07:00:41.845Z"
   },
   {
    "duration": 2966,
    "start_time": "2023-12-29T07:00:47.781Z"
   },
   {
    "duration": 3449,
    "start_time": "2023-12-29T07:00:53.831Z"
   },
   {
    "duration": 2667,
    "start_time": "2023-12-29T07:01:00.129Z"
   },
   {
    "duration": 3,
    "start_time": "2023-12-29T07:01:09.877Z"
   },
   {
    "duration": 119,
    "start_time": "2023-12-29T07:01:45.027Z"
   },
   {
    "duration": 12,
    "start_time": "2023-12-29T07:01:55.079Z"
   },
   {
    "duration": 1344,
    "start_time": "2023-12-29T07:02:49.991Z"
   },
   {
    "duration": 21,
    "start_time": "2023-12-29T07:02:57.711Z"
   },
   {
    "duration": 72,
    "start_time": "2023-12-29T07:04:01.650Z"
   },
   {
    "duration": 8,
    "start_time": "2023-12-29T07:04:20.830Z"
   },
   {
    "duration": 79,
    "start_time": "2023-12-29T07:04:41.170Z"
   },
   {
    "duration": 9,
    "start_time": "2023-12-29T07:05:55.580Z"
   },
   {
    "duration": 10,
    "start_time": "2023-12-29T07:06:05.764Z"
   },
   {
    "duration": 9,
    "start_time": "2023-12-29T07:06:23.198Z"
   },
   {
    "duration": 77,
    "start_time": "2023-12-29T07:06:44.565Z"
   },
   {
    "duration": 218,
    "start_time": "2023-12-29T07:07:00.222Z"
   },
   {
    "duration": 80,
    "start_time": "2023-12-29T07:07:20.076Z"
   },
   {
    "duration": 11,
    "start_time": "2023-12-29T07:07:29.074Z"
   },
   {
    "duration": 11,
    "start_time": "2023-12-29T07:07:38.944Z"
   },
   {
    "duration": 4,
    "start_time": "2023-12-29T07:07:48.742Z"
   },
   {
    "duration": 4,
    "start_time": "2023-12-29T07:08:01.589Z"
   },
   {
    "duration": 103,
    "start_time": "2023-12-29T07:09:36.630Z"
   },
   {
    "duration": 187,
    "start_time": "2023-12-29T07:10:34.378Z"
   },
   {
    "duration": 279,
    "start_time": "2023-12-29T07:11:50.359Z"
   },
   {
    "duration": 86,
    "start_time": "2023-12-29T07:12:41.309Z"
   },
   {
    "duration": 21,
    "start_time": "2023-12-29T07:14:09.140Z"
   },
   {
    "duration": 5,
    "start_time": "2023-12-29T07:14:13.988Z"
   },
   {
    "duration": 92,
    "start_time": "2023-12-29T07:14:52.192Z"
   },
   {
    "duration": 16,
    "start_time": "2023-12-29T07:15:30.354Z"
   },
   {
    "duration": 15,
    "start_time": "2023-12-29T07:15:39.594Z"
   },
   {
    "duration": 188,
    "start_time": "2023-12-29T07:15:51.055Z"
   },
   {
    "duration": 13,
    "start_time": "2023-12-29T07:15:58.283Z"
   },
   {
    "duration": 14,
    "start_time": "2023-12-29T07:16:02.357Z"
   },
   {
    "duration": 227,
    "start_time": "2023-12-29T07:16:26.578Z"
   },
   {
    "duration": 47,
    "start_time": "2023-12-29T07:16:42.168Z"
   },
   {
    "duration": 11,
    "start_time": "2023-12-29T07:16:42.332Z"
   },
   {
    "duration": 16,
    "start_time": "2023-12-29T07:16:43.026Z"
   },
   {
    "duration": 7,
    "start_time": "2023-12-29T07:16:43.294Z"
   },
   {
    "duration": 10,
    "start_time": "2023-12-29T07:16:43.763Z"
   },
   {
    "duration": 9,
    "start_time": "2023-12-29T07:16:43.903Z"
   },
   {
    "duration": 4,
    "start_time": "2023-12-29T07:16:44.557Z"
   },
   {
    "duration": 4,
    "start_time": "2023-12-29T07:16:44.761Z"
   },
   {
    "duration": 197,
    "start_time": "2023-12-29T07:16:45.766Z"
   },
   {
    "duration": 204,
    "start_time": "2023-12-29T07:16:46.915Z"
   },
   {
    "duration": 200,
    "start_time": "2023-12-29T07:16:48.586Z"
   },
   {
    "duration": 181,
    "start_time": "2023-12-29T07:16:54.452Z"
   },
   {
    "duration": 173,
    "start_time": "2023-12-29T07:17:11.156Z"
   },
   {
    "duration": 313,
    "start_time": "2023-12-29T07:17:15.726Z"
   },
   {
    "duration": 120,
    "start_time": "2023-12-29T07:18:11.506Z"
   },
   {
    "duration": 1322,
    "start_time": "2023-12-29T07:18:19.974Z"
   },
   {
    "duration": 213,
    "start_time": "2023-12-29T07:18:25.382Z"
   },
   {
    "duration": 647,
    "start_time": "2023-12-29T07:19:13.600Z"
   },
   {
    "duration": 197,
    "start_time": "2023-12-29T07:36:07.157Z"
   },
   {
    "duration": 194,
    "start_time": "2023-12-29T07:36:11.223Z"
   },
   {
    "duration": 223,
    "start_time": "2023-12-29T07:36:17.577Z"
   },
   {
    "duration": 69,
    "start_time": "2023-12-29T07:43:46.181Z"
   },
   {
    "duration": 12,
    "start_time": "2023-12-29T07:44:28.184Z"
   },
   {
    "duration": 2,
    "start_time": "2023-12-29T07:44:49.833Z"
   },
   {
    "duration": 17,
    "start_time": "2023-12-29T07:44:51.154Z"
   },
   {
    "duration": 14,
    "start_time": "2023-12-29T07:45:02.524Z"
   },
   {
    "duration": 263,
    "start_time": "2023-12-29T07:45:10.484Z"
   },
   {
    "duration": 78,
    "start_time": "2023-12-29T07:47:38.361Z"
   },
   {
    "duration": 3,
    "start_time": "2023-12-29T07:48:18.451Z"
   },
   {
    "duration": 10,
    "start_time": "2023-12-29T07:48:26.672Z"
   },
   {
    "duration": 143,
    "start_time": "2023-12-29T07:49:12.466Z"
   },
   {
    "duration": 272,
    "start_time": "2023-12-29T07:49:33.739Z"
   },
   {
    "duration": 86,
    "start_time": "2023-12-29T07:50:14.896Z"
   },
   {
    "duration": 105,
    "start_time": "2023-12-29T07:51:18.974Z"
   },
   {
    "duration": 86,
    "start_time": "2023-12-29T07:51:30.889Z"
   },
   {
    "duration": 10,
    "start_time": "2023-12-29T07:51:33.221Z"
   },
   {
    "duration": 9,
    "start_time": "2023-12-29T07:51:45.871Z"
   },
   {
    "duration": 68,
    "start_time": "2023-12-29T07:51:55.701Z"
   },
   {
    "duration": 10,
    "start_time": "2023-12-29T07:51:58.065Z"
   },
   {
    "duration": 6,
    "start_time": "2023-12-29T07:52:01.973Z"
   },
   {
    "duration": 6,
    "start_time": "2023-12-29T07:52:10.898Z"
   },
   {
    "duration": 6,
    "start_time": "2023-12-29T07:52:15.267Z"
   },
   {
    "duration": 9,
    "start_time": "2023-12-29T07:52:35.217Z"
   },
   {
    "duration": 1274,
    "start_time": "2023-12-29T07:52:45.255Z"
   },
   {
    "duration": 1164,
    "start_time": "2023-12-29T07:52:52.942Z"
   },
   {
    "duration": 11,
    "start_time": "2023-12-29T07:53:35.239Z"
   },
   {
    "duration": 15,
    "start_time": "2023-12-29T07:53:39.601Z"
   },
   {
    "duration": 6,
    "start_time": "2023-12-29T07:53:47.717Z"
   },
   {
    "duration": 13,
    "start_time": "2023-12-29T07:54:35.942Z"
   },
   {
    "duration": 13,
    "start_time": "2023-12-29T07:54:38.395Z"
   },
   {
    "duration": 13,
    "start_time": "2023-12-29T07:54:43.477Z"
   },
   {
    "duration": 12,
    "start_time": "2023-12-29T07:54:46.191Z"
   },
   {
    "duration": 11,
    "start_time": "2023-12-29T07:55:01.236Z"
   },
   {
    "duration": 5,
    "start_time": "2023-12-29T07:55:10.898Z"
   },
   {
    "duration": 33,
    "start_time": "2023-12-29T07:55:14.067Z"
   },
   {
    "duration": 7,
    "start_time": "2023-12-29T07:55:17.328Z"
   },
   {
    "duration": 13,
    "start_time": "2023-12-29T07:55:25.854Z"
   },
   {
    "duration": 8,
    "start_time": "2023-12-29T07:55:32.178Z"
   },
   {
    "duration": 7,
    "start_time": "2023-12-29T07:55:34.858Z"
   },
   {
    "duration": 6,
    "start_time": "2023-12-29T07:55:42.475Z"
   },
   {
    "duration": 7,
    "start_time": "2023-12-29T07:56:55.777Z"
   },
   {
    "duration": 7,
    "start_time": "2023-12-29T07:57:03.848Z"
   },
   {
    "duration": 7,
    "start_time": "2023-12-29T07:57:18.643Z"
   },
   {
    "duration": 7,
    "start_time": "2023-12-29T07:57:33.514Z"
   },
   {
    "duration": 8,
    "start_time": "2023-12-29T07:57:38.072Z"
   },
   {
    "duration": 75,
    "start_time": "2023-12-29T08:00:00.265Z"
   },
   {
    "duration": 80,
    "start_time": "2023-12-29T08:03:14.164Z"
   },
   {
    "duration": 3,
    "start_time": "2023-12-29T08:03:57.094Z"
   },
   {
    "duration": 3,
    "start_time": "2023-12-29T08:04:34.800Z"
   },
   {
    "duration": 1210,
    "start_time": "2023-12-29T08:04:46.302Z"
   },
   {
    "duration": 3,
    "start_time": "2023-12-29T08:05:04.315Z"
   },
   {
    "duration": 4,
    "start_time": "2023-12-29T08:05:06.893Z"
   },
   {
    "duration": 12,
    "start_time": "2023-12-29T08:05:08.302Z"
   },
   {
    "duration": 4,
    "start_time": "2023-12-29T08:05:26.372Z"
   },
   {
    "duration": 11,
    "start_time": "2023-12-29T08:05:33.132Z"
   },
   {
    "duration": 11,
    "start_time": "2023-12-29T08:05:37.946Z"
   },
   {
    "duration": 3,
    "start_time": "2023-12-29T08:05:41.417Z"
   },
   {
    "duration": 10,
    "start_time": "2023-12-29T08:05:41.542Z"
   },
   {
    "duration": 3,
    "start_time": "2023-12-29T08:05:49.099Z"
   },
   {
    "duration": 5,
    "start_time": "2023-12-29T08:05:49.462Z"
   },
   {
    "duration": 13,
    "start_time": "2023-12-29T08:05:49.642Z"
   },
   {
    "duration": 3,
    "start_time": "2023-12-29T08:08:00.020Z"
   },
   {
    "duration": 11,
    "start_time": "2023-12-29T08:08:00.223Z"
   },
   {
    "duration": 3,
    "start_time": "2023-12-29T08:08:12.221Z"
   },
   {
    "duration": 4,
    "start_time": "2023-12-29T08:08:12.755Z"
   },
   {
    "duration": 14,
    "start_time": "2023-12-29T08:08:13.025Z"
   },
   {
    "duration": 78,
    "start_time": "2023-12-29T08:09:03.877Z"
   },
   {
    "duration": 78,
    "start_time": "2023-12-29T08:21:53.086Z"
   },
   {
    "duration": 12,
    "start_time": "2023-12-29T08:23:21.786Z"
   },
   {
    "duration": 12,
    "start_time": "2023-12-29T08:24:31.217Z"
   },
   {
    "duration": 3,
    "start_time": "2023-12-29T08:24:36.379Z"
   },
   {
    "duration": 4,
    "start_time": "2023-12-29T08:24:41.747Z"
   },
   {
    "duration": 4,
    "start_time": "2023-12-29T08:24:55.428Z"
   },
   {
    "duration": 10,
    "start_time": "2023-12-29T08:25:05.000Z"
   },
   {
    "duration": 4,
    "start_time": "2023-12-29T08:25:11.401Z"
   },
   {
    "duration": 13,
    "start_time": "2023-12-29T08:25:31.479Z"
   },
   {
    "duration": 11,
    "start_time": "2023-12-29T08:25:36.079Z"
   },
   {
    "duration": 4,
    "start_time": "2023-12-29T08:25:40.821Z"
   },
   {
    "duration": 11,
    "start_time": "2023-12-29T08:26:24.601Z"
   },
   {
    "duration": 5,
    "start_time": "2023-12-29T08:26:44.667Z"
   },
   {
    "duration": 10,
    "start_time": "2023-12-29T08:26:52.861Z"
   },
   {
    "duration": 4,
    "start_time": "2023-12-29T08:27:08.032Z"
   },
   {
    "duration": 82,
    "start_time": "2023-12-29T08:27:31.160Z"
   },
   {
    "duration": 66,
    "start_time": "2023-12-29T08:28:38.641Z"
   },
   {
    "duration": 3,
    "start_time": "2023-12-29T08:28:41.077Z"
   },
   {
    "duration": 4,
    "start_time": "2023-12-29T08:28:42.698Z"
   },
   {
    "duration": 4,
    "start_time": "2023-12-29T08:33:06.699Z"
   },
   {
    "duration": 17,
    "start_time": "2023-12-29T08:33:07.572Z"
   },
   {
    "duration": 2250,
    "start_time": "2023-12-29T08:33:26.136Z"
   },
   {
    "duration": 16,
    "start_time": "2023-12-29T08:37:48.843Z"
   },
   {
    "duration": 2237,
    "start_time": "2023-12-29T08:37:55.877Z"
   },
   {
    "duration": 2301,
    "start_time": "2023-12-29T08:38:24.603Z"
   },
   {
    "duration": 2397,
    "start_time": "2023-12-29T08:39:40.259Z"
   },
   {
    "duration": 2204,
    "start_time": "2023-12-29T08:39:50.177Z"
   },
   {
    "duration": 2184,
    "start_time": "2023-12-29T08:40:09.352Z"
   },
   {
    "duration": 4,
    "start_time": "2023-12-29T08:40:57.091Z"
   },
   {
    "duration": 2426,
    "start_time": "2023-12-29T08:40:58.021Z"
   },
   {
    "duration": 2551,
    "start_time": "2023-12-30T13:56:02.324Z"
   },
   {
    "duration": 5800,
    "start_time": "2023-12-30T13:56:04.877Z"
   },
   {
    "duration": 3448,
    "start_time": "2023-12-30T13:56:10.680Z"
   },
   {
    "duration": 2898,
    "start_time": "2023-12-30T13:56:14.130Z"
   },
   {
    "duration": 3936,
    "start_time": "2023-12-30T13:56:17.029Z"
   },
   {
    "duration": 2693,
    "start_time": "2023-12-30T13:56:20.967Z"
   },
   {
    "duration": 119,
    "start_time": "2023-12-30T13:56:23.661Z"
   },
   {
    "duration": 12,
    "start_time": "2023-12-30T13:56:23.781Z"
   },
   {
    "duration": 15,
    "start_time": "2023-12-30T13:56:23.795Z"
   },
   {
    "duration": 7,
    "start_time": "2023-12-30T13:56:23.814Z"
   },
   {
    "duration": 13,
    "start_time": "2023-12-30T13:56:23.823Z"
   },
   {
    "duration": 34,
    "start_time": "2023-12-30T13:56:23.838Z"
   },
   {
    "duration": 9,
    "start_time": "2023-12-30T13:56:23.874Z"
   },
   {
    "duration": 5,
    "start_time": "2023-12-30T13:56:23.884Z"
   },
   {
    "duration": 13,
    "start_time": "2023-12-30T13:56:23.891Z"
   },
   {
    "duration": 181,
    "start_time": "2023-12-30T13:56:23.906Z"
   },
   {
    "duration": 99,
    "start_time": "2023-12-30T13:56:24.089Z"
   },
   {
    "duration": 293,
    "start_time": "2023-12-30T13:56:24.190Z"
   },
   {
    "duration": 227,
    "start_time": "2023-12-30T13:56:24.485Z"
   },
   {
    "duration": 204,
    "start_time": "2023-12-30T13:56:24.713Z"
   },
   {
    "duration": 255,
    "start_time": "2023-12-30T13:56:24.919Z"
   },
   {
    "duration": 0,
    "start_time": "2023-12-30T13:56:25.176Z"
   },
   {
    "duration": 0,
    "start_time": "2023-12-30T13:56:25.177Z"
   },
   {
    "duration": 0,
    "start_time": "2023-12-30T13:56:25.178Z"
   },
   {
    "duration": 0,
    "start_time": "2023-12-30T13:56:25.178Z"
   },
   {
    "duration": 0,
    "start_time": "2023-12-30T13:56:25.180Z"
   },
   {
    "duration": 1,
    "start_time": "2023-12-30T13:56:25.180Z"
   },
   {
    "duration": 714,
    "start_time": "2023-12-30T13:57:30.958Z"
   },
   {
    "duration": 281,
    "start_time": "2023-12-30T13:57:35.013Z"
   },
   {
    "duration": 3,
    "start_time": "2023-12-30T13:57:35.572Z"
   },
   {
    "duration": 4,
    "start_time": "2023-12-30T13:57:35.852Z"
   },
   {
    "duration": 15,
    "start_time": "2023-12-30T13:57:35.987Z"
   },
   {
    "duration": 11,
    "start_time": "2023-12-30T13:57:40.570Z"
   },
   {
    "duration": 9,
    "start_time": "2023-12-30T13:58:11.495Z"
   },
   {
    "duration": 3,
    "start_time": "2023-12-30T13:58:11.787Z"
   },
   {
    "duration": 4,
    "start_time": "2023-12-30T13:58:12.915Z"
   },
   {
    "duration": 4378,
    "start_time": "2023-12-30T13:58:26.095Z"
   },
   {
    "duration": 4488,
    "start_time": "2023-12-30T13:58:47.492Z"
   },
   {
    "duration": 4397,
    "start_time": "2023-12-30T13:59:16.484Z"
   },
   {
    "duration": 89,
    "start_time": "2023-12-30T13:59:20.883Z"
   },
   {
    "duration": 4698,
    "start_time": "2023-12-30T13:59:27.775Z"
   },
   {
    "duration": 98,
    "start_time": "2023-12-30T13:59:32.475Z"
   },
   {
    "duration": 117024,
    "start_time": "2023-12-30T14:00:26.055Z"
   },
   {
    "duration": 91,
    "start_time": "2023-12-30T14:02:23.081Z"
   },
   {
    "duration": 119653,
    "start_time": "2023-12-30T14:03:29.916Z"
   },
   {
    "duration": 14,
    "start_time": "2023-12-30T14:06:23.722Z"
   },
   {
    "duration": 5,
    "start_time": "2023-12-30T14:06:29.482Z"
   },
   {
    "duration": 115298,
    "start_time": "2023-12-30T14:06:41.174Z"
   },
   {
    "duration": 0,
    "start_time": "2023-12-30T14:11:30.204Z"
   },
   {
    "duration": 9057,
    "start_time": "2023-12-30T14:11:33.211Z"
   },
   {
    "duration": 2448,
    "start_time": "2023-12-30T14:12:25.241Z"
   },
   {
    "duration": 2938,
    "start_time": "2023-12-30T14:12:27.692Z"
   },
   {
    "duration": 2500,
    "start_time": "2023-12-30T14:12:30.632Z"
   },
   {
    "duration": 2468,
    "start_time": "2023-12-30T14:12:33.135Z"
   },
   {
    "duration": 2344,
    "start_time": "2023-12-30T14:12:35.605Z"
   },
   {
    "duration": 2480,
    "start_time": "2023-12-30T14:12:37.951Z"
   },
   {
    "duration": 50,
    "start_time": "2023-12-30T14:12:40.433Z"
   },
   {
    "duration": 11,
    "start_time": "2023-12-30T14:12:40.485Z"
   },
   {
    "duration": 30,
    "start_time": "2023-12-30T14:12:40.499Z"
   },
   {
    "duration": 8,
    "start_time": "2023-12-30T14:12:40.530Z"
   },
   {
    "duration": 31,
    "start_time": "2023-12-30T14:12:40.539Z"
   },
   {
    "duration": 9,
    "start_time": "2023-12-30T14:12:40.572Z"
   },
   {
    "duration": 12,
    "start_time": "2023-12-30T14:12:40.582Z"
   },
   {
    "duration": 34,
    "start_time": "2023-12-30T14:12:40.596Z"
   },
   {
    "duration": 21,
    "start_time": "2023-12-30T14:12:40.631Z"
   },
   {
    "duration": 167,
    "start_time": "2023-12-30T14:12:40.654Z"
   },
   {
    "duration": 95,
    "start_time": "2023-12-30T14:12:40.823Z"
   },
   {
    "duration": 314,
    "start_time": "2023-12-30T14:12:40.919Z"
   },
   {
    "duration": 211,
    "start_time": "2023-12-30T14:12:41.234Z"
   },
   {
    "duration": 205,
    "start_time": "2023-12-30T14:12:41.446Z"
   },
   {
    "duration": 643,
    "start_time": "2023-12-30T14:12:41.653Z"
   },
   {
    "duration": 286,
    "start_time": "2023-12-30T14:12:42.297Z"
   },
   {
    "duration": 3,
    "start_time": "2023-12-30T14:12:42.585Z"
   },
   {
    "duration": 35,
    "start_time": "2023-12-30T14:12:42.589Z"
   },
   {
    "duration": 30,
    "start_time": "2023-12-30T14:12:42.626Z"
   },
   {
    "duration": 30,
    "start_time": "2023-12-30T14:12:42.657Z"
   },
   {
    "duration": 37,
    "start_time": "2023-12-30T14:12:42.688Z"
   },
   {
    "duration": 24,
    "start_time": "2023-12-30T14:12:42.727Z"
   },
   {
    "duration": 44130,
    "start_time": "2023-12-30T14:12:42.753Z"
   },
   {
    "duration": 83,
    "start_time": "2023-12-30T14:13:26.885Z"
   },
   {
    "duration": 1802,
    "start_time": "2023-12-30T14:13:26.971Z"
   },
   {
    "duration": 0,
    "start_time": "2023-12-30T14:15:19.736Z"
   },
   {
    "duration": 8058,
    "start_time": "2023-12-30T14:15:21.626Z"
   },
   {
    "duration": 81,
    "start_time": "2023-12-30T14:15:54.648Z"
   },
   {
    "duration": 0,
    "start_time": "2023-12-30T14:16:47.290Z"
   },
   {
    "duration": 9558,
    "start_time": "2023-12-30T14:16:50.616Z"
   },
   {
    "duration": 2532,
    "start_time": "2023-12-30T14:17:07.067Z"
   },
   {
    "duration": 9163,
    "start_time": "2023-12-30T14:17:22.625Z"
   },
   {
    "duration": 0,
    "start_time": "2023-12-30T14:17:31.790Z"
   },
   {
    "duration": 43530,
    "start_time": "2023-12-30T14:17:45.342Z"
   },
   {
    "duration": 42497,
    "start_time": "2023-12-30T14:20:11.076Z"
   },
   {
    "duration": 72,
    "start_time": "2023-12-30T14:22:51.053Z"
   },
   {
    "duration": 16,
    "start_time": "2023-12-30T14:26:43.521Z"
   },
   {
    "duration": 107,
    "start_time": "2023-12-30T14:27:02.162Z"
   },
   {
    "duration": 16,
    "start_time": "2023-12-30T14:27:34.737Z"
   },
   {
    "duration": 1349,
    "start_time": "2023-12-30T14:27:35.725Z"
   },
   {
    "duration": 4387,
    "start_time": "2023-12-30T14:28:33.385Z"
   },
   {
    "duration": 6742,
    "start_time": "2023-12-30T14:28:41.437Z"
   },
   {
    "duration": 51098,
    "start_time": "2023-12-30T14:28:52.475Z"
   },
   {
    "duration": 1352,
    "start_time": "2023-12-30T14:31:30.341Z"
   },
   {
    "duration": 7,
    "start_time": "2023-12-30T14:31:59.645Z"
   },
   {
    "duration": 16,
    "start_time": "2023-12-30T14:32:49.500Z"
   },
   {
    "duration": 198,
    "start_time": "2023-12-30T14:32:53.697Z"
   },
   {
    "duration": 53034,
    "start_time": "2023-12-30T14:33:13.352Z"
   },
   {
    "duration": 109,
    "start_time": "2023-12-30T14:34:06.466Z"
   },
   {
    "duration": 1264,
    "start_time": "2023-12-30T14:34:06.577Z"
   },
   {
    "duration": 81,
    "start_time": "2023-12-30T14:34:07.842Z"
   },
   {
    "duration": 16,
    "start_time": "2023-12-30T14:34:24.875Z"
   },
   {
    "duration": 1267,
    "start_time": "2023-12-30T14:34:25.494Z"
   },
   {
    "duration": 18,
    "start_time": "2023-12-30T14:34:42.109Z"
   },
   {
    "duration": 15,
    "start_time": "2023-12-30T14:34:45.431Z"
   },
   {
    "duration": 1228,
    "start_time": "2023-12-30T14:34:46.789Z"
   },
   {
    "duration": 14,
    "start_time": "2023-12-30T14:35:00.764Z"
   },
   {
    "duration": 17,
    "start_time": "2023-12-30T14:35:43.043Z"
   },
   {
    "duration": 10,
    "start_time": "2023-12-30T14:35:43.972Z"
   },
   {
    "duration": 1189,
    "start_time": "2023-12-30T14:35:44.800Z"
   },
   {
    "duration": 46013,
    "start_time": "2023-12-30T14:36:29.955Z"
   },
   {
    "duration": 105,
    "start_time": "2023-12-30T14:37:15.975Z"
   },
   {
    "duration": 11,
    "start_time": "2023-12-30T14:37:16.081Z"
   },
   {
    "duration": 16,
    "start_time": "2023-12-30T14:37:20.986Z"
   },
   {
    "duration": 227,
    "start_time": "2023-12-30T14:37:25.871Z"
   },
   {
    "duration": 184,
    "start_time": "2023-12-30T14:37:29.181Z"
   },
   {
    "duration": 10,
    "start_time": "2023-12-30T14:37:42.354Z"
   },
   {
    "duration": 5,
    "start_time": "2023-12-30T14:38:24.189Z"
   },
   {
    "duration": 16,
    "start_time": "2023-12-30T14:39:05.117Z"
   },
   {
    "duration": 5,
    "start_time": "2023-12-30T14:39:05.404Z"
   },
   {
    "duration": 77,
    "start_time": "2023-12-30T14:40:48.268Z"
   },
   {
    "duration": 2,
    "start_time": "2023-12-30T14:42:34.193Z"
   },
   {
    "duration": 2818,
    "start_time": "2023-12-30T14:45:37.157Z"
   },
   {
    "duration": 1340,
    "start_time": "2023-12-30T14:45:52.768Z"
   },
   {
    "duration": 15987,
    "start_time": "2023-12-30T14:45:54.973Z"
   },
   {
    "duration": 4,
    "start_time": "2023-12-30T14:46:56.744Z"
   },
   {
    "duration": 3,
    "start_time": "2023-12-30T14:47:16.634Z"
   },
   {
    "duration": 63,
    "start_time": "2023-12-30T14:47:28.727Z"
   },
   {
    "duration": 81,
    "start_time": "2023-12-30T14:47:58.115Z"
   },
   {
    "duration": 16,
    "start_time": "2023-12-30T14:47:58.508Z"
   },
   {
    "duration": 20,
    "start_time": "2023-12-30T14:48:20.469Z"
   },
   {
    "duration": 8,
    "start_time": "2023-12-30T14:48:29.740Z"
   },
   {
    "duration": 74,
    "start_time": "2023-12-30T14:49:39.093Z"
   },
   {
    "duration": 52591,
    "start_time": "2023-12-30T14:54:49.982Z"
   },
   {
    "duration": 77,
    "start_time": "2023-12-30T15:01:06.529Z"
   },
   {
    "duration": 4,
    "start_time": "2023-12-30T15:01:15.311Z"
   },
   {
    "duration": 4,
    "start_time": "2023-12-30T15:01:31.607Z"
   },
   {
    "duration": 18,
    "start_time": "2023-12-30T15:01:34.530Z"
   },
   {
    "duration": 3,
    "start_time": "2023-12-30T15:01:44.494Z"
   },
   {
    "duration": 17,
    "start_time": "2023-12-30T15:01:46.207Z"
   },
   {
    "duration": 3,
    "start_time": "2023-12-30T15:01:57.839Z"
   },
   {
    "duration": 16,
    "start_time": "2023-12-30T15:01:59.429Z"
   },
   {
    "duration": 5,
    "start_time": "2023-12-30T15:02:09.452Z"
   },
   {
    "duration": 4,
    "start_time": "2023-12-30T15:02:15.244Z"
   },
   {
    "duration": 16,
    "start_time": "2023-12-30T15:02:15.438Z"
   },
   {
    "duration": 5,
    "start_time": "2023-12-30T15:02:40.851Z"
   },
   {
    "duration": 5,
    "start_time": "2023-12-30T15:02:40.957Z"
   },
   {
    "duration": 17,
    "start_time": "2023-12-30T15:02:42.731Z"
   },
   {
    "duration": 72,
    "start_time": "2023-12-30T15:02:51.076Z"
   },
   {
    "duration": 4,
    "start_time": "2023-12-30T15:02:53.687Z"
   },
   {
    "duration": 4,
    "start_time": "2023-12-30T15:02:54.495Z"
   },
   {
    "duration": 3,
    "start_time": "2023-12-30T15:02:55.130Z"
   },
   {
    "duration": 25,
    "start_time": "2023-12-30T15:02:55.350Z"
   },
   {
    "duration": 5,
    "start_time": "2023-12-30T15:03:27.605Z"
   },
   {
    "duration": 4,
    "start_time": "2023-12-30T15:03:28.292Z"
   },
   {
    "duration": 17,
    "start_time": "2023-12-30T15:03:28.439Z"
   },
   {
    "duration": 6,
    "start_time": "2023-12-30T15:05:35.071Z"
   },
   {
    "duration": 12,
    "start_time": "2023-12-30T15:05:35.576Z"
   },
   {
    "duration": 12,
    "start_time": "2023-12-30T15:05:38.014Z"
   },
   {
    "duration": 15,
    "start_time": "2023-12-30T15:05:39.165Z"
   },
   {
    "duration": 4,
    "start_time": "2023-12-30T15:08:19.258Z"
   },
   {
    "duration": 2380,
    "start_time": "2023-12-30T15:08:42.687Z"
   },
   {
    "duration": 2889,
    "start_time": "2023-12-30T15:08:45.075Z"
   },
   {
    "duration": 2438,
    "start_time": "2023-12-30T15:08:47.968Z"
   },
   {
    "duration": 2451,
    "start_time": "2023-12-30T15:08:50.407Z"
   },
   {
    "duration": 2394,
    "start_time": "2023-12-30T15:08:52.861Z"
   },
   {
    "duration": 2625,
    "start_time": "2023-12-30T15:08:55.257Z"
   },
   {
    "duration": 51,
    "start_time": "2023-12-30T15:08:57.883Z"
   },
   {
    "duration": 12,
    "start_time": "2023-12-30T15:08:57.935Z"
   },
   {
    "duration": 15,
    "start_time": "2023-12-30T15:08:57.948Z"
   },
   {
    "duration": 14,
    "start_time": "2023-12-30T15:08:57.964Z"
   },
   {
    "duration": 12,
    "start_time": "2023-12-30T15:08:57.979Z"
   },
   {
    "duration": 9,
    "start_time": "2023-12-30T15:08:57.993Z"
   },
   {
    "duration": 5,
    "start_time": "2023-12-30T15:08:58.003Z"
   },
   {
    "duration": 5,
    "start_time": "2023-12-30T15:08:58.010Z"
   },
   {
    "duration": 11,
    "start_time": "2023-12-30T15:08:58.016Z"
   },
   {
    "duration": 198,
    "start_time": "2023-12-30T15:08:58.029Z"
   },
   {
    "duration": 106,
    "start_time": "2023-12-30T15:08:58.228Z"
   },
   {
    "duration": 322,
    "start_time": "2023-12-30T15:08:58.335Z"
   },
   {
    "duration": 233,
    "start_time": "2023-12-30T15:08:58.664Z"
   },
   {
    "duration": 238,
    "start_time": "2023-12-30T15:08:58.899Z"
   },
   {
    "duration": 684,
    "start_time": "2023-12-30T15:08:59.139Z"
   },
   {
    "duration": 299,
    "start_time": "2023-12-30T15:08:59.824Z"
   },
   {
    "duration": 3,
    "start_time": "2023-12-30T15:09:00.124Z"
   },
   {
    "duration": 48,
    "start_time": "2023-12-30T15:09:00.128Z"
   },
   {
    "duration": 19,
    "start_time": "2023-12-30T15:09:00.178Z"
   },
   {
    "duration": 22,
    "start_time": "2023-12-30T15:09:00.198Z"
   },
   {
    "duration": 8,
    "start_time": "2023-12-30T15:09:00.221Z"
   },
   {
    "duration": 46,
    "start_time": "2023-12-30T15:09:00.231Z"
   },
   {
    "duration": 49097,
    "start_time": "2023-12-30T15:09:00.279Z"
   },
   {
    "duration": 102,
    "start_time": "2023-12-30T15:09:49.380Z"
   },
   {
    "duration": 421,
    "start_time": "2023-12-30T15:09:49.484Z"
   },
   {
    "duration": 19,
    "start_time": "2023-12-30T15:09:49.906Z"
   },
   {
    "duration": 9,
    "start_time": "2023-12-30T15:09:49.972Z"
   },
   {
    "duration": 15843,
    "start_time": "2023-12-30T15:09:49.985Z"
   },
   {
    "duration": 4,
    "start_time": "2023-12-30T15:10:05.830Z"
   },
   {
    "duration": 4,
    "start_time": "2023-12-30T15:10:05.836Z"
   },
   {
    "duration": 96,
    "start_time": "2023-12-30T15:10:05.841Z"
   },
   {
    "duration": 13,
    "start_time": "2023-12-30T15:10:05.938Z"
   },
   {
    "duration": 5,
    "start_time": "2023-12-30T15:10:05.953Z"
   },
   {
    "duration": 4,
    "start_time": "2023-12-30T15:10:30.662Z"
   },
   {
    "duration": 71,
    "start_time": "2023-12-30T15:10:31.293Z"
   },
   {
    "duration": 12,
    "start_time": "2023-12-30T15:10:32.329Z"
   },
   {
    "duration": 17,
    "start_time": "2023-12-30T15:10:33.163Z"
   },
   {
    "duration": 14932,
    "start_time": "2023-12-30T15:11:04.807Z"
   },
   {
    "duration": 4,
    "start_time": "2023-12-30T15:11:19.741Z"
   },
   {
    "duration": 4,
    "start_time": "2023-12-30T15:11:21.799Z"
   },
   {
    "duration": 3,
    "start_time": "2023-12-30T15:11:34.423Z"
   },
   {
    "duration": 60,
    "start_time": "2023-12-30T15:11:34.975Z"
   },
   {
    "duration": 13,
    "start_time": "2023-12-30T15:11:35.691Z"
   },
   {
    "duration": 5,
    "start_time": "2023-12-30T15:11:36.920Z"
   },
   {
    "duration": 3067,
    "start_time": "2023-12-30T15:11:55.532Z"
   },
   {
    "duration": 3,
    "start_time": "2023-12-30T15:11:58.601Z"
   },
   {
    "duration": 4,
    "start_time": "2023-12-30T15:11:58.606Z"
   },
   {
    "duration": 67,
    "start_time": "2023-12-30T15:11:58.611Z"
   },
   {
    "duration": 18,
    "start_time": "2023-12-30T15:11:58.679Z"
   },
   {
    "duration": 5,
    "start_time": "2023-12-30T15:11:58.698Z"
   },
   {
    "duration": 15666,
    "start_time": "2023-12-30T15:12:00.288Z"
   },
   {
    "duration": 4,
    "start_time": "2023-12-30T15:12:15.955Z"
   },
   {
    "duration": 8,
    "start_time": "2023-12-30T15:12:15.965Z"
   },
   {
    "duration": 62,
    "start_time": "2023-12-30T15:12:15.975Z"
   },
   {
    "duration": 11,
    "start_time": "2023-12-30T15:12:16.039Z"
   },
   {
    "duration": 13,
    "start_time": "2023-12-30T15:12:16.065Z"
   },
   {
    "duration": 4,
    "start_time": "2023-12-30T15:12:28.024Z"
   },
   {
    "duration": 66,
    "start_time": "2023-12-30T15:12:28.347Z"
   },
   {
    "duration": 14,
    "start_time": "2023-12-30T15:12:28.777Z"
   },
   {
    "duration": 6,
    "start_time": "2023-12-30T15:12:29.448Z"
   },
   {
    "duration": 50472,
    "start_time": "2023-12-30T15:12:41.427Z"
   },
   {
    "duration": 4,
    "start_time": "2023-12-30T15:13:31.901Z"
   },
   {
    "duration": 2,
    "start_time": "2023-12-30T15:13:42.349Z"
   },
   {
    "duration": 83,
    "start_time": "2023-12-30T15:13:42.631Z"
   },
   {
    "duration": 13,
    "start_time": "2023-12-30T15:13:42.975Z"
   },
   {
    "duration": 16,
    "start_time": "2023-12-30T15:13:43.361Z"
   },
   {
    "duration": 177,
    "start_time": "2023-12-30T15:17:38.234Z"
   },
   {
    "duration": 99,
    "start_time": "2023-12-30T15:18:36.043Z"
   },
   {
    "duration": 13,
    "start_time": "2023-12-30T15:18:51.980Z"
   },
   {
    "duration": 77,
    "start_time": "2023-12-30T15:18:57.260Z"
   },
   {
    "duration": 10,
    "start_time": "2023-12-30T15:18:59.352Z"
   },
   {
    "duration": 20,
    "start_time": "2023-12-30T15:19:29.764Z"
   },
   {
    "duration": 216,
    "start_time": "2023-12-30T15:19:30.175Z"
   },
   {
    "duration": 18,
    "start_time": "2023-12-30T15:19:34.968Z"
   },
   {
    "duration": 10,
    "start_time": "2023-12-30T15:19:49.308Z"
   },
   {
    "duration": 11,
    "start_time": "2023-12-30T15:20:29.120Z"
   },
   {
    "duration": 5,
    "start_time": "2023-12-30T15:20:29.826Z"
   },
   {
    "duration": 2455,
    "start_time": "2023-12-30T15:20:35.228Z"
   },
   {
    "duration": 2893,
    "start_time": "2023-12-30T15:20:37.685Z"
   },
   {
    "duration": 2498,
    "start_time": "2023-12-30T15:20:40.579Z"
   },
   {
    "duration": 2417,
    "start_time": "2023-12-30T15:20:43.080Z"
   },
   {
    "duration": 2420,
    "start_time": "2023-12-30T15:20:45.499Z"
   },
   {
    "duration": 2573,
    "start_time": "2023-12-30T15:20:47.920Z"
   },
   {
    "duration": 50,
    "start_time": "2023-12-30T15:20:50.495Z"
   },
   {
    "duration": 11,
    "start_time": "2023-12-30T15:20:50.547Z"
   },
   {
    "duration": 31,
    "start_time": "2023-12-30T15:20:50.560Z"
   },
   {
    "duration": 10,
    "start_time": "2023-12-30T15:20:50.593Z"
   },
   {
    "duration": 14,
    "start_time": "2023-12-30T15:20:50.605Z"
   },
   {
    "duration": 8,
    "start_time": "2023-12-30T15:20:50.620Z"
   },
   {
    "duration": 4,
    "start_time": "2023-12-30T15:20:50.630Z"
   },
   {
    "duration": 22,
    "start_time": "2023-12-30T15:20:50.636Z"
   },
   {
    "duration": 26,
    "start_time": "2023-12-30T15:20:50.660Z"
   },
   {
    "duration": 177,
    "start_time": "2023-12-30T15:20:50.687Z"
   },
   {
    "duration": 97,
    "start_time": "2023-12-30T15:20:50.865Z"
   },
   {
    "duration": 316,
    "start_time": "2023-12-30T15:20:50.975Z"
   },
   {
    "duration": 208,
    "start_time": "2023-12-30T15:20:51.293Z"
   },
   {
    "duration": 217,
    "start_time": "2023-12-30T15:20:51.503Z"
   },
   {
    "duration": 710,
    "start_time": "2023-12-30T15:20:51.721Z"
   },
   {
    "duration": 292,
    "start_time": "2023-12-30T15:20:52.433Z"
   },
   {
    "duration": 3,
    "start_time": "2023-12-30T15:20:52.726Z"
   },
   {
    "duration": 4,
    "start_time": "2023-12-30T15:20:52.730Z"
   },
   {
    "duration": 14,
    "start_time": "2023-12-30T15:20:52.735Z"
   },
   {
    "duration": 27,
    "start_time": "2023-12-30T15:20:52.750Z"
   },
   {
    "duration": 4,
    "start_time": "2023-12-30T15:20:52.778Z"
   },
   {
    "duration": 4,
    "start_time": "2023-12-30T15:20:52.785Z"
   },
   {
    "duration": 50386,
    "start_time": "2023-12-30T15:20:52.790Z"
   },
   {
    "duration": 187,
    "start_time": "2023-12-30T15:21:43.178Z"
   },
   {
    "duration": 215,
    "start_time": "2023-12-30T15:21:43.367Z"
   },
   {
    "duration": 91,
    "start_time": "2023-12-30T15:21:43.584Z"
   },
   {
    "duration": 262,
    "start_time": "2023-12-30T15:21:43.677Z"
   },
   {
    "duration": 0,
    "start_time": "2023-12-30T15:21:43.941Z"
   },
   {
    "duration": 0,
    "start_time": "2023-12-30T15:21:43.942Z"
   },
   {
    "duration": 0,
    "start_time": "2023-12-30T15:21:43.943Z"
   },
   {
    "duration": 0,
    "start_time": "2023-12-30T15:21:43.944Z"
   },
   {
    "duration": 0,
    "start_time": "2023-12-30T15:21:43.946Z"
   },
   {
    "duration": 0,
    "start_time": "2023-12-30T15:21:43.946Z"
   },
   {
    "duration": 0,
    "start_time": "2023-12-30T15:21:43.948Z"
   },
   {
    "duration": 0,
    "start_time": "2023-12-30T15:21:43.949Z"
   },
   {
    "duration": 77,
    "start_time": "2023-12-30T15:21:59.371Z"
   },
   {
    "duration": 5,
    "start_time": "2023-12-30T15:22:10.841Z"
   },
   {
    "duration": 48785,
    "start_time": "2023-12-30T15:22:12.701Z"
   },
   {
    "duration": 4,
    "start_time": "2023-12-30T15:23:01.488Z"
   },
   {
    "duration": 35,
    "start_time": "2023-12-30T15:23:01.494Z"
   },
   {
    "duration": 89,
    "start_time": "2023-12-30T15:23:01.531Z"
   },
   {
    "duration": 13,
    "start_time": "2023-12-30T15:23:01.621Z"
   },
   {
    "duration": 42,
    "start_time": "2023-12-30T15:23:01.636Z"
   },
   {
    "duration": 39,
    "start_time": "2023-12-30T15:23:01.679Z"
   },
   {
    "duration": 159,
    "start_time": "2023-12-30T15:23:01.720Z"
   },
   {
    "duration": 60,
    "start_time": "2024-01-01T10:27:52.251Z"
   },
   {
    "duration": 4,
    "start_time": "2024-01-01T10:30:17.157Z"
   },
   {
    "duration": 2503,
    "start_time": "2024-01-01T10:30:24.311Z"
   },
   {
    "duration": 6108,
    "start_time": "2024-01-01T10:30:26.816Z"
   },
   {
    "duration": 3392,
    "start_time": "2024-01-01T10:30:32.926Z"
   },
   {
    "duration": 3030,
    "start_time": "2024-01-01T10:30:36.320Z"
   },
   {
    "duration": 3740,
    "start_time": "2024-01-01T10:30:39.352Z"
   },
   {
    "duration": 2747,
    "start_time": "2024-01-01T10:30:43.094Z"
   },
   {
    "duration": 138,
    "start_time": "2024-01-01T10:30:45.843Z"
   },
   {
    "duration": 11,
    "start_time": "2024-01-01T10:30:45.983Z"
   },
   {
    "duration": 23,
    "start_time": "2024-01-01T10:30:45.996Z"
   },
   {
    "duration": 10,
    "start_time": "2024-01-01T10:30:46.021Z"
   },
   {
    "duration": 16,
    "start_time": "2024-01-01T10:30:46.033Z"
   },
   {
    "duration": 9,
    "start_time": "2024-01-01T10:30:46.050Z"
   },
   {
    "duration": 11,
    "start_time": "2024-01-01T10:30:46.060Z"
   },
   {
    "duration": 6,
    "start_time": "2024-01-01T10:30:46.072Z"
   },
   {
    "duration": 13,
    "start_time": "2024-01-01T10:30:46.079Z"
   },
   {
    "duration": 192,
    "start_time": "2024-01-01T10:30:46.093Z"
   },
   {
    "duration": 118,
    "start_time": "2024-01-01T10:30:46.286Z"
   },
   {
    "duration": 406,
    "start_time": "2024-01-01T10:30:46.406Z"
   },
   {
    "duration": 258,
    "start_time": "2024-01-01T10:30:46.814Z"
   },
   {
    "duration": 260,
    "start_time": "2024-01-01T10:30:47.074Z"
   },
   {
    "duration": 862,
    "start_time": "2024-01-01T10:30:47.336Z"
   },
   {
    "duration": 323,
    "start_time": "2024-01-01T10:30:48.200Z"
   },
   {
    "duration": 6,
    "start_time": "2024-01-01T10:30:48.525Z"
   },
   {
    "duration": 16,
    "start_time": "2024-01-01T10:30:48.533Z"
   },
   {
    "duration": 23,
    "start_time": "2024-01-01T10:30:48.551Z"
   },
   {
    "duration": 48,
    "start_time": "2024-01-01T10:32:15.637Z"
   },
   {
    "duration": 10,
    "start_time": "2024-01-01T10:32:22.690Z"
   },
   {
    "duration": 3,
    "start_time": "2024-01-01T10:32:23.226Z"
   },
   {
    "duration": 5,
    "start_time": "2024-01-01T10:32:28.655Z"
   },
   {
    "duration": 184,
    "start_time": "2024-01-01T10:35:42.533Z"
   },
   {
    "duration": 5,
    "start_time": "2024-01-01T10:36:10.215Z"
   },
   {
    "duration": 2,
    "start_time": "2024-01-01T10:36:15.152Z"
   },
   {
    "duration": 4,
    "start_time": "2024-01-01T10:36:22.100Z"
   },
   {
    "duration": 255714,
    "start_time": "2024-01-01T10:37:39.917Z"
   },
   {
    "duration": 6,
    "start_time": "2024-01-01T10:41:55.633Z"
   },
   {
    "duration": 37,
    "start_time": "2024-01-01T10:42:18.241Z"
   },
   {
    "duration": 260,
    "start_time": "2024-01-01T10:42:20.616Z"
   },
   {
    "duration": 21,
    "start_time": "2024-01-01T10:42:32.234Z"
   },
   {
    "duration": 5,
    "start_time": "2024-01-01T10:42:34.370Z"
   },
   {
    "duration": 60640,
    "start_time": "2024-01-01T10:43:18.391Z"
   },
   {
    "duration": 4,
    "start_time": "2024-01-01T10:44:19.032Z"
   },
   {
    "duration": 3,
    "start_time": "2024-01-01T10:44:34.181Z"
   },
   {
    "duration": 52989,
    "start_time": "2024-01-01T10:44:57.295Z"
   },
   {
    "duration": 5,
    "start_time": "2024-01-01T10:45:52.912Z"
   },
   {
    "duration": 4,
    "start_time": "2024-01-01T10:46:02.603Z"
   },
   {
    "duration": 77,
    "start_time": "2024-01-01T10:46:04.736Z"
   },
   {
    "duration": 15,
    "start_time": "2024-01-01T10:46:06.941Z"
   },
   {
    "duration": 7,
    "start_time": "2024-01-01T10:46:09.226Z"
   },
   {
    "duration": 26,
    "start_time": "2024-01-01T10:46:22.414Z"
   },
   {
    "duration": 2527,
    "start_time": "2024-01-01T10:47:00.968Z"
   },
   {
    "duration": 2785,
    "start_time": "2024-01-01T10:47:03.498Z"
   },
   {
    "duration": 2408,
    "start_time": "2024-01-01T10:47:06.285Z"
   },
   {
    "duration": 2418,
    "start_time": "2024-01-01T10:47:08.696Z"
   },
   {
    "duration": 2575,
    "start_time": "2024-01-01T10:47:11.116Z"
   },
   {
    "duration": 2479,
    "start_time": "2024-01-01T10:47:13.693Z"
   },
   {
    "duration": 55,
    "start_time": "2024-01-01T10:47:16.173Z"
   },
   {
    "duration": 12,
    "start_time": "2024-01-01T10:47:16.229Z"
   },
   {
    "duration": 17,
    "start_time": "2024-01-01T10:47:16.242Z"
   },
   {
    "duration": 9,
    "start_time": "2024-01-01T10:47:16.261Z"
   },
   {
    "duration": 15,
    "start_time": "2024-01-01T10:47:16.272Z"
   },
   {
    "duration": 14,
    "start_time": "2024-01-01T10:47:16.289Z"
   },
   {
    "duration": 24,
    "start_time": "2024-01-01T10:47:16.304Z"
   },
   {
    "duration": 13,
    "start_time": "2024-01-01T10:47:16.331Z"
   },
   {
    "duration": 18,
    "start_time": "2024-01-01T10:47:16.345Z"
   },
   {
    "duration": 181,
    "start_time": "2024-01-01T10:47:16.365Z"
   },
   {
    "duration": 107,
    "start_time": "2024-01-01T10:47:16.548Z"
   },
   {
    "duration": 350,
    "start_time": "2024-01-01T10:47:16.657Z"
   },
   {
    "duration": 222,
    "start_time": "2024-01-01T10:47:17.009Z"
   },
   {
    "duration": 225,
    "start_time": "2024-01-01T10:47:17.233Z"
   },
   {
    "duration": 665,
    "start_time": "2024-01-01T10:47:17.460Z"
   },
   {
    "duration": 314,
    "start_time": "2024-01-01T10:47:18.127Z"
   },
   {
    "duration": 3,
    "start_time": "2024-01-01T10:47:18.443Z"
   },
   {
    "duration": 5,
    "start_time": "2024-01-01T10:47:18.448Z"
   },
   {
    "duration": 16,
    "start_time": "2024-01-01T10:47:18.455Z"
   },
   {
    "duration": 3,
    "start_time": "2024-01-01T10:47:18.473Z"
   },
   {
    "duration": 14,
    "start_time": "2024-01-01T10:47:18.477Z"
   },
   {
    "duration": 4,
    "start_time": "2024-01-01T10:47:18.495Z"
   },
   {
    "duration": 32,
    "start_time": "2024-01-01T10:47:18.501Z"
   },
   {
    "duration": 255111,
    "start_time": "2024-01-01T10:47:18.535Z"
   },
   {
    "duration": 117,
    "start_time": "2024-01-01T10:51:33.731Z"
   },
   {
    "duration": 216,
    "start_time": "2024-01-01T10:51:33.850Z"
   },
   {
    "duration": 65,
    "start_time": "2024-01-01T10:51:34.068Z"
   },
   {
    "duration": 6,
    "start_time": "2024-01-01T10:51:34.135Z"
   },
   {
    "duration": 52844,
    "start_time": "2024-01-01T10:51:34.231Z"
   },
   {
    "duration": 4,
    "start_time": "2024-01-01T10:52:27.077Z"
   },
   {
    "duration": 5,
    "start_time": "2024-01-01T10:52:27.083Z"
   },
   {
    "duration": 90,
    "start_time": "2024-01-01T10:52:27.090Z"
   },
   {
    "duration": 18,
    "start_time": "2024-01-01T10:52:27.182Z"
   },
   {
    "duration": 7,
    "start_time": "2024-01-01T10:52:27.204Z"
   },
   {
    "duration": 196,
    "start_time": "2024-01-01T10:52:27.231Z"
   },
   {
    "duration": 0,
    "start_time": "2024-01-01T10:52:27.430Z"
   },
   {
    "duration": 34,
    "start_time": "2024-01-01T10:52:57.609Z"
   },
   {
    "duration": 23,
    "start_time": "2024-01-01T10:53:10.694Z"
   },
   {
    "duration": 31,
    "start_time": "2024-01-01T10:53:29.599Z"
   },
   {
    "duration": 33,
    "start_time": "2024-01-01T10:53:51.737Z"
   },
   {
    "duration": 26,
    "start_time": "2024-01-01T10:53:57.336Z"
   },
   {
    "duration": 32,
    "start_time": "2024-01-01T10:54:02.349Z"
   },
   {
    "duration": 32,
    "start_time": "2024-01-01T10:54:07.233Z"
   },
   {
    "duration": 34,
    "start_time": "2024-01-01T10:54:49.489Z"
   },
   {
    "duration": 33,
    "start_time": "2024-01-01T10:54:57.369Z"
   },
   {
    "duration": 30,
    "start_time": "2024-01-01T10:55:09.935Z"
   },
   {
    "duration": 32,
    "start_time": "2024-01-01T10:55:27.150Z"
   },
   {
    "duration": 32,
    "start_time": "2024-01-01T10:55:27.348Z"
   },
   {
    "duration": 2305,
    "start_time": "2024-01-01T10:55:32.050Z"
   },
   {
    "duration": 576,
    "start_time": "2024-01-01T10:55:34.357Z"
   },
   {
    "duration": 0,
    "start_time": "2024-01-01T10:55:34.936Z"
   },
   {
    "duration": 0,
    "start_time": "2024-01-01T10:55:34.938Z"
   },
   {
    "duration": 0,
    "start_time": "2024-01-01T10:55:34.940Z"
   },
   {
    "duration": 0,
    "start_time": "2024-01-01T10:55:34.941Z"
   },
   {
    "duration": 0,
    "start_time": "2024-01-01T10:55:34.942Z"
   },
   {
    "duration": 0,
    "start_time": "2024-01-01T10:55:34.943Z"
   },
   {
    "duration": 0,
    "start_time": "2024-01-01T10:55:34.944Z"
   },
   {
    "duration": 0,
    "start_time": "2024-01-01T10:55:34.946Z"
   },
   {
    "duration": 0,
    "start_time": "2024-01-01T10:55:34.947Z"
   },
   {
    "duration": 0,
    "start_time": "2024-01-01T10:55:34.948Z"
   },
   {
    "duration": 0,
    "start_time": "2024-01-01T10:55:34.949Z"
   },
   {
    "duration": 0,
    "start_time": "2024-01-01T10:55:34.950Z"
   },
   {
    "duration": 0,
    "start_time": "2024-01-01T10:55:34.952Z"
   },
   {
    "duration": 0,
    "start_time": "2024-01-01T10:55:34.953Z"
   },
   {
    "duration": 0,
    "start_time": "2024-01-01T10:55:34.955Z"
   },
   {
    "duration": 0,
    "start_time": "2024-01-01T10:55:34.956Z"
   },
   {
    "duration": 0,
    "start_time": "2024-01-01T10:55:34.958Z"
   },
   {
    "duration": 0,
    "start_time": "2024-01-01T10:55:35.031Z"
   },
   {
    "duration": 0,
    "start_time": "2024-01-01T10:55:35.032Z"
   },
   {
    "duration": 0,
    "start_time": "2024-01-01T10:55:35.033Z"
   },
   {
    "duration": 0,
    "start_time": "2024-01-01T10:55:35.034Z"
   },
   {
    "duration": 0,
    "start_time": "2024-01-01T10:55:35.036Z"
   },
   {
    "duration": 0,
    "start_time": "2024-01-01T10:55:35.036Z"
   },
   {
    "duration": 0,
    "start_time": "2024-01-01T10:55:35.037Z"
   },
   {
    "duration": 0,
    "start_time": "2024-01-01T10:55:35.039Z"
   },
   {
    "duration": 0,
    "start_time": "2024-01-01T10:55:35.040Z"
   },
   {
    "duration": 0,
    "start_time": "2024-01-01T10:55:35.041Z"
   },
   {
    "duration": 0,
    "start_time": "2024-01-01T10:55:35.042Z"
   },
   {
    "duration": 0,
    "start_time": "2024-01-01T10:55:35.043Z"
   },
   {
    "duration": 0,
    "start_time": "2024-01-01T10:55:35.044Z"
   },
   {
    "duration": 0,
    "start_time": "2024-01-01T10:55:35.045Z"
   },
   {
    "duration": 0,
    "start_time": "2024-01-01T10:55:35.046Z"
   },
   {
    "duration": 0,
    "start_time": "2024-01-01T10:55:35.047Z"
   },
   {
    "duration": 0,
    "start_time": "2024-01-01T10:55:35.047Z"
   },
   {
    "duration": 0,
    "start_time": "2024-01-01T10:55:35.049Z"
   },
   {
    "duration": 0,
    "start_time": "2024-01-01T10:55:35.050Z"
   },
   {
    "duration": 0,
    "start_time": "2024-01-01T10:55:35.051Z"
   },
   {
    "duration": 0,
    "start_time": "2024-01-01T10:55:35.052Z"
   },
   {
    "duration": 0,
    "start_time": "2024-01-01T10:55:35.053Z"
   },
   {
    "duration": 0,
    "start_time": "2024-01-01T10:55:35.054Z"
   },
   {
    "duration": 0,
    "start_time": "2024-01-01T10:55:35.054Z"
   },
   {
    "duration": 0,
    "start_time": "2024-01-01T10:55:35.131Z"
   },
   {
    "duration": 10,
    "start_time": "2024-01-01T10:55:56.668Z"
   },
   {
    "duration": 2382,
    "start_time": "2024-01-01T10:56:22.056Z"
   },
   {
    "duration": 2729,
    "start_time": "2024-01-01T10:56:24.440Z"
   },
   {
    "duration": 2299,
    "start_time": "2024-01-01T10:56:27.171Z"
   },
   {
    "duration": 2441,
    "start_time": "2024-01-01T10:56:29.473Z"
   },
   {
    "duration": 2406,
    "start_time": "2024-01-01T10:56:31.916Z"
   },
   {
    "duration": 2600,
    "start_time": "2024-01-01T10:56:34.325Z"
   },
   {
    "duration": 61,
    "start_time": "2024-01-01T10:56:36.927Z"
   },
   {
    "duration": 11,
    "start_time": "2024-01-01T10:56:36.989Z"
   },
   {
    "duration": 16,
    "start_time": "2024-01-01T10:56:37.002Z"
   },
   {
    "duration": 7,
    "start_time": "2024-01-01T10:56:37.020Z"
   },
   {
    "duration": 29,
    "start_time": "2024-01-01T10:56:37.030Z"
   },
   {
    "duration": 9,
    "start_time": "2024-01-01T10:56:37.061Z"
   },
   {
    "duration": 9,
    "start_time": "2024-01-01T10:56:37.071Z"
   },
   {
    "duration": 11,
    "start_time": "2024-01-01T10:56:37.082Z"
   },
   {
    "duration": 19,
    "start_time": "2024-01-01T10:56:37.095Z"
   },
   {
    "duration": 177,
    "start_time": "2024-01-01T10:56:37.115Z"
   },
   {
    "duration": 106,
    "start_time": "2024-01-01T10:56:37.294Z"
   },
   {
    "duration": 336,
    "start_time": "2024-01-01T10:56:37.401Z"
   },
   {
    "duration": 232,
    "start_time": "2024-01-01T10:56:37.739Z"
   },
   {
    "duration": 228,
    "start_time": "2024-01-01T10:56:37.972Z"
   },
   {
    "duration": 258,
    "start_time": "2024-01-01T10:56:38.202Z"
   },
   {
    "duration": 0,
    "start_time": "2024-01-01T10:56:38.462Z"
   },
   {
    "duration": 0,
    "start_time": "2024-01-01T10:56:38.463Z"
   },
   {
    "duration": 0,
    "start_time": "2024-01-01T10:56:38.464Z"
   },
   {
    "duration": 0,
    "start_time": "2024-01-01T10:56:38.465Z"
   },
   {
    "duration": 0,
    "start_time": "2024-01-01T10:56:38.467Z"
   },
   {
    "duration": 0,
    "start_time": "2024-01-01T10:56:38.468Z"
   },
   {
    "duration": 0,
    "start_time": "2024-01-01T10:56:38.470Z"
   },
   {
    "duration": 0,
    "start_time": "2024-01-01T10:56:38.471Z"
   },
   {
    "duration": 0,
    "start_time": "2024-01-01T10:56:38.473Z"
   },
   {
    "duration": 0,
    "start_time": "2024-01-01T10:56:38.474Z"
   },
   {
    "duration": 0,
    "start_time": "2024-01-01T10:56:38.476Z"
   },
   {
    "duration": 0,
    "start_time": "2024-01-01T10:56:38.477Z"
   },
   {
    "duration": 0,
    "start_time": "2024-01-01T10:56:38.479Z"
   },
   {
    "duration": 0,
    "start_time": "2024-01-01T10:56:38.480Z"
   },
   {
    "duration": 0,
    "start_time": "2024-01-01T10:56:38.481Z"
   },
   {
    "duration": 0,
    "start_time": "2024-01-01T10:56:38.483Z"
   },
   {
    "duration": 0,
    "start_time": "2024-01-01T10:56:38.484Z"
   },
   {
    "duration": 0,
    "start_time": "2024-01-01T10:56:38.486Z"
   },
   {
    "duration": 0,
    "start_time": "2024-01-01T10:56:38.487Z"
   },
   {
    "duration": 0,
    "start_time": "2024-01-01T10:56:38.488Z"
   },
   {
    "duration": 0,
    "start_time": "2024-01-01T10:56:38.490Z"
   },
   {
    "duration": 21,
    "start_time": "2024-01-01T10:57:12.684Z"
   },
   {
    "duration": 2464,
    "start_time": "2024-01-01T10:57:19.170Z"
   },
   {
    "duration": 2822,
    "start_time": "2024-01-01T10:57:21.636Z"
   },
   {
    "duration": 2313,
    "start_time": "2024-01-01T10:57:24.460Z"
   },
   {
    "duration": 2306,
    "start_time": "2024-01-01T10:57:26.775Z"
   },
   {
    "duration": 2373,
    "start_time": "2024-01-01T10:57:29.083Z"
   },
   {
    "duration": 2459,
    "start_time": "2024-01-01T10:57:31.458Z"
   },
   {
    "duration": 51,
    "start_time": "2024-01-01T10:57:33.919Z"
   },
   {
    "duration": 10,
    "start_time": "2024-01-01T10:57:33.972Z"
   },
   {
    "duration": 17,
    "start_time": "2024-01-01T10:57:33.983Z"
   },
   {
    "duration": 7,
    "start_time": "2024-01-01T10:57:34.002Z"
   },
   {
    "duration": 24,
    "start_time": "2024-01-01T10:57:34.010Z"
   },
   {
    "duration": 9,
    "start_time": "2024-01-01T10:57:34.035Z"
   },
   {
    "duration": 6,
    "start_time": "2024-01-01T10:57:34.045Z"
   },
   {
    "duration": 5,
    "start_time": "2024-01-01T10:57:34.052Z"
   },
   {
    "duration": 12,
    "start_time": "2024-01-01T10:57:34.058Z"
   },
   {
    "duration": 201,
    "start_time": "2024-01-01T10:57:34.071Z"
   },
   {
    "duration": 100,
    "start_time": "2024-01-01T10:57:34.273Z"
   },
   {
    "duration": 329,
    "start_time": "2024-01-01T10:57:34.374Z"
   },
   {
    "duration": 216,
    "start_time": "2024-01-01T10:57:34.705Z"
   },
   {
    "duration": 236,
    "start_time": "2024-01-01T10:57:34.923Z"
   },
   {
    "duration": 652,
    "start_time": "2024-01-01T10:57:35.161Z"
   },
   {
    "duration": 296,
    "start_time": "2024-01-01T10:57:35.814Z"
   },
   {
    "duration": 3,
    "start_time": "2024-01-01T10:57:36.112Z"
   },
   {
    "duration": 15,
    "start_time": "2024-01-01T10:57:36.117Z"
   },
   {
    "duration": 18,
    "start_time": "2024-01-01T10:57:36.133Z"
   },
   {
    "duration": 3,
    "start_time": "2024-01-01T10:57:36.153Z"
   },
   {
    "duration": 12,
    "start_time": "2024-01-01T10:57:36.157Z"
   },
   {
    "duration": 3,
    "start_time": "2024-01-01T10:57:36.173Z"
   },
   {
    "duration": 6,
    "start_time": "2024-01-01T10:57:36.178Z"
   },
   {
    "duration": 200834,
    "start_time": "2024-01-01T10:57:36.185Z"
   },
   {
    "duration": 0,
    "start_time": "2024-01-01T11:00:57.021Z"
   },
   {
    "duration": 0,
    "start_time": "2024-01-01T11:00:57.030Z"
   },
   {
    "duration": 0,
    "start_time": "2024-01-01T11:00:57.031Z"
   },
   {
    "duration": 0,
    "start_time": "2024-01-01T11:00:57.033Z"
   },
   {
    "duration": 0,
    "start_time": "2024-01-01T11:00:57.034Z"
   },
   {
    "duration": 0,
    "start_time": "2024-01-01T11:00:57.035Z"
   },
   {
    "duration": 0,
    "start_time": "2024-01-01T11:00:57.037Z"
   },
   {
    "duration": 0,
    "start_time": "2024-01-01T11:00:57.038Z"
   },
   {
    "duration": 0,
    "start_time": "2024-01-01T11:00:57.040Z"
   },
   {
    "duration": 1,
    "start_time": "2024-01-01T11:00:57.040Z"
   },
   {
    "duration": 0,
    "start_time": "2024-01-01T11:00:57.042Z"
   },
   {
    "duration": 0,
    "start_time": "2024-01-01T11:00:57.043Z"
   },
   {
    "duration": 4,
    "start_time": "2024-01-01T11:02:35.937Z"
   },
   {
    "duration": 2325,
    "start_time": "2024-01-01T11:02:41.991Z"
   },
   {
    "duration": 2883,
    "start_time": "2024-01-01T11:02:44.318Z"
   },
   {
    "duration": 2538,
    "start_time": "2024-01-01T11:02:47.203Z"
   },
   {
    "duration": 2379,
    "start_time": "2024-01-01T11:02:49.743Z"
   },
   {
    "duration": 2346,
    "start_time": "2024-01-01T11:02:52.124Z"
   },
   {
    "duration": 2749,
    "start_time": "2024-01-01T11:02:54.472Z"
   },
   {
    "duration": 60,
    "start_time": "2024-01-01T11:02:57.223Z"
   },
   {
    "duration": 15,
    "start_time": "2024-01-01T11:02:57.285Z"
   },
   {
    "duration": 31,
    "start_time": "2024-01-01T11:02:57.302Z"
   },
   {
    "duration": 11,
    "start_time": "2024-01-01T11:02:57.336Z"
   },
   {
    "duration": 32,
    "start_time": "2024-01-01T11:02:57.349Z"
   },
   {
    "duration": 24,
    "start_time": "2024-01-01T11:02:57.383Z"
   },
   {
    "duration": 10,
    "start_time": "2024-01-01T11:02:57.410Z"
   },
   {
    "duration": 26,
    "start_time": "2024-01-01T11:02:57.422Z"
   },
   {
    "duration": 16,
    "start_time": "2024-01-01T11:02:57.450Z"
   },
   {
    "duration": 238,
    "start_time": "2024-01-01T11:02:57.468Z"
   },
   {
    "duration": 149,
    "start_time": "2024-01-01T11:02:57.709Z"
   },
   {
    "duration": 371,
    "start_time": "2024-01-01T11:02:57.859Z"
   },
   {
    "duration": 255,
    "start_time": "2024-01-01T11:02:58.232Z"
   },
   {
    "duration": 264,
    "start_time": "2024-01-01T11:02:58.489Z"
   },
   {
    "duration": 763,
    "start_time": "2024-01-01T11:02:58.755Z"
   },
   {
    "duration": 342,
    "start_time": "2024-01-01T11:02:59.520Z"
   },
   {
    "duration": 4,
    "start_time": "2024-01-01T11:02:59.864Z"
   },
   {
    "duration": 8,
    "start_time": "2024-01-01T11:02:59.870Z"
   },
   {
    "duration": 19,
    "start_time": "2024-01-01T11:02:59.879Z"
   },
   {
    "duration": 3,
    "start_time": "2024-01-01T11:02:59.900Z"
   },
   {
    "duration": 35,
    "start_time": "2024-01-01T11:02:59.905Z"
   },
   {
    "duration": 4,
    "start_time": "2024-01-01T11:02:59.944Z"
   },
   {
    "duration": 9,
    "start_time": "2024-01-01T11:02:59.949Z"
   },
   {
    "duration": 252590,
    "start_time": "2024-01-01T11:02:59.959Z"
   },
   {
    "duration": 198,
    "start_time": "2024-01-01T11:07:12.551Z"
   },
   {
    "duration": 303,
    "start_time": "2024-01-01T11:07:12.751Z"
   },
   {
    "duration": 13,
    "start_time": "2024-01-01T11:07:13.056Z"
   },
   {
    "duration": 66,
    "start_time": "2024-01-01T11:07:13.071Z"
   },
   {
    "duration": 52481,
    "start_time": "2024-01-01T11:07:13.140Z"
   },
   {
    "duration": 10,
    "start_time": "2024-01-01T11:08:05.623Z"
   },
   {
    "duration": 37,
    "start_time": "2024-01-01T11:08:05.634Z"
   },
   {
    "duration": 99,
    "start_time": "2024-01-01T11:08:05.673Z"
   },
   {
    "duration": 13,
    "start_time": "2024-01-01T11:08:05.774Z"
   },
   {
    "duration": 31,
    "start_time": "2024-01-01T11:08:05.789Z"
   },
   {
    "duration": 78,
    "start_time": "2024-01-01T11:08:05.821Z"
   },
   {
    "duration": 39,
    "start_time": "2024-01-01T11:08:05.900Z"
   },
   {
    "duration": 4,
    "start_time": "2024-01-01T11:11:58.057Z"
   },
   {
    "duration": 5,
    "start_time": "2024-01-01T11:12:44.871Z"
   },
   {
    "duration": 14,
    "start_time": "2024-01-01T11:12:45.652Z"
   },
   {
    "duration": 3,
    "start_time": "2024-01-01T11:12:46.722Z"
   },
   {
    "duration": 10,
    "start_time": "2024-01-01T11:12:46.869Z"
   },
   {
    "duration": 4,
    "start_time": "2024-01-01T11:12:46.990Z"
   },
   {
    "duration": 4,
    "start_time": "2024-01-01T11:12:47.809Z"
   },
   {
    "duration": 251932,
    "start_time": "2024-01-01T11:12:50.200Z"
   },
   {
    "duration": 29,
    "start_time": "2024-01-01T11:17:29.820Z"
   },
   {
    "duration": 270,
    "start_time": "2024-01-01T11:17:33.176Z"
   },
   {
    "duration": 14,
    "start_time": "2024-01-01T11:17:33.698Z"
   },
   {
    "duration": 5,
    "start_time": "2024-01-01T11:17:34.970Z"
   },
   {
    "duration": 51298,
    "start_time": "2024-01-01T11:17:49.203Z"
   },
   {
    "duration": 3,
    "start_time": "2024-01-01T11:18:40.503Z"
   },
   {
    "duration": 4,
    "start_time": "2024-01-01T11:19:01.761Z"
   },
   {
    "duration": 104,
    "start_time": "2024-01-01T11:19:03.122Z"
   },
   {
    "duration": 14,
    "start_time": "2024-01-01T11:19:06.665Z"
   },
   {
    "duration": 5,
    "start_time": "2024-01-01T11:19:08.179Z"
   },
   {
    "duration": 12,
    "start_time": "2024-01-01T11:20:56.625Z"
   },
   {
    "duration": 6,
    "start_time": "2024-01-01T11:20:57.149Z"
   },
   {
    "duration": 10,
    "start_time": "2024-01-01T11:21:35.685Z"
   },
   {
    "duration": 6,
    "start_time": "2024-01-01T11:21:35.953Z"
   },
   {
    "duration": 48428,
    "start_time": "2024-01-01T11:21:59.838Z"
   },
   {
    "duration": 4,
    "start_time": "2024-01-01T11:23:03.151Z"
   },
   {
    "duration": 4,
    "start_time": "2024-01-01T11:23:13.032Z"
   },
   {
    "duration": 72,
    "start_time": "2024-01-01T11:23:13.372Z"
   },
   {
    "duration": 15,
    "start_time": "2024-01-01T11:23:13.715Z"
   },
   {
    "duration": 6,
    "start_time": "2024-01-01T11:23:14.524Z"
   },
   {
    "duration": 10,
    "start_time": "2024-01-01T11:23:24.731Z"
   },
   {
    "duration": 5,
    "start_time": "2024-01-01T11:23:25.075Z"
   },
   {
    "duration": 46824,
    "start_time": "2024-01-01T11:23:44.212Z"
   },
   {
    "duration": 3,
    "start_time": "2024-01-01T11:24:31.038Z"
   },
   {
    "duration": 3,
    "start_time": "2024-01-01T11:24:42.910Z"
   },
   {
    "duration": 68,
    "start_time": "2024-01-01T11:24:43.089Z"
   },
   {
    "duration": 14,
    "start_time": "2024-01-01T11:24:43.223Z"
   },
   {
    "duration": 7,
    "start_time": "2024-01-01T11:24:43.373Z"
   },
   {
    "duration": 46628,
    "start_time": "2024-01-01T11:26:07.531Z"
   },
   {
    "duration": 10,
    "start_time": "2024-01-01T11:26:55.293Z"
   },
   {
    "duration": 5,
    "start_time": "2024-01-01T11:26:55.467Z"
   },
   {
    "duration": 184,
    "start_time": "2024-01-01T11:28:57.324Z"
   },
   {
    "duration": 129,
    "start_time": "2024-01-01T11:29:32.705Z"
   },
   {
    "duration": 177,
    "start_time": "2024-01-01T11:29:54.311Z"
   },
   {
    "duration": 15,
    "start_time": "2024-01-01T11:30:21.790Z"
   },
   {
    "duration": 125,
    "start_time": "2024-01-01T11:31:02.690Z"
   },
   {
    "duration": 124,
    "start_time": "2024-01-01T11:31:09.831Z"
   },
   {
    "duration": 55,
    "start_time": "2024-01-01T11:33:41.165Z"
   },
   {
    "duration": 116,
    "start_time": "2024-01-01T11:33:43.005Z"
   },
   {
    "duration": 155,
    "start_time": "2024-01-01T11:33:45.625Z"
   },
   {
    "duration": 127,
    "start_time": "2024-01-01T11:35:08.584Z"
   },
   {
    "duration": 128,
    "start_time": "2024-01-01T11:35:14.024Z"
   },
   {
    "duration": 141,
    "start_time": "2024-01-01T11:35:23.859Z"
   },
   {
    "duration": 306,
    "start_time": "2024-01-01T11:35:29.768Z"
   },
   {
    "duration": 16,
    "start_time": "2024-01-01T11:37:50.588Z"
   },
   {
    "duration": 14,
    "start_time": "2024-01-01T11:38:35.679Z"
   },
   {
    "duration": 16,
    "start_time": "2024-01-01T11:39:36.496Z"
   },
   {
    "duration": 14,
    "start_time": "2024-01-01T11:39:38.821Z"
   },
   {
    "duration": 159,
    "start_time": "2024-01-01T11:39:46.341Z"
   },
   {
    "duration": 14,
    "start_time": "2024-01-01T11:40:30.058Z"
   },
   {
    "duration": 14,
    "start_time": "2024-01-01T11:40:37.397Z"
   },
   {
    "duration": 13,
    "start_time": "2024-01-01T11:40:41.811Z"
   },
   {
    "duration": 3,
    "start_time": "2024-01-01T11:40:55.341Z"
   },
   {
    "duration": 7,
    "start_time": "2024-01-01T11:40:58.383Z"
   },
   {
    "duration": 5,
    "start_time": "2024-01-01T11:41:04.168Z"
   },
   {
    "duration": 153,
    "start_time": "2024-01-01T11:41:35.864Z"
   },
   {
    "duration": 196,
    "start_time": "2024-01-01T11:41:50.185Z"
   },
   {
    "duration": 189,
    "start_time": "2024-01-01T11:41:58.219Z"
   },
   {
    "duration": 16,
    "start_time": "2024-01-01T11:42:29.180Z"
   },
   {
    "duration": 196,
    "start_time": "2024-01-01T11:43:40.687Z"
   },
   {
    "duration": 142,
    "start_time": "2024-01-01T11:45:25.579Z"
   },
   {
    "duration": 6,
    "start_time": "2024-01-01T11:45:43.383Z"
   },
   {
    "duration": 193,
    "start_time": "2024-01-01T11:45:51.788Z"
   },
   {
    "duration": 203,
    "start_time": "2024-01-01T11:46:04.476Z"
   },
   {
    "duration": 234,
    "start_time": "2024-01-01T11:46:47.171Z"
   },
   {
    "duration": 196,
    "start_time": "2024-01-01T11:47:26.994Z"
   },
   {
    "duration": 201,
    "start_time": "2024-01-01T11:47:36.791Z"
   },
   {
    "duration": 198,
    "start_time": "2024-01-01T11:48:04.994Z"
   },
   {
    "duration": 213,
    "start_time": "2024-01-01T11:49:00.237Z"
   },
   {
    "duration": 206,
    "start_time": "2024-01-01T11:49:34.519Z"
   },
   {
    "duration": 4,
    "start_time": "2024-01-01T11:49:41.385Z"
   },
   {
    "duration": 213,
    "start_time": "2024-01-01T11:49:43.258Z"
   },
   {
    "duration": 54,
    "start_time": "2024-01-01T11:51:37.535Z"
   }
  ],
  "kernelspec": {
   "display_name": "Python 3 (ipykernel)",
   "language": "python",
   "name": "python3"
  },
  "language_info": {
   "codemirror_mode": {
    "name": "ipython",
    "version": 3
   },
   "file_extension": ".py",
   "mimetype": "text/x-python",
   "name": "python",
   "nbconvert_exporter": "python",
   "pygments_lexer": "ipython3",
   "version": "3.11.7"
  },
  "toc": {
   "base_numbering": 1,
   "nav_menu": {},
   "number_sections": true,
   "sideBar": true,
   "skip_h1_title": true,
   "title_cell": "Содержание",
   "title_sidebar": "Contents",
   "toc_cell": true,
   "toc_position": {
    "height": "calc(100% - 180px)",
    "left": "10px",
    "top": "150px",
    "width": "243px"
   },
   "toc_section_display": true,
   "toc_window_display": true
  }
 },
 "nbformat": 4,
 "nbformat_minor": 4
}
